{
  "cells": [
    {
      "cell_type": "markdown",
      "metadata": {
        "id": "view-in-github",
        "colab_type": "text"
      },
      "source": [
        "<a href=\"https://colab.research.google.com/github/crakcode/MLFintech/blob/main/Lecture_Crawler.ipynb\" target=\"_parent\"><img src=\"https://colab.research.google.com/assets/colab-badge.svg\" alt=\"Open In Colab\"/></a>"
      ]
    },
    {
      "cell_type": "markdown",
      "source": [
        "# 리퀘스트와 뷰티풀수프를 이용한 크롤링"
      ],
      "metadata": {
        "id": "VO92sZLWLf7Q"
      },
      "id": "VO92sZLWLf7Q"
    },
    {
      "cell_type": "markdown",
      "id": "1c742ebd",
      "metadata": {
        "id": "1c742ebd"
      },
      "source": [
        "### requests.get을 이용한 웹 페이지 소스 수집"
      ]
    },
    {
      "cell_type": "code",
      "execution_count": null,
      "id": "2ffa581a",
      "metadata": {
        "id": "2ffa581a"
      },
      "outputs": [],
      "source": [
        "import requests\n",
        "url = \"https://news.daum.net/ranking/popular?regDate=20211015\"\n",
        "agent = \"Mozilla/5.0 (Windows NT 10.0; Win64; x64) AppleWebKit/537.36 (KHTML, like Gecko) Chrome/96.0.4664.45 Safari/537.36\"\n",
        "response = requests.get(url = url, headers = {\"User-Agent\":agent})\n",
        "\n",
        "print(\"hello world\")"
      ]
    },
    {
      "cell_type": "markdown",
      "id": "f3a2d2cd",
      "metadata": {
        "id": "f3a2d2cd"
      },
      "source": [
        "#### response 객체"
      ]
    },
    {
      "cell_type": "code",
      "execution_count": null,
      "id": "439176d1",
      "metadata": {
        "scrolled": true,
        "id": "439176d1",
        "outputId": "c3632278-7497-444f-f48c-1efe4ccdf326",
        "colab": {
          "base_uri": "https://localhost:8080/"
        }
      },
      "outputs": [
        {
          "output_type": "stream",
          "name": "stdout",
          "text": [
            "<class 'requests.models.Response'>\n"
          ]
        }
      ],
      "source": [
        "print(type(response))"
      ]
    },
    {
      "cell_type": "code",
      "execution_count": null,
      "id": "d24d21a7",
      "metadata": {
        "id": "d24d21a7",
        "outputId": "7d01e82a-246b-413f-c775-a3f93f59ee00",
        "colab": {
          "base_uri": "https://localhost:8080/"
        }
      },
      "outputs": [
        {
          "output_type": "stream",
          "name": "stdout",
          "text": [
            "200\n"
          ]
        }
      ],
      "source": [
        "print(response.status_code)"
      ]
    },
    {
      "cell_type": "code",
      "execution_count": null,
      "id": "cad4675f",
      "metadata": {
        "id": "cad4675f",
        "outputId": "f2e0b846-fb99-4035-cff2-2fc09d5d39cc",
        "colab": {
          "base_uri": "https://localhost:8080/"
        }
      },
      "outputs": [
        {
          "output_type": "stream",
          "name": "stdout",
          "text": [
            "\n",
            "<!DOCTYPE html>\n",
            "\n",
            "\n",
            "\n",
            "<html lang=\"ko\" class=\"os_windows chrome pc version_96_0_4664_45 \">\n",
            "<head>\n",
            "<meta charset=\"utf-8\">\n",
            "<meta name=\"referrer\" content=\"always\" />\n",
            "\n",
            "<meta property=\"og:author\" content=\"Dau\n",
            "========================================================================================================================================================================================================\n",
            "b'\\n<!DOCTYPE html>\\n\\n\\n\\n<html lang=\"ko\" class=\"os_windows chrome pc version_96_0_4664_45 \">\\n<head>\\n<meta charset=\"utf-8\">\\n<meta name=\"referrer\" content=\"always\" />\\n\\n<meta property=\"og:author\" content=\"Dau'\n"
          ]
        }
      ],
      "source": [
        "res_text = response.text\n",
        "res_content = response.content\n",
        "\n",
        "print(res_text[:200])\n",
        "print('=' * 200)\n",
        "print(res_content[:200])"
      ]
    },
    {
      "cell_type": "code",
      "execution_count": null,
      "id": "57b74e29",
      "metadata": {
        "id": "57b74e29",
        "outputId": "ac569a88-e3d3-48d4-aee7-e32f96de0246",
        "colab": {
          "base_uri": "https://localhost:8080/"
        }
      },
      "outputs": [
        {
          "output_type": "stream",
          "name": "stdout",
          "text": [
            "<class 'str'>\n",
            "<class 'bytes'>\n"
          ]
        }
      ],
      "source": [
        "print(type(res_text)) # <class \"str\">\n",
        "print(type(res_content)) # <class \"bytes\">"
      ]
    },
    {
      "cell_type": "markdown",
      "id": "fbd2851b",
      "metadata": {
        "id": "fbd2851b"
      },
      "source": [
        "### BeautifulSoup을 이용한 파싱"
      ]
    },
    {
      "cell_type": "code",
      "execution_count": null,
      "id": "07fca11f",
      "metadata": {
        "id": "07fca11f"
      },
      "outputs": [],
      "source": [
        "from bs4 import BeautifulSoup as BS"
      ]
    },
    {
      "cell_type": "code",
      "execution_count": null,
      "id": "c3d4ef94",
      "metadata": {
        "id": "c3d4ef94",
        "outputId": "035b774d-73b5-43a1-c6fd-9837c748e484",
        "colab": {
          "base_uri": "https://localhost:8080/"
        }
      },
      "outputs": [
        {
          "output_type": "stream",
          "name": "stdout",
          "text": [
            "<class 'bs4.BeautifulSoup'>\n"
          ]
        }
      ],
      "source": [
        "parsed_res_text = BS(res_text)\n",
        "print(type(parsed_res_text))"
      ]
    },
    {
      "cell_type": "markdown",
      "id": "4e6c7a9d",
      "metadata": {
        "id": "4e6c7a9d"
      },
      "source": [
        "#### find와 find_all 메서드"
      ]
    },
    {
      "cell_type": "code",
      "execution_count": null,
      "id": "7de9ebb3",
      "metadata": {
        "id": "7de9ebb3",
        "outputId": "a5d5fa7d-424b-499e-81a9-780119c612dd",
        "colab": {
          "base_uri": "https://localhost:8080/"
        }
      },
      "outputs": [
        {
          "output_type": "stream",
          "name": "stdout",
          "text": [
            "<ul class=\"doc-relate\" data-tiara-layer=\"GNB service\">\n",
            "<li><a class=\"link_services\" data-tiara-layer=\"enter\" href=\"https://entertain.daum.net\">연예</a></li>\n",
            "<li><a class=\"link_services\" data-tiara-layer=\"sports\" href=\"https://sports.daum.net\">스포츠</a></li>\n",
            "</ul>\n"
          ]
        }
      ],
      "source": [
        "# 첫 번째 ul 태그 찾기\n",
        "print(parsed_res_text.find(\"ul\"))"
      ]
    },
    {
      "cell_type": "code",
      "execution_count": null,
      "id": "b88343c8",
      "metadata": {
        "id": "b88343c8"
      },
      "outputs": [],
      "source": [
        "# 세 번째 위치의 ul 태그 찾기\n",
        "print(parsed_res_text.find_all(\"ul\")[3])"
      ]
    },
    {
      "cell_type": "code",
      "execution_count": null,
      "id": "8fd00c72",
      "metadata": {
        "id": "8fd00c72",
        "outputId": "f85ddbb3-c175-4abd-cc22-94c4affa650d",
        "colab": {
          "base_uri": "https://localhost:8080/"
        }
      },
      "outputs": [
        {
          "output_type": "stream",
          "name": "stdout",
          "text": [
            "<span class=\"txt_info\">YTN</span>\n"
          ]
        }
      ],
      "source": [
        "# class 속성이 info_news인 첫 번째 span 태그 찾기\n",
        "# print(parsed_res_text.find(\"span\", attrs = {\"class\":\"info_news\"}))\n",
        "print(parsed_res_text.find(\"span\", attrs = {\"class\":\"txt_info\"}))"
      ]
    },
    {
      "cell_type": "code",
      "execution_count": null,
      "id": "7365e3c7",
      "metadata": {
        "id": "7365e3c7",
        "outputId": "f9017fc8-6b6d-426c-d30f-ce25f16dd754",
        "colab": {
          "base_uri": "https://localhost:8080/"
        }
      },
      "outputs": [
        {
          "output_type": "stream",
          "name": "stdout",
          "text": [
            "[]\n"
          ]
        }
      ],
      "source": [
        "# 내용이 조선 일보인 모든 span 태그 찾기\n",
        "print(parsed_res_text.find_all(\"span\", text = \"서울신문\"))"
      ]
    },
    {
      "cell_type": "code",
      "execution_count": null,
      "id": "963ba6da",
      "metadata": {
        "id": "963ba6da",
        "outputId": "82e56bfb-b694-4c0a-e335-791776112c7b",
        "colab": {
          "base_uri": "https://localhost:8080/"
        }
      },
      "outputs": [
        {
          "output_type": "stream",
          "name": "stdout",
          "text": [
            "<class 'bs4.element.Tag'>\n"
          ]
        }
      ],
      "source": [
        "#ul_tag = parsed_res_text.find(\"ul\", attrs = {\"class\":\"list_news2\"})\n",
        "ul_tag = parsed_res_text.find(\"div\", attrs = {\"class\":\"box_g box_news_issue\"})\n",
        "print(type(ul_tag))"
      ]
    },
    {
      "cell_type": "code",
      "execution_count": null,
      "id": "146b76e5",
      "metadata": {
        "id": "146b76e5"
      },
      "outputs": [],
      "source": [
        "li_list = ul_tag.find_all(\"li\")"
      ]
    },
    {
      "cell_type": "code",
      "execution_count": null,
      "id": "31dc1566",
      "metadata": {
        "id": "31dc1566",
        "outputId": "dd6b2e96-0a2d-4a8d-8f94-5523a6630617",
        "colab": {
          "base_uri": "https://localhost:8080/"
        }
      },
      "outputs": [
        {
          "output_type": "execute_result",
          "data": {
            "text/plain": [
              "<li>\n",
              "<div class=\"item_issue\" data-tiara-layer=\"headline1\">\n",
              "<a class=\"wrap_thumb\" data-tiara-custom=\"contentUniqueKey=hamny-20220603230851095\" data-tiara-id=\"20220603230851095\" data-tiara-layer=\"article_main\" data-tiara-ordnum=\"1\" data-tiara-type=\"harmony\" href=\"https://v.daum.net/v/20220603230851095\">\n",
              "<img alt=\"\" class=\"thumb_g\" src=\"https://img1.daumcdn.net/thumb/S96x60ht.u/?fname=https%3A%2F%2Ft1.daumcdn.net%2Fnews%2F202206%2F03%2Fyonhap%2F20220603230851302nugd.jpg&amp;scode=media\"/>\n",
              "</a>\n",
              "<div class=\"cont_thumb\">\n",
              "<span class=\"info_thumb\">\n",
              "<span class=\"logo_cp\">\n",
              "<img alt=\"연합뉴스\" class=\"thumb_g\" src=\"https://t1.daumcdn.net/media/news/news2016/cp/cp_yonhap.gif\"/>\n",
              "</span>\n",
              "<span class=\"txt_category\">국제</span>\n",
              "</span>\n",
              "<strong class=\"tit_g\">\n",
              "<a class=\"link_txt\" data-tiara-custom=\"contentUniqueKey=hamny-20220603230851095\" data-tiara-id=\"20220603230851095\" data-tiara-layer=\"article_main\" data-tiara-ordnum=\"1\" data-tiara-type=\"harmony\" href=\"https://v.daum.net/v/20220603230851095\">\n",
              "                                    개전 100일 맞은 젤렌스키 \"승리는 우리의 것\"[우크라 침공]\n",
              "                                </a>\n",
              "</strong>\n",
              "</div>\n",
              "</div>\n",
              "</li>"
            ]
          },
          "metadata": {},
          "execution_count": 14
        }
      ],
      "source": [
        "li_list[0]"
      ]
    },
    {
      "cell_type": "code",
      "execution_count": null,
      "id": "fcf97b07",
      "metadata": {
        "id": "fcf97b07",
        "colab": {
          "base_uri": "https://localhost:8080/"
        },
        "outputId": "dd96a06d-6cf7-4161-f85e-677cf5f1b563"
      },
      "outputs": [
        {
          "output_type": "stream",
          "name": "stdout",
          "text": [
            "<a class=\"link_txt\" data-tiara-custom=\"contentUniqueKey=hamny-20220603230851095\" data-tiara-id=\"20220603230851095\" data-tiara-layer=\"article_main\" data-tiara-ordnum=\"1\" data-tiara-type=\"harmony\" href=\"https://v.daum.net/v/20220603230851095\">\n",
            "                                    개전 100일 맞은 젤렌스키 \"승리는 우리의 것\"[우크라 침공]\n",
            "                                </a>\n"
          ]
        }
      ],
      "source": [
        "news_name = li_list[0].find(\"a\", attrs = {\"class\":\"link_txt\"})\n",
        "print(news_name) "
      ]
    },
    {
      "cell_type": "code",
      "source": [
        "# print(parsed_res_text.find(\"span\", attrs = {\"class\":\"txt_info\"}))"
      ],
      "metadata": {
        "id": "9Y9PY2FmwV4z"
      },
      "id": "9Y9PY2FmwV4z",
      "execution_count": null,
      "outputs": []
    },
    {
      "cell_type": "code",
      "source": [
        "li_list[0].select('img')[1]['alt']"
      ],
      "metadata": {
        "colab": {
          "base_uri": "https://localhost:8080/"
        },
        "id": "GxuiFeMW_iZv",
        "outputId": "c24f8a92-ff2d-41bf-cfe5-c30c7703c5da"
      },
      "id": "GxuiFeMW_iZv",
      "execution_count": null,
      "outputs": [
        {
          "output_type": "execute_result",
          "data": {
            "text/plain": [
              "'연합뉴스'"
            ],
            "application/vnd.google.colaboratory.intrinsic+json": {
              "type": "string"
            }
          },
          "metadata": {},
          "execution_count": 17
        }
      ]
    },
    {
      "cell_type": "code",
      "execution_count": null,
      "id": "4f311369",
      "metadata": {
        "id": "4f311369",
        "outputId": "b48f95c8-98c2-4e70-b7b6-dab1a3562cf5",
        "colab": {
          "base_uri": "https://localhost:8080/"
        }
      },
      "outputs": [
        {
          "output_type": "stream",
          "name": "stdout",
          "text": [
            "연합뉴스\n"
          ]
        }
      ],
      "source": [
        "#press_name = li_list[0].find(\"span\", attrs = {\"class\":\"info_news\"})\n",
        "press_name = li_list[0].select('img')[1]['alt']\n",
        "print(press_name) "
      ]
    },
    {
      "cell_type": "markdown",
      "id": "f1e405fc",
      "metadata": {
        "id": "f1e405fc"
      },
      "source": [
        "#### 속성을 이용한 값 가져오기"
      ]
    },
    {
      "cell_type": "code",
      "execution_count": null,
      "id": "715ed969",
      "metadata": {
        "id": "715ed969",
        "outputId": "dad52d5d-3ee3-4da3-d633-82a1b9988664",
        "colab": {
          "base_uri": "https://localhost:8080/"
        }
      },
      "outputs": [
        {
          "output_type": "stream",
          "name": "stdout",
          "text": [
            "https://v.daum.net/v/20220603230851095\n"
          ]
        }
      ],
      "source": [
        "print(news_name[\"href\"])"
      ]
    },
    {
      "cell_type": "code",
      "execution_count": null,
      "id": "db603c80",
      "metadata": {
        "id": "db603c80",
        "outputId": "ec12e271-e67d-4b12-c753-0f518e547d12",
        "colab": {
          "base_uri": "https://localhost:8080/"
        }
      },
      "outputs": [
        {
          "output_type": "stream",
          "name": "stdout",
          "text": [
            "\n",
            "                                    개전 100일 맞은 젤렌스키 \"승리는 우리의 것\"[우크라 침공]\n",
            "                                \n"
          ]
        }
      ],
      "source": [
        "print(news_name.text)"
      ]
    },
    {
      "cell_type": "code",
      "execution_count": null,
      "id": "1786d015",
      "metadata": {
        "id": "1786d015",
        "outputId": "fb68e837-0119-44a0-baa1-eff87d368b4b",
        "colab": {
          "base_uri": "https://localhost:8080/"
        }
      },
      "outputs": [
        {
          "output_type": "stream",
          "name": "stdout",
          "text": [
            "연합뉴스\n"
          ]
        }
      ],
      "source": [
        "print(press_name)"
      ]
    },
    {
      "cell_type": "code",
      "execution_count": null,
      "id": "94a10e95",
      "metadata": {
        "id": "94a10e95",
        "outputId": "b91d4196-4cc6-4780-8d8e-63ad11bbf1f7",
        "colab": {
          "base_uri": "https://localhost:8080/"
        }
      },
      "outputs": [
        {
          "output_type": "display_data",
          "data": {
            "text/plain": [
              "                                                 뉴스명  언론사명  \\\n",
              "0                                      개전 100일 맞은...  연합뉴스   \n",
              "1                                      中이 반도체 공장 ...   뉴시스   \n",
              "2                                      美국무부 부장관, ...  연합뉴스   \n",
              "3                                      민주 \"文 사저 앞...  연합뉴스   \n",
              "4                                      민주당 내전 \"당권...   YTN   \n",
              "5                                      아마존 킨들·링크트...  조선일보   \n",
              "6                                      미 일자리 39만개...  이데일리   \n",
              "7                                      국힘, 혁신위서 공...  연합뉴스   \n",
              "8                                      정부, 가뭄 확산에...   뉴시스   \n",
              "9                                      내 폰은 왜 고속 ...  IT동아   \n",
              "\n",
              "                                     뉴스링크  \n",
              "0  https://v.daum.net/v/20220603230851095  \n",
              "1  https://v.daum.net/v/20220603230740085  \n",
              "2  https://v.daum.net/v/20220603230142038  \n",
              "3  https://v.daum.net/v/20220603225925025  \n",
              "4  https://v.daum.net/v/20220603225820017  \n",
              "5  https://v.daum.net/v/20220603225610997  \n",
              "6  https://v.daum.net/v/20220603224532875  \n",
              "7  https://v.daum.net/v/20220603224118851  \n",
              "8  https://v.daum.net/v/20220603223835815  \n",
              "9  https://v.daum.net/v/20220603223001720  "
            ],
            "text/html": [
              "\n",
              "  <div id=\"df-0ef0c940-9d85-4e8d-9734-d657397af174\">\n",
              "    <div class=\"colab-df-container\">\n",
              "      <div>\n",
              "<style scoped>\n",
              "    .dataframe tbody tr th:only-of-type {\n",
              "        vertical-align: middle;\n",
              "    }\n",
              "\n",
              "    .dataframe tbody tr th {\n",
              "        vertical-align: top;\n",
              "    }\n",
              "\n",
              "    .dataframe thead th {\n",
              "        text-align: right;\n",
              "    }\n",
              "</style>\n",
              "<table border=\"1\" class=\"dataframe\">\n",
              "  <thead>\n",
              "    <tr style=\"text-align: right;\">\n",
              "      <th></th>\n",
              "      <th>뉴스명</th>\n",
              "      <th>언론사명</th>\n",
              "      <th>뉴스링크</th>\n",
              "    </tr>\n",
              "  </thead>\n",
              "  <tbody>\n",
              "    <tr>\n",
              "      <th>0</th>\n",
              "      <td>개전 100일 맞은...</td>\n",
              "      <td>연합뉴스</td>\n",
              "      <td>https://v.daum.net/v/20220603230851095</td>\n",
              "    </tr>\n",
              "    <tr>\n",
              "      <th>1</th>\n",
              "      <td>中이 반도체 공장 ...</td>\n",
              "      <td>뉴시스</td>\n",
              "      <td>https://v.daum.net/v/20220603230740085</td>\n",
              "    </tr>\n",
              "    <tr>\n",
              "      <th>2</th>\n",
              "      <td>美국무부 부장관, ...</td>\n",
              "      <td>연합뉴스</td>\n",
              "      <td>https://v.daum.net/v/20220603230142038</td>\n",
              "    </tr>\n",
              "    <tr>\n",
              "      <th>3</th>\n",
              "      <td>민주 \"文 사저 앞...</td>\n",
              "      <td>연합뉴스</td>\n",
              "      <td>https://v.daum.net/v/20220603225925025</td>\n",
              "    </tr>\n",
              "    <tr>\n",
              "      <th>4</th>\n",
              "      <td>민주당 내전 \"당권...</td>\n",
              "      <td>YTN</td>\n",
              "      <td>https://v.daum.net/v/20220603225820017</td>\n",
              "    </tr>\n",
              "    <tr>\n",
              "      <th>5</th>\n",
              "      <td>아마존 킨들·링크트...</td>\n",
              "      <td>조선일보</td>\n",
              "      <td>https://v.daum.net/v/20220603225610997</td>\n",
              "    </tr>\n",
              "    <tr>\n",
              "      <th>6</th>\n",
              "      <td>미 일자리 39만개...</td>\n",
              "      <td>이데일리</td>\n",
              "      <td>https://v.daum.net/v/20220603224532875</td>\n",
              "    </tr>\n",
              "    <tr>\n",
              "      <th>7</th>\n",
              "      <td>국힘, 혁신위서 공...</td>\n",
              "      <td>연합뉴스</td>\n",
              "      <td>https://v.daum.net/v/20220603224118851</td>\n",
              "    </tr>\n",
              "    <tr>\n",
              "      <th>8</th>\n",
              "      <td>정부, 가뭄 확산에...</td>\n",
              "      <td>뉴시스</td>\n",
              "      <td>https://v.daum.net/v/20220603223835815</td>\n",
              "    </tr>\n",
              "    <tr>\n",
              "      <th>9</th>\n",
              "      <td>내 폰은 왜 고속 ...</td>\n",
              "      <td>IT동아</td>\n",
              "      <td>https://v.daum.net/v/20220603223001720</td>\n",
              "    </tr>\n",
              "  </tbody>\n",
              "</table>\n",
              "</div>\n",
              "      <button class=\"colab-df-convert\" onclick=\"convertToInteractive('df-0ef0c940-9d85-4e8d-9734-d657397af174')\"\n",
              "              title=\"Convert this dataframe to an interactive table.\"\n",
              "              style=\"display:none;\">\n",
              "        \n",
              "  <svg xmlns=\"http://www.w3.org/2000/svg\" height=\"24px\"viewBox=\"0 0 24 24\"\n",
              "       width=\"24px\">\n",
              "    <path d=\"M0 0h24v24H0V0z\" fill=\"none\"/>\n",
              "    <path d=\"M18.56 5.44l.94 2.06.94-2.06 2.06-.94-2.06-.94-.94-2.06-.94 2.06-2.06.94zm-11 1L8.5 8.5l.94-2.06 2.06-.94-2.06-.94L8.5 2.5l-.94 2.06-2.06.94zm10 10l.94 2.06.94-2.06 2.06-.94-2.06-.94-.94-2.06-.94 2.06-2.06.94z\"/><path d=\"M17.41 7.96l-1.37-1.37c-.4-.4-.92-.59-1.43-.59-.52 0-1.04.2-1.43.59L10.3 9.45l-7.72 7.72c-.78.78-.78 2.05 0 2.83L4 21.41c.39.39.9.59 1.41.59.51 0 1.02-.2 1.41-.59l7.78-7.78 2.81-2.81c.8-.78.8-2.07 0-2.86zM5.41 20L4 18.59l7.72-7.72 1.47 1.35L5.41 20z\"/>\n",
              "  </svg>\n",
              "      </button>\n",
              "      \n",
              "  <style>\n",
              "    .colab-df-container {\n",
              "      display:flex;\n",
              "      flex-wrap:wrap;\n",
              "      gap: 12px;\n",
              "    }\n",
              "\n",
              "    .colab-df-convert {\n",
              "      background-color: #E8F0FE;\n",
              "      border: none;\n",
              "      border-radius: 50%;\n",
              "      cursor: pointer;\n",
              "      display: none;\n",
              "      fill: #1967D2;\n",
              "      height: 32px;\n",
              "      padding: 0 0 0 0;\n",
              "      width: 32px;\n",
              "    }\n",
              "\n",
              "    .colab-df-convert:hover {\n",
              "      background-color: #E2EBFA;\n",
              "      box-shadow: 0px 1px 2px rgba(60, 64, 67, 0.3), 0px 1px 3px 1px rgba(60, 64, 67, 0.15);\n",
              "      fill: #174EA6;\n",
              "    }\n",
              "\n",
              "    [theme=dark] .colab-df-convert {\n",
              "      background-color: #3B4455;\n",
              "      fill: #D2E3FC;\n",
              "    }\n",
              "\n",
              "    [theme=dark] .colab-df-convert:hover {\n",
              "      background-color: #434B5C;\n",
              "      box-shadow: 0px 1px 3px 1px rgba(0, 0, 0, 0.15);\n",
              "      filter: drop-shadow(0px 1px 2px rgba(0, 0, 0, 0.3));\n",
              "      fill: #FFFFFF;\n",
              "    }\n",
              "  </style>\n",
              "\n",
              "      <script>\n",
              "        const buttonEl =\n",
              "          document.querySelector('#df-0ef0c940-9d85-4e8d-9734-d657397af174 button.colab-df-convert');\n",
              "        buttonEl.style.display =\n",
              "          google.colab.kernel.accessAllowed ? 'block' : 'none';\n",
              "\n",
              "        async function convertToInteractive(key) {\n",
              "          const element = document.querySelector('#df-0ef0c940-9d85-4e8d-9734-d657397af174');\n",
              "          const dataTable =\n",
              "            await google.colab.kernel.invokeFunction('convertToInteractive',\n",
              "                                                     [key], {});\n",
              "          if (!dataTable) return;\n",
              "\n",
              "          const docLinkHtml = 'Like what you see? Visit the ' +\n",
              "            '<a target=\"_blank\" href=https://colab.research.google.com/notebooks/data_table.ipynb>data table notebook</a>'\n",
              "            + ' to learn more about interactive tables.';\n",
              "          element.innerHTML = '';\n",
              "          dataTable['output_type'] = 'display_data';\n",
              "          await google.colab.output.renderOutput(dataTable, element);\n",
              "          const docLink = document.createElement('div');\n",
              "          docLink.innerHTML = docLinkHtml;\n",
              "          element.appendChild(docLink);\n",
              "        }\n",
              "      </script>\n",
              "    </div>\n",
              "  </div>\n",
              "  "
            ]
          },
          "metadata": {}
        }
      ],
      "source": [
        "import pandas as pd \n",
        "# 빈 리스트로 초기화\n",
        "news_name_list = []\n",
        "news_link_list = []\n",
        "press_name_list = []\n",
        "for li in li_list: # li를 li_list를 순회하면서\n",
        "    try:\n",
        "        # class가 link_txt인 a 태그를 news_name_tag에 저장\n",
        "        news_name_tag = li.find(\"a\", attrs = {\"class\":\"link_txt\"})\n",
        "        #  press_name_tag = li.find(\"span\", attrs = {\"class\":\"txt_info\"})\n",
        "\n",
        "        news_name = news_name_tag.text.replace(\"\\n\", \"\")\n",
        "        press_name = li.select('img')[1]['alt']\n",
        "        news_link = news_name_tag[\"href\"]\n",
        "\n",
        "        news_name_list.append(news_name)\n",
        "        press_name_list.append(press_name)\n",
        "        news_link_list.append(news_link)\n",
        "    except:\n",
        "        pass\n",
        "\n",
        "data = pd.DataFrame({\"뉴스명\":news_name_list, \n",
        "                     \"언론사명\":press_name_list,\n",
        "                    \"뉴스링크\":news_link_list})\n",
        "\n",
        "display(data.head(10)) "
      ]
    },
    {
      "cell_type": "code",
      "execution_count": null,
      "id": "92c6e3d0",
      "metadata": {
        "id": "92c6e3d0"
      },
      "outputs": [],
      "source": [
        ""
      ]
    },
    {
      "cell_type": "markdown",
      "source": [
        "# 증권사 종목 리포트 크롤링하기(프로젝트)\n"
      ],
      "metadata": {
        "id": "dl7vQq8KLyTN"
      },
      "id": "dl7vQq8KLyTN"
    },
    {
      "cell_type": "markdown",
      "source": [
        "## 구글 드라이브 연경"
      ],
      "metadata": {
        "id": "hDzzLsVh4KLM"
      },
      "id": "hDzzLsVh4KLM"
    },
    {
      "cell_type": "code",
      "source": [
        "import os \n",
        "from google.colab import drive\n",
        "drive.mount('/content/drive')\n",
        "os.chdir(\"/content/drive/MyDrive/금융특화 계층별 AI역량강화 교안/실습1_5. 웹 크롤링과 금융 데이터/\")"
      ],
      "metadata": {
        "colab": {
          "base_uri": "https://localhost:8080/"
        },
        "id": "9ZiWzk3t4OQR",
        "outputId": "efdb4db4-e724-484a-d9f3-70bb4556a305"
      },
      "execution_count": null,
      "outputs": [
        {
          "output_type": "stream",
          "name": "stdout",
          "text": [
            "Mounted at /content/drive\n"
          ]
        }
      ],
      "id": "9ZiWzk3t4OQR"
    },
    {
      "cell_type": "markdown",
      "metadata": {
        "id": "e72df93a"
      },
      "source": [
        "#### 파이썬을 이용한 리포트 수집"
      ],
      "id": "e72df93a"
    },
    {
      "cell_type": "code",
      "execution_count": null,
      "metadata": {
        "id": "59297097"
      },
      "outputs": [],
      "source": [
        "import requests\n",
        "from tqdm import tqdm\n",
        "from bs4 import BeautifulSoup as BS"
      ],
      "id": "59297097"
    },
    {
      "cell_type": "code",
      "execution_count": null,
      "metadata": {
        "id": "b328f5e6"
      },
      "outputs": [],
      "source": [
        "url = \"http://www.paxnet.co.kr/stock/report/report?wlog_rpt=jm&menuCode=2222\"\n",
        "response = requests.get(url)\n",
        "html = response.content\n",
        "html = BS(html)"
      ],
      "id": "b328f5e6"
    },
    {
      "cell_type": "code",
      "execution_count": null,
      "metadata": {
        "id": "3fd54425"
      },
      "outputs": [],
      "source": [
        "div = html.find(\"div\", attrs = {\"class\":\"board-type\"})\n",
        "li_list = div.find_all(\"li\")"
      ],
      "id": "3fd54425"
    },
    {
      "cell_type": "markdown",
      "metadata": {
        "id": "f95feeff"
      },
      "source": [
        "#### 수집 대상 행 결정"
      ],
      "id": "f95feeff"
    },
    {
      "cell_type": "code",
      "execution_count": null,
      "metadata": {
        "colab": {
          "base_uri": "https://localhost:8080/"
        },
        "id": "c19588ad",
        "outputId": "5a88515f-5f35-432e-cf15-d2f27d67fed2"
      },
      "outputs": [
        {
          "output_type": "stream",
          "name": "stdout",
          "text": [
            "<li class=\"board-list-th\">\n",
            "<div>종목</div>\n",
            "<div>제목</div>\n",
            "<div class=\"right\">적정가격</div>\n",
            "<div>투자의견</div>\n",
            "<div>제공출처</div>\n",
            "<div class=\"cent\">작성일</div>\n",
            "</li>\n"
          ]
        }
      ],
      "source": [
        "print(li_list[0])"
      ],
      "id": "c19588ad"
    },
    {
      "cell_type": "code",
      "execution_count": null,
      "metadata": {
        "colab": {
          "base_uri": "https://localhost:8080/"
        },
        "id": "5c33e534",
        "outputId": "05a803e5-5c34-44d4-f101-32b9f34933d7"
      },
      "outputs": [
        {
          "output_type": "stream",
          "name": "stdout",
          "text": [
            "<li>\n",
            "<div><strong class=\"color-cate\"><span class=\"bracket\">[</span><a href=\"http://www.paxnet.co.kr/stock/analysis/main?wlog_rpt=list_jm&amp;abbrSymbol=045390\">대아티아이</a><span class=\"bracket\">]</span></strong></div>\n",
            "<div>\n",
            "<p>\n",
            "<a href=\"javascript:selectView('137005');\">철도 산업의 미래는 대아티아이가 중심 </a>\n",
            "</p>\n",
            "</div>\n",
            "<div class=\"line3\">\n",
            "<span>적정가격</span>\r\n",
            "\t \t\t\t\t\t\t\t\t\r\n",
            "\t\t\t\t\t\t\t\t\t\t\r\n",
            "\t\t\t\t\t\t\t\t\t\t\r\n",
            "\t\t\t\t\t\t\t\t\t\t\t-원\r\n",
            "\t\t\t\t\t\t\t\t\t\t\r\n",
            "\t\t\t\t\t\t\t\t\t\r\n",
            "\t\t\t\t\t\t\t\t</div>\n",
            "<div class=\"line3 color-black\">\r\n",
            "\t\t\t\t\t\t\t\t\t-\r\n",
            "\t\t\t\t\t\t\t\t</div>\n",
            "<div class=\"line3\">SK증권</div>\n",
            "<div class=\"line3\">2022.06.03</div>\n",
            "</li>\n"
          ]
        }
      ],
      "source": [
        "print(li_list[1])"
      ],
      "id": "5c33e534"
    },
    {
      "cell_type": "code",
      "execution_count": null,
      "metadata": {
        "colab": {
          "base_uri": "https://localhost:8080/"
        },
        "id": "f3bc34b8",
        "outputId": "da279746-6302-4005-a640-161a2a1f7b41"
      },
      "outputs": [
        {
          "output_type": "stream",
          "name": "stdout",
          "text": [
            "<li><a href=\"#\" onclick=\"linkPage(5); return false;\">5</a></li>\n"
          ]
        }
      ],
      "source": [
        "print(li_list[-1])"
      ],
      "id": "f3bc34b8"
    },
    {
      "cell_type": "code",
      "execution_count": null,
      "metadata": {
        "id": "ca9dabc0"
      },
      "outputs": [],
      "source": [
        "check_str = '<strong class=\"color-cate\"><span class=\"bracket\">'"
      ],
      "id": "ca9dabc0"
    },
    {
      "cell_type": "code",
      "execution_count": null,
      "metadata": {
        "colab": {
          "base_uri": "https://localhost:8080/"
        },
        "id": "2860ba6d",
        "outputId": "ee55cfdc-bef9-4acf-db80-2fbf16736711"
      },
      "outputs": [
        {
          "output_type": "stream",
          "name": "stdout",
          "text": [
            "True\n",
            "False\n",
            "False\n"
          ]
        }
      ],
      "source": [
        "print(check_str in str(li_list[1]))\n",
        "print(check_str in str(li_list[0]))\n",
        "print(check_str in str(li_list[-1]))"
      ],
      "id": "2860ba6d"
    },
    {
      "cell_type": "markdown",
      "metadata": {
        "id": "2c1755f5"
      },
      "source": [
        "#### 파싱 전략 수립"
      ],
      "id": "2c1755f5"
    },
    {
      "cell_type": "code",
      "execution_count": null,
      "metadata": {
        "colab": {
          "base_uri": "https://localhost:8080/"
        },
        "id": "fcc0099b",
        "outputId": "01f273cd-9ee1-4ea0-d68f-c7a3ecad5cfb"
      },
      "outputs": [
        {
          "output_type": "stream",
          "name": "stdout",
          "text": [
            "대아티아이\n"
          ]
        }
      ],
      "source": [
        "stock = li_list[1].find_all(\"a\")[0].text\n",
        "print(stock)"
      ],
      "id": "fcc0099b"
    },
    {
      "cell_type": "code",
      "execution_count": null,
      "metadata": {
        "colab": {
          "base_uri": "https://localhost:8080/"
        },
        "id": "5043a780",
        "outputId": "01c7c624-6ff8-4895-a07e-3526888499a9"
      },
      "outputs": [
        {
          "output_type": "stream",
          "name": "stdout",
          "text": [
            "철도 산업의 미래는 대아티아이가 중심 \n"
          ]
        }
      ],
      "source": [
        "title = li_list[1].find_all(\"a\")[1].text\n",
        "print(title)"
      ],
      "id": "5043a780"
    },
    {
      "cell_type": "code",
      "execution_count": null,
      "metadata": {
        "colab": {
          "base_uri": "https://localhost:8080/",
          "height": 54
        },
        "id": "2b5befab",
        "outputId": "c31021db-1794-4183-8607-7c2662336d85"
      },
      "outputs": [
        {
          "output_type": "display_data",
          "data": {
            "text/plain": [
              "'\\n적정가격\\r\\n\\t \\t\\t\\t\\t\\t\\t\\t\\t\\r\\n\\t\\t\\t\\t\\t\\t\\t\\t\\t\\t\\r\\n\\t\\t\\t\\t\\t\\t\\t\\t\\t\\t\\r\\n\\t\\t\\t\\t\\t\\t\\t\\t\\t\\t\\t-원\\r\\n\\t\\t\\t\\t\\t\\t\\t\\t\\t\\t\\r\\n\\t\\t\\t\\t\\t\\t\\t\\t\\t\\r\\n\\t\\t\\t\\t\\t\\t\\t\\t'"
            ],
            "application/vnd.google.colaboratory.intrinsic+json": {
              "type": "string"
            }
          },
          "metadata": {}
        }
      ],
      "source": [
        "price = li_list[1].find(\"div\", attrs = {\"class\":\"line3\"}).text\n",
        "display(price)"
      ],
      "id": "2b5befab"
    },
    {
      "cell_type": "code",
      "execution_count": null,
      "metadata": {
        "colab": {
          "base_uri": "https://localhost:8080/",
          "height": 36
        },
        "id": "6a077e30",
        "outputId": "e71571ab-445d-4fed-8b4f-2e8fcda29cf6"
      },
      "outputs": [
        {
          "output_type": "display_data",
          "data": {
            "text/plain": [
              "'-'"
            ],
            "application/vnd.google.colaboratory.intrinsic+json": {
              "type": "string"
            }
          },
          "metadata": {}
        }
      ],
      "source": [
        "price = price.replace('\\r', '').replace('\\t', '').replace('\\n', '')\n",
        "price = price.split(' ')[1].replace(',', '')[:-1]\n",
        "display(price)"
      ],
      "id": "6a077e30"
    },
    {
      "cell_type": "code",
      "execution_count": null,
      "metadata": {
        "scrolled": true,
        "colab": {
          "base_uri": "https://localhost:8080/",
          "height": 36
        },
        "id": "e649dcff",
        "outputId": "c199b9c1-10d2-474f-8047-36373f2d226f"
      },
      "outputs": [
        {
          "output_type": "display_data",
          "data": {
            "text/plain": [
              "'\\r\\n\\t\\t\\t\\t\\t\\t\\t\\t\\t-\\r\\n\\t\\t\\t\\t\\t\\t\\t\\t'"
            ],
            "application/vnd.google.colaboratory.intrinsic+json": {
              "type": "string"
            }
          },
          "metadata": {}
        }
      ],
      "source": [
        "opinion = li_list[1].find_all(\"div\", attrs = {\"class\":\"line3\"})[1].text\n",
        "display(opinion)"
      ],
      "id": "e649dcff"
    },
    {
      "cell_type": "code",
      "execution_count": null,
      "metadata": {
        "colab": {
          "base_uri": "https://localhost:8080/",
          "height": 36
        },
        "id": "b0e6663a",
        "outputId": "d06bc738-00ee-4fba-8f9c-a78ff396a75a"
      },
      "outputs": [
        {
          "output_type": "display_data",
          "data": {
            "text/plain": [
              "'-'"
            ],
            "application/vnd.google.colaboratory.intrinsic+json": {
              "type": "string"
            }
          },
          "metadata": {}
        }
      ],
      "source": [
        "opinion = opinion.replace('\\t', '').replace('\\n', '').replace('\\r', '')\n",
        "display(opinion)"
      ],
      "id": "b0e6663a"
    },
    {
      "cell_type": "code",
      "execution_count": null,
      "metadata": {
        "colab": {
          "base_uri": "https://localhost:8080/",
          "height": 36
        },
        "id": "b998848b",
        "outputId": "43715f99-d442-47f6-95cc-7a377118983f"
      },
      "outputs": [
        {
          "output_type": "display_data",
          "data": {
            "text/plain": [
              "'SK증권'"
            ],
            "application/vnd.google.colaboratory.intrinsic+json": {
              "type": "string"
            }
          },
          "metadata": {}
        }
      ],
      "source": [
        "trading_firm = li_list[1].find_all(\"div\", attrs = {\"class\":\"line3\"})[2].text\n",
        "display(trading_firm)"
      ],
      "id": "b998848b"
    },
    {
      "cell_type": "code",
      "execution_count": null,
      "metadata": {
        "colab": {
          "base_uri": "https://localhost:8080/",
          "height": 36
        },
        "id": "ca5cdd4f",
        "outputId": "580c79a7-215a-4a19-bd8a-a9b052af6a79"
      },
      "outputs": [
        {
          "output_type": "display_data",
          "data": {
            "text/plain": [
              "'2022.06.03'"
            ],
            "application/vnd.google.colaboratory.intrinsic+json": {
              "type": "string"
            }
          },
          "metadata": {}
        }
      ],
      "source": [
        "date = li_list[1].find_all(\"div\", attrs = {\"class\":\"line3\"})[3].text\n",
        "display(date)"
      ],
      "id": "ca5cdd4f"
    },
    {
      "cell_type": "code",
      "execution_count": null,
      "metadata": {
        "colab": {
          "base_uri": "https://localhost:8080/",
          "height": 35
        },
        "id": "dfa7ee65",
        "outputId": "4073b32d-fab3-4661-8fbb-a8c4b9216b5c"
      },
      "outputs": [
        {
          "output_type": "display_data",
          "data": {
            "text/plain": [
              "Timestamp('2022-06-03 00:00:00')"
            ]
          },
          "metadata": {}
        }
      ],
      "source": [
        "import pandas as pd\n",
        "date = pd.to_datetime(date)\n",
        "display(date)"
      ],
      "id": "dfa7ee65"
    },
    {
      "cell_type": "markdown",
      "metadata": {
        "id": "a79655ed"
      },
      "source": [
        "#### 단일 리포트 파싱"
      ],
      "id": "a79655ed"
    },
    {
      "cell_type": "code",
      "execution_count": null,
      "metadata": {
        "id": "6a340bc0"
      },
      "outputs": [],
      "source": [
        "def parsing_li(li):\n",
        "    stock = li.find_all(\"a\")[0].text # 종목명\n",
        "    title = li.find_all(\"a\")[1].text # 리포트 제목\n",
        "    price = li.find(\"div\", attrs = {\"class\":\"line3\"}).text # 적정가격\n",
        "    price = price.replace('\\r', '').replace('\\t', '').replace('\\n', '')\n",
        "    price = price.split(' ')[1].replace(',', '')[:-1]\n",
        "    opinion = li.find_all(\"div\", attrs = {\"class\":\"line3\"})[1].text # 의견\n",
        "    opinion = opinion.replace('\\t', '').replace('\\n', '').replace('\\r', '')\n",
        "    trading_firm = li.find_all(\"div\", attrs = {\"class\":\"line3\"})[2].text # 증권사\n",
        "    date = li.find_all(\"div\", attrs = {\"class\":\"line3\"})[3].text # 날짜\n",
        "    date = pd.to_datetime(date)\n",
        "    \n",
        "    return [stock, title, price, opinion, trading_firm, date]"
      ],
      "id": "6a340bc0"
    },
    {
      "cell_type": "code",
      "execution_count": null,
      "metadata": {
        "colab": {
          "base_uri": "https://localhost:8080/"
        },
        "id": "c1e8164d",
        "outputId": "20d079b6-c7a9-4764-cf81-17ecb512408d"
      },
      "outputs": [
        {
          "output_type": "stream",
          "name": "stdout",
          "text": [
            "['대아티아이', '철도 산업의 미래는 대아티아이가 중심 ', '-', '-', 'SK증권', Timestamp('2022-06-03 00:00:00')]\n"
          ]
        }
      ],
      "source": [
        "print(parsing_li(li_list[1]))"
      ],
      "id": "c1e8164d"
    },
    {
      "cell_type": "markdown",
      "metadata": {
        "id": "d17eac9d"
      },
      "source": [
        "#### 한 페이지 내 모든 리포트 수집 및 정제"
      ],
      "id": "d17eac9d"
    },
    {
      "cell_type": "code",
      "execution_count": null,
      "metadata": {
        "id": "02777815"
      },
      "outputs": [],
      "source": [
        "data = []\n",
        "for li in li_list:\n",
        "    if check_str in str(li):\n",
        "        record = parsing_li(li)\n",
        "        data.append(record)\n",
        "data = pd.DataFrame(data, columns = [\"종목명\", \"리포트제목\", \"적정가격\", \"의견\", \"증권사\", \"날짜\"])"
      ],
      "id": "02777815"
    },
    {
      "cell_type": "code",
      "execution_count": null,
      "metadata": {
        "colab": {
          "base_uri": "https://localhost:8080/",
          "height": 363
        },
        "id": "5450e69a",
        "outputId": "42c6733f-29c1-4d92-e31b-1db1fb7c84c5"
      },
      "outputs": [
        {
          "output_type": "display_data",
          "data": {
            "text/plain": [
              "      종목명                       리포트제목    적정가격      의견    증권사         날짜\n",
              "0   대아티아이       철도 산업의 미래는 대아티아이가 중심        -       -   SK증권 2022-06-03\n",
              "1   에스티아이        거래선, 아이템 다변화 동시 진행 중       -       -   SK증권 2022-06-03\n",
              "2   형지I&C          반등의 지렛대가 될 2022 년        -       -   SK증권 2022-06-03\n",
              "3    한세실업       1Q22 Review: 숫자로 증명한다   45000      매수   SK증권 2022-06-03\n",
              "4    엘앤에프    프리미엄의 근거(Feat. 고객사 낙수효과)  430000      매수  메리츠증권 2022-06-03\n",
              "5    코스맥스   1Q22 Review: 위기 속에 드러난 민낯   70000    Hold  메리츠증권 2022-06-03\n",
              "6   엔씨소프트         脫(탈) 리니지 4Q22 부터 추진  550000      매수   SK증권 2022-06-03\n",
              "7    대한해운  중국 봉쇄 긍정적이지만 컨테이너선 부재가 아쉽다    3500  매수(유지)   SK증권 2022-06-03\n",
              "8      SK          호실적이 주가상승에 대한 확신으로  365000  매수(유지)   SK증권 2022-06-03\n",
              "9  SFA반도체          Bump 사업 이익기여 예상 상회    9200  매수(유지)   SK증권 2022-06-03"
            ],
            "text/html": [
              "\n",
              "  <div id=\"df-966bdd4b-4017-4c6d-b83b-fdf2a7c63d55\">\n",
              "    <div class=\"colab-df-container\">\n",
              "      <div>\n",
              "<style scoped>\n",
              "    .dataframe tbody tr th:only-of-type {\n",
              "        vertical-align: middle;\n",
              "    }\n",
              "\n",
              "    .dataframe tbody tr th {\n",
              "        vertical-align: top;\n",
              "    }\n",
              "\n",
              "    .dataframe thead th {\n",
              "        text-align: right;\n",
              "    }\n",
              "</style>\n",
              "<table border=\"1\" class=\"dataframe\">\n",
              "  <thead>\n",
              "    <tr style=\"text-align: right;\">\n",
              "      <th></th>\n",
              "      <th>종목명</th>\n",
              "      <th>리포트제목</th>\n",
              "      <th>적정가격</th>\n",
              "      <th>의견</th>\n",
              "      <th>증권사</th>\n",
              "      <th>날짜</th>\n",
              "    </tr>\n",
              "  </thead>\n",
              "  <tbody>\n",
              "    <tr>\n",
              "      <th>0</th>\n",
              "      <td>대아티아이</td>\n",
              "      <td>철도 산업의 미래는 대아티아이가 중심</td>\n",
              "      <td>-</td>\n",
              "      <td>-</td>\n",
              "      <td>SK증권</td>\n",
              "      <td>2022-06-03</td>\n",
              "    </tr>\n",
              "    <tr>\n",
              "      <th>1</th>\n",
              "      <td>에스티아이</td>\n",
              "      <td>거래선, 아이템 다변화 동시 진행 중</td>\n",
              "      <td>-</td>\n",
              "      <td>-</td>\n",
              "      <td>SK증권</td>\n",
              "      <td>2022-06-03</td>\n",
              "    </tr>\n",
              "    <tr>\n",
              "      <th>2</th>\n",
              "      <td>형지I&amp;C</td>\n",
              "      <td>반등의 지렛대가 될 2022 년</td>\n",
              "      <td>-</td>\n",
              "      <td>-</td>\n",
              "      <td>SK증권</td>\n",
              "      <td>2022-06-03</td>\n",
              "    </tr>\n",
              "    <tr>\n",
              "      <th>3</th>\n",
              "      <td>한세실업</td>\n",
              "      <td>1Q22 Review: 숫자로 증명한다</td>\n",
              "      <td>45000</td>\n",
              "      <td>매수</td>\n",
              "      <td>SK증권</td>\n",
              "      <td>2022-06-03</td>\n",
              "    </tr>\n",
              "    <tr>\n",
              "      <th>4</th>\n",
              "      <td>엘앤에프</td>\n",
              "      <td>프리미엄의 근거(Feat. 고객사 낙수효과)</td>\n",
              "      <td>430000</td>\n",
              "      <td>매수</td>\n",
              "      <td>메리츠증권</td>\n",
              "      <td>2022-06-03</td>\n",
              "    </tr>\n",
              "    <tr>\n",
              "      <th>5</th>\n",
              "      <td>코스맥스</td>\n",
              "      <td>1Q22 Review: 위기 속에 드러난 민낯</td>\n",
              "      <td>70000</td>\n",
              "      <td>Hold</td>\n",
              "      <td>메리츠증권</td>\n",
              "      <td>2022-06-03</td>\n",
              "    </tr>\n",
              "    <tr>\n",
              "      <th>6</th>\n",
              "      <td>엔씨소프트</td>\n",
              "      <td>脫(탈) 리니지 4Q22 부터 추진</td>\n",
              "      <td>550000</td>\n",
              "      <td>매수</td>\n",
              "      <td>SK증권</td>\n",
              "      <td>2022-06-03</td>\n",
              "    </tr>\n",
              "    <tr>\n",
              "      <th>7</th>\n",
              "      <td>대한해운</td>\n",
              "      <td>중국 봉쇄 긍정적이지만 컨테이너선 부재가 아쉽다</td>\n",
              "      <td>3500</td>\n",
              "      <td>매수(유지)</td>\n",
              "      <td>SK증권</td>\n",
              "      <td>2022-06-03</td>\n",
              "    </tr>\n",
              "    <tr>\n",
              "      <th>8</th>\n",
              "      <td>SK</td>\n",
              "      <td>호실적이 주가상승에 대한 확신으로</td>\n",
              "      <td>365000</td>\n",
              "      <td>매수(유지)</td>\n",
              "      <td>SK증권</td>\n",
              "      <td>2022-06-03</td>\n",
              "    </tr>\n",
              "    <tr>\n",
              "      <th>9</th>\n",
              "      <td>SFA반도체</td>\n",
              "      <td>Bump 사업 이익기여 예상 상회</td>\n",
              "      <td>9200</td>\n",
              "      <td>매수(유지)</td>\n",
              "      <td>SK증권</td>\n",
              "      <td>2022-06-03</td>\n",
              "    </tr>\n",
              "  </tbody>\n",
              "</table>\n",
              "</div>\n",
              "      <button class=\"colab-df-convert\" onclick=\"convertToInteractive('df-966bdd4b-4017-4c6d-b83b-fdf2a7c63d55')\"\n",
              "              title=\"Convert this dataframe to an interactive table.\"\n",
              "              style=\"display:none;\">\n",
              "        \n",
              "  <svg xmlns=\"http://www.w3.org/2000/svg\" height=\"24px\"viewBox=\"0 0 24 24\"\n",
              "       width=\"24px\">\n",
              "    <path d=\"M0 0h24v24H0V0z\" fill=\"none\"/>\n",
              "    <path d=\"M18.56 5.44l.94 2.06.94-2.06 2.06-.94-2.06-.94-.94-2.06-.94 2.06-2.06.94zm-11 1L8.5 8.5l.94-2.06 2.06-.94-2.06-.94L8.5 2.5l-.94 2.06-2.06.94zm10 10l.94 2.06.94-2.06 2.06-.94-2.06-.94-.94-2.06-.94 2.06-2.06.94z\"/><path d=\"M17.41 7.96l-1.37-1.37c-.4-.4-.92-.59-1.43-.59-.52 0-1.04.2-1.43.59L10.3 9.45l-7.72 7.72c-.78.78-.78 2.05 0 2.83L4 21.41c.39.39.9.59 1.41.59.51 0 1.02-.2 1.41-.59l7.78-7.78 2.81-2.81c.8-.78.8-2.07 0-2.86zM5.41 20L4 18.59l7.72-7.72 1.47 1.35L5.41 20z\"/>\n",
              "  </svg>\n",
              "      </button>\n",
              "      \n",
              "  <style>\n",
              "    .colab-df-container {\n",
              "      display:flex;\n",
              "      flex-wrap:wrap;\n",
              "      gap: 12px;\n",
              "    }\n",
              "\n",
              "    .colab-df-convert {\n",
              "      background-color: #E8F0FE;\n",
              "      border: none;\n",
              "      border-radius: 50%;\n",
              "      cursor: pointer;\n",
              "      display: none;\n",
              "      fill: #1967D2;\n",
              "      height: 32px;\n",
              "      padding: 0 0 0 0;\n",
              "      width: 32px;\n",
              "    }\n",
              "\n",
              "    .colab-df-convert:hover {\n",
              "      background-color: #E2EBFA;\n",
              "      box-shadow: 0px 1px 2px rgba(60, 64, 67, 0.3), 0px 1px 3px 1px rgba(60, 64, 67, 0.15);\n",
              "      fill: #174EA6;\n",
              "    }\n",
              "\n",
              "    [theme=dark] .colab-df-convert {\n",
              "      background-color: #3B4455;\n",
              "      fill: #D2E3FC;\n",
              "    }\n",
              "\n",
              "    [theme=dark] .colab-df-convert:hover {\n",
              "      background-color: #434B5C;\n",
              "      box-shadow: 0px 1px 3px 1px rgba(0, 0, 0, 0.15);\n",
              "      filter: drop-shadow(0px 1px 2px rgba(0, 0, 0, 0.3));\n",
              "      fill: #FFFFFF;\n",
              "    }\n",
              "  </style>\n",
              "\n",
              "      <script>\n",
              "        const buttonEl =\n",
              "          document.querySelector('#df-966bdd4b-4017-4c6d-b83b-fdf2a7c63d55 button.colab-df-convert');\n",
              "        buttonEl.style.display =\n",
              "          google.colab.kernel.accessAllowed ? 'block' : 'none';\n",
              "\n",
              "        async function convertToInteractive(key) {\n",
              "          const element = document.querySelector('#df-966bdd4b-4017-4c6d-b83b-fdf2a7c63d55');\n",
              "          const dataTable =\n",
              "            await google.colab.kernel.invokeFunction('convertToInteractive',\n",
              "                                                     [key], {});\n",
              "          if (!dataTable) return;\n",
              "\n",
              "          const docLinkHtml = 'Like what you see? Visit the ' +\n",
              "            '<a target=\"_blank\" href=https://colab.research.google.com/notebooks/data_table.ipynb>data table notebook</a>'\n",
              "            + ' to learn more about interactive tables.';\n",
              "          element.innerHTML = '';\n",
              "          dataTable['output_type'] = 'display_data';\n",
              "          await google.colab.output.renderOutput(dataTable, element);\n",
              "          const docLink = document.createElement('div');\n",
              "          docLink.innerHTML = docLinkHtml;\n",
              "          element.appendChild(docLink);\n",
              "        }\n",
              "      </script>\n",
              "    </div>\n",
              "  </div>\n",
              "  "
            ]
          },
          "metadata": {}
        }
      ],
      "source": [
        "display(data.head(10))"
      ],
      "id": "5450e69a"
    },
    {
      "cell_type": "code",
      "execution_count": null,
      "metadata": {
        "id": "c7b743ae",
        "colab": {
          "base_uri": "https://localhost:8080/"
        },
        "outputId": "63cc4be4-6be5-42e4-f5c4-46a69b272ec2"
      },
      "outputs": [
        {
          "output_type": "stream",
          "name": "stderr",
          "text": [
            "100%|██████████| 30/30 [00:59<00:00,  1.97s/it]\n"
          ]
        }
      ],
      "source": [
        "import time\n",
        "base_url = \"http://www.paxnet.co.kr/stock/report/report?menuCode=2222&currentPageNo={}&reportId=0&searchKey=stock&searchValue=\"\n",
        "data = []\n",
        "\n",
        "# for page_no in tqdm(range(1, 563)):\n",
        "# 가볍게 30개만 해보기\n",
        "for page_no in tqdm(range(1, 31)):\n",
        "    # 웹 페이지 소스 가져오기\n",
        "    url = base_url.format(page_no)\n",
        "    while True:\n",
        "        response = requests.get(url)\n",
        "        if response.status_code == 200:\n",
        "            time.sleep(1)\n",
        "            break\n",
        "        else:\n",
        "            time.sleep(10 * 60)    \n",
        "    html = response.content\n",
        "    html = BS(html)\n",
        "    \n",
        "    # 웹 페이지 소스에서 필요한 부분만 가져오기\n",
        "    div = html.find(\"div\", attrs = {\"class\":\"board-type\"})\n",
        "    li_list = div.find_all(\"li\")\n",
        "    for li in li_list:\n",
        "        if check_str in str(li):\n",
        "            record = parsing_li(li)\n",
        "            data.append(record)\n",
        "\n",
        "data = pd.DataFrame(data, columns = [\"종목명\", \"리포트제목\", \"적정가격\", \"의견\", \"증권사\", \"날짜\"])    "
      ],
      "id": "c7b743ae"
    },
    {
      "cell_type": "code",
      "execution_count": null,
      "metadata": {
        "id": "24fbd747"
      },
      "outputs": [],
      "source": [
        "data.to_csv(\"데이터/종목리포트.txt\", sep = \"\\t\", encoding = \"euc-kr\", index = False)"
      ],
      "id": "24fbd747"
    },
    {
      "cell_type": "code",
      "execution_count": null,
      "metadata": {
        "colab": {
          "base_uri": "https://localhost:8080/"
        },
        "id": "64121ac5",
        "outputId": "2586f01c-4c35-43b0-cc0e-7efa8a5bc85a"
      },
      "outputs": [
        {
          "output_type": "execute_result",
          "data": {
            "text/plain": [
              "         종목명                                리포트제목    적정가격      의견     증권사  \\\n",
              "0      대아티아이                철도 산업의 미래는 대아티아이가 중심        -       -    SK증권   \n",
              "1      에스티아이                 거래선, 아이템 다변화 동시 진행 중       -       -    SK증권   \n",
              "2      형지I&C                   반등의 지렛대가 될 2022 년        -       -    SK증권   \n",
              "3       한세실업                1Q22 Review: 숫자로 증명한다   45000      매수    SK증권   \n",
              "4       엘앤에프             프리미엄의 근거(Feat. 고객사 낙수효과)  430000      매수   메리츠증권   \n",
              "..       ...                                  ...     ...     ...     ...   \n",
              "895  스튜디오드래곤                    2022년 최대 방영편수에 도전  130000  매수(유지)    키움증권   \n",
              "896     KT&G                 6% 배당수익률과 3가지 관전 포인트  103000  매수(유지)    키움증권   \n",
              "897     금호석유                  경쟁사 대비 차별화된 마진율 기록   280000  매수(유지)    키움증권   \n",
              "898   하나금융지주          4분기, 순이자마진 증가로 업계 최대 실적 달성    68000  매수(유지)    키움증권   \n",
              "899  크리스에프앤씨  세그먼트별 골프웨어 브랜드 기획으로 골프 대중화 속 외형성장 중       -       -  나이스디앤비   \n",
              "\n",
              "            날짜  \n",
              "0   2022-06-03  \n",
              "1   2022-06-03  \n",
              "2   2022-06-03  \n",
              "3   2022-06-03  \n",
              "4   2022-06-03  \n",
              "..         ...  \n",
              "895 2022-02-11  \n",
              "896 2022-02-11  \n",
              "897 2022-02-11  \n",
              "898 2022-02-11  \n",
              "899 2022-02-10  \n",
              "\n",
              "[900 rows x 6 columns]"
            ],
            "text/html": [
              "\n",
              "  <div id=\"df-d96e9c96-fc40-4249-a924-e2ebd7fcf234\">\n",
              "    <div class=\"colab-df-container\">\n",
              "      <div>\n",
              "<style scoped>\n",
              "    .dataframe tbody tr th:only-of-type {\n",
              "        vertical-align: middle;\n",
              "    }\n",
              "\n",
              "    .dataframe tbody tr th {\n",
              "        vertical-align: top;\n",
              "    }\n",
              "\n",
              "    .dataframe thead th {\n",
              "        text-align: right;\n",
              "    }\n",
              "</style>\n",
              "<table border=\"1\" class=\"dataframe\">\n",
              "  <thead>\n",
              "    <tr style=\"text-align: right;\">\n",
              "      <th></th>\n",
              "      <th>종목명</th>\n",
              "      <th>리포트제목</th>\n",
              "      <th>적정가격</th>\n",
              "      <th>의견</th>\n",
              "      <th>증권사</th>\n",
              "      <th>날짜</th>\n",
              "    </tr>\n",
              "  </thead>\n",
              "  <tbody>\n",
              "    <tr>\n",
              "      <th>0</th>\n",
              "      <td>대아티아이</td>\n",
              "      <td>철도 산업의 미래는 대아티아이가 중심</td>\n",
              "      <td>-</td>\n",
              "      <td>-</td>\n",
              "      <td>SK증권</td>\n",
              "      <td>2022-06-03</td>\n",
              "    </tr>\n",
              "    <tr>\n",
              "      <th>1</th>\n",
              "      <td>에스티아이</td>\n",
              "      <td>거래선, 아이템 다변화 동시 진행 중</td>\n",
              "      <td>-</td>\n",
              "      <td>-</td>\n",
              "      <td>SK증권</td>\n",
              "      <td>2022-06-03</td>\n",
              "    </tr>\n",
              "    <tr>\n",
              "      <th>2</th>\n",
              "      <td>형지I&amp;C</td>\n",
              "      <td>반등의 지렛대가 될 2022 년</td>\n",
              "      <td>-</td>\n",
              "      <td>-</td>\n",
              "      <td>SK증권</td>\n",
              "      <td>2022-06-03</td>\n",
              "    </tr>\n",
              "    <tr>\n",
              "      <th>3</th>\n",
              "      <td>한세실업</td>\n",
              "      <td>1Q22 Review: 숫자로 증명한다</td>\n",
              "      <td>45000</td>\n",
              "      <td>매수</td>\n",
              "      <td>SK증권</td>\n",
              "      <td>2022-06-03</td>\n",
              "    </tr>\n",
              "    <tr>\n",
              "      <th>4</th>\n",
              "      <td>엘앤에프</td>\n",
              "      <td>프리미엄의 근거(Feat. 고객사 낙수효과)</td>\n",
              "      <td>430000</td>\n",
              "      <td>매수</td>\n",
              "      <td>메리츠증권</td>\n",
              "      <td>2022-06-03</td>\n",
              "    </tr>\n",
              "    <tr>\n",
              "      <th>...</th>\n",
              "      <td>...</td>\n",
              "      <td>...</td>\n",
              "      <td>...</td>\n",
              "      <td>...</td>\n",
              "      <td>...</td>\n",
              "      <td>...</td>\n",
              "    </tr>\n",
              "    <tr>\n",
              "      <th>895</th>\n",
              "      <td>스튜디오드래곤</td>\n",
              "      <td>2022년 최대 방영편수에 도전</td>\n",
              "      <td>130000</td>\n",
              "      <td>매수(유지)</td>\n",
              "      <td>키움증권</td>\n",
              "      <td>2022-02-11</td>\n",
              "    </tr>\n",
              "    <tr>\n",
              "      <th>896</th>\n",
              "      <td>KT&amp;G</td>\n",
              "      <td>6% 배당수익률과 3가지 관전 포인트</td>\n",
              "      <td>103000</td>\n",
              "      <td>매수(유지)</td>\n",
              "      <td>키움증권</td>\n",
              "      <td>2022-02-11</td>\n",
              "    </tr>\n",
              "    <tr>\n",
              "      <th>897</th>\n",
              "      <td>금호석유</td>\n",
              "      <td>경쟁사 대비 차별화된 마진율 기록</td>\n",
              "      <td>280000</td>\n",
              "      <td>매수(유지)</td>\n",
              "      <td>키움증권</td>\n",
              "      <td>2022-02-11</td>\n",
              "    </tr>\n",
              "    <tr>\n",
              "      <th>898</th>\n",
              "      <td>하나금융지주</td>\n",
              "      <td>4분기, 순이자마진 증가로 업계 최대 실적 달성</td>\n",
              "      <td>68000</td>\n",
              "      <td>매수(유지)</td>\n",
              "      <td>키움증권</td>\n",
              "      <td>2022-02-11</td>\n",
              "    </tr>\n",
              "    <tr>\n",
              "      <th>899</th>\n",
              "      <td>크리스에프앤씨</td>\n",
              "      <td>세그먼트별 골프웨어 브랜드 기획으로 골프 대중화 속 외형성장 중</td>\n",
              "      <td>-</td>\n",
              "      <td>-</td>\n",
              "      <td>나이스디앤비</td>\n",
              "      <td>2022-02-10</td>\n",
              "    </tr>\n",
              "  </tbody>\n",
              "</table>\n",
              "<p>900 rows × 6 columns</p>\n",
              "</div>\n",
              "      <button class=\"colab-df-convert\" onclick=\"convertToInteractive('df-d96e9c96-fc40-4249-a924-e2ebd7fcf234')\"\n",
              "              title=\"Convert this dataframe to an interactive table.\"\n",
              "              style=\"display:none;\">\n",
              "        \n",
              "  <svg xmlns=\"http://www.w3.org/2000/svg\" height=\"24px\"viewBox=\"0 0 24 24\"\n",
              "       width=\"24px\">\n",
              "    <path d=\"M0 0h24v24H0V0z\" fill=\"none\"/>\n",
              "    <path d=\"M18.56 5.44l.94 2.06.94-2.06 2.06-.94-2.06-.94-.94-2.06-.94 2.06-2.06.94zm-11 1L8.5 8.5l.94-2.06 2.06-.94-2.06-.94L8.5 2.5l-.94 2.06-2.06.94zm10 10l.94 2.06.94-2.06 2.06-.94-2.06-.94-.94-2.06-.94 2.06-2.06.94z\"/><path d=\"M17.41 7.96l-1.37-1.37c-.4-.4-.92-.59-1.43-.59-.52 0-1.04.2-1.43.59L10.3 9.45l-7.72 7.72c-.78.78-.78 2.05 0 2.83L4 21.41c.39.39.9.59 1.41.59.51 0 1.02-.2 1.41-.59l7.78-7.78 2.81-2.81c.8-.78.8-2.07 0-2.86zM5.41 20L4 18.59l7.72-7.72 1.47 1.35L5.41 20z\"/>\n",
              "  </svg>\n",
              "      </button>\n",
              "      \n",
              "  <style>\n",
              "    .colab-df-container {\n",
              "      display:flex;\n",
              "      flex-wrap:wrap;\n",
              "      gap: 12px;\n",
              "    }\n",
              "\n",
              "    .colab-df-convert {\n",
              "      background-color: #E8F0FE;\n",
              "      border: none;\n",
              "      border-radius: 50%;\n",
              "      cursor: pointer;\n",
              "      display: none;\n",
              "      fill: #1967D2;\n",
              "      height: 32px;\n",
              "      padding: 0 0 0 0;\n",
              "      width: 32px;\n",
              "    }\n",
              "\n",
              "    .colab-df-convert:hover {\n",
              "      background-color: #E2EBFA;\n",
              "      box-shadow: 0px 1px 2px rgba(60, 64, 67, 0.3), 0px 1px 3px 1px rgba(60, 64, 67, 0.15);\n",
              "      fill: #174EA6;\n",
              "    }\n",
              "\n",
              "    [theme=dark] .colab-df-convert {\n",
              "      background-color: #3B4455;\n",
              "      fill: #D2E3FC;\n",
              "    }\n",
              "\n",
              "    [theme=dark] .colab-df-convert:hover {\n",
              "      background-color: #434B5C;\n",
              "      box-shadow: 0px 1px 3px 1px rgba(0, 0, 0, 0.15);\n",
              "      filter: drop-shadow(0px 1px 2px rgba(0, 0, 0, 0.3));\n",
              "      fill: #FFFFFF;\n",
              "    }\n",
              "  </style>\n",
              "\n",
              "      <script>\n",
              "        const buttonEl =\n",
              "          document.querySelector('#df-d96e9c96-fc40-4249-a924-e2ebd7fcf234 button.colab-df-convert');\n",
              "        buttonEl.style.display =\n",
              "          google.colab.kernel.accessAllowed ? 'block' : 'none';\n",
              "\n",
              "        async function convertToInteractive(key) {\n",
              "          const element = document.querySelector('#df-d96e9c96-fc40-4249-a924-e2ebd7fcf234');\n",
              "          const dataTable =\n",
              "            await google.colab.kernel.invokeFunction('convertToInteractive',\n",
              "                                                     [key], {});\n",
              "          if (!dataTable) return;\n",
              "\n",
              "          const docLinkHtml = 'Like what you see? Visit the ' +\n",
              "            '<a target=\"_blank\" href=https://colab.research.google.com/notebooks/data_table.ipynb>data table notebook</a>'\n",
              "            + ' to learn more about interactive tables.';\n",
              "          element.innerHTML = '';\n",
              "          dataTable['output_type'] = 'display_data';\n",
              "          await google.colab.output.renderOutput(dataTable, element);\n",
              "          const docLink = document.createElement('div');\n",
              "          docLink.innerHTML = docLinkHtml;\n",
              "          element.appendChild(docLink);\n",
              "        }\n",
              "      </script>\n",
              "    </div>\n",
              "  </div>\n",
              "  "
            ]
          },
          "metadata": {},
          "execution_count": 25
        }
      ],
      "source": [
        "data"
      ],
      "id": "64121ac5"
    },
    {
      "cell_type": "markdown",
      "source": [
        ""
      ],
      "metadata": {
        "id": "sE9FxdO_Lwk_"
      },
      "id": "sE9FxdO_Lwk_"
    },
    {
      "cell_type": "code",
      "execution_count": null,
      "metadata": {
        "id": "e3be9db6"
      },
      "outputs": [],
      "source": [
        ""
      ],
      "id": "e3be9db6"
    },
    {
      "cell_type": "markdown",
      "source": [
        "# 셀레니움을 이용한 크롤링"
      ],
      "metadata": {
        "id": "2JECBEteMJcR"
      },
      "id": "2JECBEteMJcR"
    },
    {
      "cell_type": "markdown",
      "metadata": {
        "id": "a3888f81"
      },
      "source": [
        "### 모듈 및 드라이버 설치"
      ],
      "id": "a3888f81"
    },
    {
      "cell_type": "code",
      "source": [
        "!pip install selenium\n",
        "!apt-get update\n",
        "!apt install chromium-chromedriver"
      ],
      "metadata": {
        "id": "7DdWIcr02YLb",
        "colab": {
          "base_uri": "https://localhost:8080/"
        },
        "outputId": "5f2ec35f-c2e9-4f95-d3e2-c367afb459b7"
      },
      "execution_count": null,
      "outputs": [
        {
          "output_type": "stream",
          "name": "stdout",
          "text": [
            "Looking in indexes: https://pypi.org/simple, https://us-python.pkg.dev/colab-wheels/public/simple/\n",
            "Collecting selenium\n",
            "  Downloading selenium-4.2.0-py3-none-any.whl (983 kB)\n",
            "\u001b[K     |████████████████████████████████| 983 kB 5.3 MB/s \n",
            "\u001b[?25hCollecting trio~=0.17\n",
            "  Downloading trio-0.20.0-py3-none-any.whl (359 kB)\n",
            "\u001b[K     |████████████████████████████████| 359 kB 47.3 MB/s \n",
            "\u001b[?25hCollecting trio-websocket~=0.9\n",
            "  Downloading trio_websocket-0.9.2-py3-none-any.whl (16 kB)\n",
            "Collecting urllib3[secure,socks]~=1.26\n",
            "  Downloading urllib3-1.26.9-py2.py3-none-any.whl (138 kB)\n",
            "\u001b[K     |████████████████████████████████| 138 kB 49.8 MB/s \n",
            "\u001b[?25hCollecting sniffio\n",
            "  Downloading sniffio-1.2.0-py3-none-any.whl (10 kB)\n",
            "Requirement already satisfied: idna in /usr/local/lib/python3.7/dist-packages (from trio~=0.17->selenium) (2.10)\n",
            "Requirement already satisfied: sortedcontainers in /usr/local/lib/python3.7/dist-packages (from trio~=0.17->selenium) (2.4.0)\n",
            "Collecting async-generator>=1.9\n",
            "  Downloading async_generator-1.10-py3-none-any.whl (18 kB)\n",
            "Requirement already satisfied: attrs>=19.2.0 in /usr/local/lib/python3.7/dist-packages (from trio~=0.17->selenium) (21.4.0)\n",
            "Collecting outcome\n",
            "  Downloading outcome-1.1.0-py2.py3-none-any.whl (9.7 kB)\n",
            "Collecting wsproto>=0.14\n",
            "  Downloading wsproto-1.1.0-py3-none-any.whl (24 kB)\n",
            "Collecting pyOpenSSL>=0.14\n",
            "  Downloading pyOpenSSL-22.0.0-py2.py3-none-any.whl (55 kB)\n",
            "\u001b[K     |████████████████████████████████| 55 kB 1.6 MB/s \n",
            "\u001b[?25hCollecting cryptography>=1.3.4\n",
            "  Downloading cryptography-37.0.2-cp36-abi3-manylinux_2_24_x86_64.whl (4.0 MB)\n",
            "\u001b[K     |████████████████████████████████| 4.0 MB 41.2 MB/s \n",
            "\u001b[?25hRequirement already satisfied: certifi in /usr/local/lib/python3.7/dist-packages (from urllib3[secure,socks]~=1.26->selenium) (2022.5.18.1)\n",
            "Requirement already satisfied: PySocks!=1.5.7,<2.0,>=1.5.6 in /usr/local/lib/python3.7/dist-packages (from urllib3[secure,socks]~=1.26->selenium) (1.7.1)\n",
            "Requirement already satisfied: cffi>=1.12 in /usr/local/lib/python3.7/dist-packages (from cryptography>=1.3.4->urllib3[secure,socks]~=1.26->selenium) (1.15.0)\n",
            "Requirement already satisfied: pycparser in /usr/local/lib/python3.7/dist-packages (from cffi>=1.12->cryptography>=1.3.4->urllib3[secure,socks]~=1.26->selenium) (2.21)\n",
            "Collecting h11<1,>=0.9.0\n",
            "  Downloading h11-0.13.0-py3-none-any.whl (58 kB)\n",
            "\u001b[K     |████████████████████████████████| 58 kB 2.7 MB/s \n",
            "\u001b[?25hRequirement already satisfied: typing-extensions in /usr/local/lib/python3.7/dist-packages (from h11<1,>=0.9.0->wsproto>=0.14->trio-websocket~=0.9->selenium) (4.2.0)\n",
            "Installing collected packages: sniffio, outcome, h11, cryptography, async-generator, wsproto, urllib3, trio, pyOpenSSL, trio-websocket, selenium\n",
            "  Attempting uninstall: urllib3\n",
            "    Found existing installation: urllib3 1.24.3\n",
            "    Uninstalling urllib3-1.24.3:\n",
            "      Successfully uninstalled urllib3-1.24.3\n",
            "\u001b[31mERROR: pip's dependency resolver does not currently take into account all the packages that are installed. This behaviour is the source of the following dependency conflicts.\n",
            "requests 2.23.0 requires urllib3!=1.25.0,!=1.25.1,<1.26,>=1.21.1, but you have urllib3 1.26.9 which is incompatible.\n",
            "datascience 0.10.6 requires folium==0.2.1, but you have folium 0.8.3 which is incompatible.\u001b[0m\n",
            "Successfully installed async-generator-1.10 cryptography-37.0.2 h11-0.13.0 outcome-1.1.0 pyOpenSSL-22.0.0 selenium-4.2.0 sniffio-1.2.0 trio-0.20.0 trio-websocket-0.9.2 urllib3-1.26.9 wsproto-1.1.0\n",
            "Hit:1 https://developer.download.nvidia.com/compute/cuda/repos/ubuntu1804/x86_64  InRelease\n",
            "Get:2 https://cloud.r-project.org/bin/linux/ubuntu bionic-cran40/ InRelease [3,626 B]\n",
            "Hit:3 http://archive.ubuntu.com/ubuntu bionic InRelease\n",
            "Get:4 http://ppa.launchpad.net/c2d4u.team/c2d4u4.0+/ubuntu bionic InRelease [15.9 kB]\n",
            "Get:5 http://security.ubuntu.com/ubuntu bionic-security InRelease [88.7 kB]\n",
            "Ign:6 https://developer.download.nvidia.com/compute/machine-learning/repos/ubuntu1804/x86_64  InRelease\n",
            "Hit:7 https://developer.download.nvidia.com/compute/machine-learning/repos/ubuntu1804/x86_64  Release\n",
            "Get:8 http://archive.ubuntu.com/ubuntu bionic-updates InRelease [88.7 kB]\n",
            "Hit:9 http://ppa.launchpad.net/cran/libgit2/ubuntu bionic InRelease\n",
            "Get:10 http://archive.ubuntu.com/ubuntu bionic-backports InRelease [74.6 kB]\n",
            "Get:11 http://ppa.launchpad.net/deadsnakes/ppa/ubuntu bionic InRelease [15.9 kB]\n",
            "Hit:12 http://ppa.launchpad.net/graphics-drivers/ppa/ubuntu bionic InRelease\n",
            "Get:14 http://ppa.launchpad.net/c2d4u.team/c2d4u4.0+/ubuntu bionic/main Sources [1,992 kB]\n",
            "Get:15 http://security.ubuntu.com/ubuntu bionic-security/main amd64 Packages [2,799 kB]\n",
            "Get:16 http://archive.ubuntu.com/ubuntu bionic-updates/universe amd64 Packages [2,286 kB]\n",
            "Get:17 http://security.ubuntu.com/ubuntu bionic-security/universe amd64 Packages [1,512 kB]\n",
            "Get:18 http://ppa.launchpad.net/c2d4u.team/c2d4u4.0+/ubuntu bionic/main amd64 Packages [1,021 kB]\n",
            "Get:19 http://archive.ubuntu.com/ubuntu bionic-updates/main amd64 Packages [3,231 kB]\n",
            "Get:20 http://ppa.launchpad.net/deadsnakes/ppa/ubuntu bionic/main amd64 Packages [45.3 kB]\n",
            "Fetched 13.2 MB in 3s (3,774 kB/s)\n",
            "Reading package lists... Done\n",
            "Reading package lists... Done\n",
            "Building dependency tree       \n",
            "Reading state information... Done\n",
            "The following package was automatically installed and is no longer required:\n",
            "  libnvidia-common-460\n",
            "Use 'apt autoremove' to remove it.\n",
            "The following additional packages will be installed:\n",
            "  chromium-browser chromium-browser-l10n chromium-codecs-ffmpeg-extra\n",
            "Suggested packages:\n",
            "  webaccounts-chromium-extension unity-chromium-extension\n",
            "The following NEW packages will be installed:\n",
            "  chromium-browser chromium-browser-l10n chromium-chromedriver\n",
            "  chromium-codecs-ffmpeg-extra\n",
            "0 upgraded, 4 newly installed, 0 to remove and 45 not upgraded.\n",
            "Need to get 89.8 MB of archives.\n",
            "After this operation, 302 MB of additional disk space will be used.\n",
            "Get:1 http://archive.ubuntu.com/ubuntu bionic-updates/universe amd64 chromium-codecs-ffmpeg-extra amd64 101.0.4951.64-0ubuntu0.18.04.1 [1,142 kB]\n",
            "Get:2 http://archive.ubuntu.com/ubuntu bionic-updates/universe amd64 chromium-browser amd64 101.0.4951.64-0ubuntu0.18.04.1 [78.5 MB]\n",
            "Get:3 http://archive.ubuntu.com/ubuntu bionic-updates/universe amd64 chromium-browser-l10n all 101.0.4951.64-0ubuntu0.18.04.1 [4,980 kB]\n",
            "Get:4 http://archive.ubuntu.com/ubuntu bionic-updates/universe amd64 chromium-chromedriver amd64 101.0.4951.64-0ubuntu0.18.04.1 [5,153 kB]\n",
            "Fetched 89.8 MB in 4s (23.9 MB/s)\n",
            "Selecting previously unselected package chromium-codecs-ffmpeg-extra.\n",
            "(Reading database ... 155632 files and directories currently installed.)\n",
            "Preparing to unpack .../chromium-codecs-ffmpeg-extra_101.0.4951.64-0ubuntu0.18.04.1_amd64.deb ...\n",
            "Unpacking chromium-codecs-ffmpeg-extra (101.0.4951.64-0ubuntu0.18.04.1) ...\n",
            "Selecting previously unselected package chromium-browser.\n",
            "Preparing to unpack .../chromium-browser_101.0.4951.64-0ubuntu0.18.04.1_amd64.deb ...\n",
            "Unpacking chromium-browser (101.0.4951.64-0ubuntu0.18.04.1) ...\n",
            "Selecting previously unselected package chromium-browser-l10n.\n",
            "Preparing to unpack .../chromium-browser-l10n_101.0.4951.64-0ubuntu0.18.04.1_all.deb ...\n",
            "Unpacking chromium-browser-l10n (101.0.4951.64-0ubuntu0.18.04.1) ...\n",
            "Selecting previously unselected package chromium-chromedriver.\n",
            "Preparing to unpack .../chromium-chromedriver_101.0.4951.64-0ubuntu0.18.04.1_amd64.deb ...\n",
            "Unpacking chromium-chromedriver (101.0.4951.64-0ubuntu0.18.04.1) ...\n",
            "Setting up chromium-codecs-ffmpeg-extra (101.0.4951.64-0ubuntu0.18.04.1) ...\n",
            "Setting up chromium-browser (101.0.4951.64-0ubuntu0.18.04.1) ...\n",
            "update-alternatives: using /usr/bin/chromium-browser to provide /usr/bin/x-www-browser (x-www-browser) in auto mode\n",
            "update-alternatives: using /usr/bin/chromium-browser to provide /usr/bin/gnome-www-browser (gnome-www-browser) in auto mode\n",
            "Setting up chromium-chromedriver (101.0.4951.64-0ubuntu0.18.04.1) ...\n",
            "Setting up chromium-browser-l10n (101.0.4951.64-0ubuntu0.18.04.1) ...\n",
            "Processing triggers for man-db (2.8.3-2ubuntu0.1) ...\n",
            "Processing triggers for hicolor-icon-theme (0.17-2) ...\n",
            "Processing triggers for mime-support (3.60ubuntu1) ...\n",
            "Processing triggers for libc-bin (2.27-3ubuntu1.3) ...\n",
            "/sbin/ldconfig.real: /usr/local/lib/python3.7/dist-packages/ideep4py/lib/libmkldnn.so.0 is not a symbolic link\n",
            "\n"
          ]
        }
      ],
      "id": "7DdWIcr02YLb"
    },
    {
      "cell_type": "code",
      "execution_count": null,
      "metadata": {
        "id": "4b07ed60",
        "colab": {
          "base_uri": "https://localhost:8080/"
        },
        "outputId": "e6992878-5a34-48bc-d5a6-7fae08693f33"
      },
      "outputs": [
        {
          "output_type": "stream",
          "name": "stderr",
          "text": [
            "/usr/local/lib/python3.7/dist-packages/requests/__init__.py:91: RequestsDependencyWarning: urllib3 (1.26.9) or chardet (3.0.4) doesn't match a supported version!\n",
            "  RequestsDependencyWarning)\n"
          ]
        }
      ],
      "source": [
        "from bs4 import BeautifulSoup\n",
        "import requests\n",
        "import re\n",
        "import time\n",
        "import pandas as pd \n",
        "from tqdm import tqdm \n",
        "from selenium import webdriver\n",
        "from selenium.webdriver.common.by import By"
      ],
      "id": "4b07ed60"
    },
    {
      "cell_type": "code",
      "source": [
        ""
      ],
      "metadata": {
        "id": "abZoPZ3BMFC5"
      },
      "execution_count": null,
      "outputs": [],
      "id": "abZoPZ3BMFC5"
    },
    {
      "cell_type": "markdown",
      "metadata": {
        "id": "297ed824"
      },
      "source": [
        "### 셀레니움 기초"
      ],
      "id": "297ed824"
    },
    {
      "cell_type": "markdown",
      "metadata": {
        "id": "af764cb2"
      },
      "source": [
        "#### 드라이버 연결"
      ],
      "id": "af764cb2"
    },
    {
      "cell_type": "code",
      "execution_count": null,
      "metadata": {
        "scrolled": true,
        "id": "2bed6a07",
        "colab": {
          "base_uri": "https://localhost:8080/"
        },
        "outputId": "bf20df66-1062-43f5-bba6-40172c6e2cfc"
      },
      "outputs": [
        {
          "output_type": "stream",
          "name": "stderr",
          "text": [
            "/usr/local/lib/python3.7/dist-packages/ipykernel_launcher.py:5: DeprecationWarning: use options instead of chrome_options\n",
            "  \"\"\"\n"
          ]
        }
      ],
      "source": [
        "chrome_options = webdriver.ChromeOptions()\n",
        "chrome_options.add_argument('--headless')\n",
        "chrome_options.add_argument('--no-sandbox')\n",
        "chrome_options.add_argument('--disable-dev-shm-usage')\n",
        "driver = webdriver.Chrome('chromedriver', chrome_options=chrome_options)"
      ],
      "id": "2bed6a07"
    },
    {
      "cell_type": "code",
      "source": [
        "# 페이지 url 형식에 맞게 바꾸어 주는 함수 만들기\n",
        "  #입력된 수를 1, 11, 21, 31 ...만들어 주는 함수\n",
        "def makePgNum(num):\n",
        "    if num == 1:\n",
        "        return num\n",
        "    elif num == 0:\n",
        "        return num+1\n",
        "    else:\n",
        "        return num+9*(num-1)\n",
        "\n",
        "\n",
        "# 크롤링할 url 생성하는 함수 만들기(검색어, 크롤링 시작 페이지, 크롤링 종료 페이지)\n",
        "def makeUrl(search,start_pg,end_pg):\n",
        "    if start_pg == end_pg:\n",
        "        start_page = makePgNum(start_pg)\n",
        "        url = \"https://search.naver.com/search.naver?where=news&sm=tab_pge&query=\" + search + \"&start=\" + str(start_page)\n",
        "        print(\"생성url: \",url)\n",
        "        return url\n",
        "    else:\n",
        "        urls= []\n",
        "        for i in range(start_pg,end_pg+1):\n",
        "            page = makePgNum(i)\n",
        "            url = \"https://search.naver.com/search.naver?where=news&sm=tab_pge&query=\" + search + \"&start=\" + str(page)\n",
        "            urls.append(url)\n",
        "        print(\"생성url: \",urls)\n",
        "        return urls"
      ],
      "metadata": {
        "id": "a-ZarkjwrPR8"
      },
      "execution_count": null,
      "outputs": [],
      "id": "a-ZarkjwrPR8"
    },
    {
      "cell_type": "code",
      "source": [
        "#검색어 입력\n",
        "search = input(\"검색할 키워드를 입력해주세요:\")\n",
        "\n",
        "#검색 시작할 페이지 입력\n",
        "page = int(input(\"\\n크롤링할 시작 페이지를 입력해주세요. ex)1(숫자만입력):\")) # ex)1 =1페이지,2=2페이지...\n",
        "print(\"\\n크롤링할 시작 페이지: \",page,\"페이지\")   \n",
        "#검색 종료할 페이지 입력\n",
        "page2 = int(input(\"\\n크롤링할 종료 페이지를 입력해주세요. ex)1(숫자만입력):\")) # ex)1 =1페이지,2=2페이지...\n",
        "print(\"\\n크롤링할 종료 페이지: \",page2,\"페이지\")   \n",
        "\n",
        "# naver url 생성\n",
        "search_urls = makeUrl(search,page,page2)"
      ],
      "metadata": {
        "id": "raMiI_IprRUu",
        "colab": {
          "base_uri": "https://localhost:8080/"
        },
        "outputId": "c38c7a6c-de1e-4682-b8d6-038d366fcf86"
      },
      "execution_count": null,
      "outputs": [
        {
          "output_type": "stream",
          "name": "stdout",
          "text": [
            "검색할 키워드를 입력해주세요:삼성전자\n",
            "\n",
            "크롤링할 시작 페이지를 입력해주세요. ex)1(숫자만입력):1\n",
            "\n",
            "크롤링할 시작 페이지:  1 페이지\n",
            "\n",
            "크롤링할 종료 페이지를 입력해주세요. ex)1(숫자만입력):3\n",
            "\n",
            "크롤링할 종료 페이지:  3 페이지\n",
            "생성url:  ['https://search.naver.com/search.naver?where=news&sm=tab_pge&query=삼성전자&start=1', 'https://search.naver.com/search.naver?where=news&sm=tab_pge&query=삼성전자&start=11', 'https://search.naver.com/search.naver?where=news&sm=tab_pge&query=삼성전자&start=21']\n"
          ]
        }
      ],
      "id": "raMiI_IprRUu"
    },
    {
      "cell_type": "markdown",
      "source": [
        "### Page가 얼마안돼도 시간이좀 걸립니다.\n",
        "\n",
        "\n"
      ],
      "metadata": {
        "id": "ZPJZ9laM3TzV"
      },
      "id": "ZPJZ9laM3TzV"
    },
    {
      "cell_type": "code",
      "source": [
        "driver.implicitly_wait(3)\n",
        "\n",
        "\n",
        "# selenium으로 검색 페이지 불러오기 #\n",
        "\n",
        "naver_urls=[]\n",
        "\n",
        "for i in tqdm(search_urls):\n",
        "    driver.get(i)\n",
        "    time.sleep(1) #대기시간 변경 가능\n",
        "\n",
        "    # 네이버 기사 눌러서 제목 및 본문 가져오기#\n",
        "    # 네이버 기사가 있는 기사 css selector 모아오기\n",
        "    a = driver.find_elements(By.CSS_SELECTOR,'a.info')\n",
        "\n",
        "    # 위에서 생성한 css selector list 하나씩 클릭하여 본문 url얻기\n",
        "    for i in a:\n",
        "        i.click()\n",
        "\n",
        "        # 현재탭에 접근\n",
        "        driver.switch_to.window(driver.window_handles[1])\n",
        "        time.sleep(3) #대기시간 변경 가능\n",
        "\n",
        "        # 네이버 뉴스 url만 가져오기\n",
        "\n",
        "        url = driver.current_url\n",
        "        print(url)\n",
        "\n",
        "        if \"news.naver.com\" in url:\n",
        "            naver_urls.append(url)\n",
        "  \n",
        "        else:\n",
        "            pass\n",
        "        \n",
        "        # 현재 탭 닫기\n",
        "        driver.close()\n",
        "\n",
        "        # 다시처음 탭으로 돌아가기(매우 중요!!!)\n",
        "        driver.switch_to.window(driver.window_handles[0])\n",
        "\n",
        "print(naver_urls)"
      ],
      "metadata": {
        "id": "Z9kOjThkrSEz",
        "colab": {
          "base_uri": "https://localhost:8080/"
        },
        "outputId": "69749ade-954b-4ffa-d663-bcf0342e6abd"
      },
      "execution_count": null,
      "outputs": [
        {
          "output_type": "stream",
          "name": "stderr",
          "text": [
            "\r  0%|          | 0/3 [00:00<?, ?it/s]"
          ]
        },
        {
          "output_type": "stream",
          "name": "stdout",
          "text": [
            "https://www.seoul.co.kr/\n",
            "https://n.news.naver.com/mnews/article/081/0003277782?sid=101\n",
            "https://newsis.com/\n",
            "https://n.news.naver.com/mnews/article/003/0011225273?sid=101\n",
            "https://www.edaily.co.kr/\n",
            "https://www.edaily.co.kr/popup/viewpopup.html?v=5\n",
            "https://n.news.naver.com/mnews/article/018/0005233147?sid=101\n",
            "https://www.news1.kr/\n",
            "https://n.news.naver.com/mnews/article/421/0006135487?sid=101\n",
            "https://www.fnnews.com/\n",
            "https://n.news.naver.com/mnews/article/014/0004846235?sid=101\n",
            "https://www.hankyung.com/\n",
            "https://n.news.naver.com/mnews/article/015/0004706883?sid=101\n",
            "https://static.hankyung.com/popup/220520/\n",
            "https://www.nocutnews.co.kr/\n",
            "https://n.news.naver.com/mnews/article/079/0003650451?sid=101\n",
            "https://www.chosun.com/\n",
            "https://n.news.naver.com/mnews/article/023/0003695467?sid=101\n",
            "https://www.sedaily.com/\n"
          ]
        },
        {
          "output_type": "stream",
          "name": "stderr",
          "text": [
            "\r 33%|███▎      | 1/3 [02:14<04:28, 134.31s/it]"
          ]
        },
        {
          "output_type": "stream",
          "name": "stdout",
          "text": [
            "https://n.news.naver.com/mnews/article/011/0004061246?sid=101\n",
            "https://moneys.mt.co.kr/\n",
            "https://n.news.naver.com/mnews/article/417/0000819467?sid=105\n",
            "https://newsis.com/\n",
            "https://n.news.naver.com/mnews/article/003/0011228255?sid=101\n",
            "https://www.hankyung.com/\n",
            "https://static.hankyung.com/popup/220520/\n",
            "https://n.news.naver.com/mnews/article/015/0004707198?sid=105\n",
            "https://www.yna.co.kr/\n",
            "https://n.news.naver.com/mnews/article/001/0013224773?sid=101\n",
            "https://www.yna.co.kr/\n",
            "https://n.news.naver.com/mnews/article/001/0013222336?sid=101\n",
            "https://www.yna.co.kr/\n",
            "https://n.news.naver.com/mnews/article/001/0013221725?sid=101\n",
            "http://www.bizwatch.co.kr/\n",
            "https://n.news.naver.com/mnews/article/648/0000008323?sid=101\n",
            "https://newsis.com/\n",
            "https://n.news.naver.com/mnews/article/003/0011225209?sid=101\n",
            "https://www.yna.co.kr/\n",
            "https://n.news.naver.com/mnews/article/001/0013221438?sid=101\n"
          ]
        },
        {
          "output_type": "stream",
          "name": "stderr",
          "text": [
            "\r 67%|██████▋   | 2/3 [03:33<01:42, 102.12s/it]"
          ]
        },
        {
          "output_type": "stream",
          "name": "stdout",
          "text": [
            "https://www.edaily.co.kr/\n",
            "https://n.news.naver.com/mnews/article/018/0005232591?sid=101\n",
            "https://www.edaily.co.kr/popup/viewpopup.html?v=3\n",
            "https://zdnet.co.kr/\n",
            "https://n.news.naver.com/mnews/article/092/0002258703?sid=105\n",
            "http://biz.heraldcorp.com/\n",
            "https://n.news.naver.com/mnews/article/016/0001999102?sid=105\n",
            "https://www.chosun.com/\n",
            "https://n.news.naver.com/mnews/article/023/0003695331?sid=105\n",
            "https://biz.sbs.co.kr/\n",
            "https://n.news.naver.com/mnews/article/374/0000288654?sid=101\n",
            "https://zdnet.co.kr/\n",
            "https://n.news.naver.com/mnews/article/092/0002258579?sid=105\n",
            "https://www.edaily.co.kr/\n",
            "https://n.news.naver.com/mnews/article/018/0005232175?sid=101\n",
            "https://www.edaily.co.kr/popup/viewpopup.html?v=6\n",
            "https://newsis.com/\n",
            "https://n.news.naver.com/mnews/article/003/0011224609?sid=101\n",
            "https://moneys.mt.co.kr/\n",
            "https://n.news.naver.com/mnews/article/417/0000819138?sid=101\n"
          ]
        },
        {
          "output_type": "stream",
          "name": "stderr",
          "text": [
            "100%|██████████| 3/3 [04:47<00:00, 95.74s/it]"
          ]
        },
        {
          "output_type": "stream",
          "name": "stdout",
          "text": [
            "https://magazine.hankyung.com/\n",
            "['https://n.news.naver.com/mnews/article/081/0003277782?sid=101', 'https://n.news.naver.com/mnews/article/003/0011225273?sid=101', 'https://n.news.naver.com/mnews/article/018/0005233147?sid=101', 'https://n.news.naver.com/mnews/article/421/0006135487?sid=101', 'https://n.news.naver.com/mnews/article/014/0004846235?sid=101', 'https://n.news.naver.com/mnews/article/015/0004706883?sid=101', 'https://n.news.naver.com/mnews/article/079/0003650451?sid=101', 'https://n.news.naver.com/mnews/article/023/0003695467?sid=101', 'https://n.news.naver.com/mnews/article/011/0004061246?sid=101', 'https://n.news.naver.com/mnews/article/417/0000819467?sid=105', 'https://n.news.naver.com/mnews/article/003/0011228255?sid=101', 'https://n.news.naver.com/mnews/article/015/0004707198?sid=105', 'https://n.news.naver.com/mnews/article/001/0013224773?sid=101', 'https://n.news.naver.com/mnews/article/001/0013222336?sid=101', 'https://n.news.naver.com/mnews/article/001/0013221725?sid=101', 'https://n.news.naver.com/mnews/article/648/0000008323?sid=101', 'https://n.news.naver.com/mnews/article/003/0011225209?sid=101', 'https://n.news.naver.com/mnews/article/001/0013221438?sid=101', 'https://n.news.naver.com/mnews/article/018/0005232591?sid=101', 'https://n.news.naver.com/mnews/article/092/0002258703?sid=105', 'https://n.news.naver.com/mnews/article/016/0001999102?sid=105', 'https://n.news.naver.com/mnews/article/023/0003695331?sid=105', 'https://n.news.naver.com/mnews/article/374/0000288654?sid=101', 'https://n.news.naver.com/mnews/article/092/0002258579?sid=105', 'https://n.news.naver.com/mnews/article/018/0005232175?sid=101', 'https://n.news.naver.com/mnews/article/003/0011224609?sid=101', 'https://n.news.naver.com/mnews/article/417/0000819138?sid=101']\n"
          ]
        },
        {
          "output_type": "stream",
          "name": "stderr",
          "text": [
            "\n"
          ]
        }
      ],
      "id": "Z9kOjThkrSEz"
    },
    {
      "cell_type": "code",
      "source": [
        "naver_urls"
      ],
      "metadata": {
        "id": "gtfAcWHcvLFl",
        "colab": {
          "base_uri": "https://localhost:8080/"
        },
        "outputId": "a92de8e2-12ac-45b4-df39-7de8b8202021"
      },
      "execution_count": null,
      "outputs": [
        {
          "output_type": "execute_result",
          "data": {
            "text/plain": [
              "['https://n.news.naver.com/mnews/article/081/0003277782?sid=101',\n",
              " 'https://n.news.naver.com/mnews/article/003/0011225273?sid=101',\n",
              " 'https://n.news.naver.com/mnews/article/018/0005233147?sid=101',\n",
              " 'https://n.news.naver.com/mnews/article/421/0006135487?sid=101',\n",
              " 'https://n.news.naver.com/mnews/article/014/0004846235?sid=101',\n",
              " 'https://n.news.naver.com/mnews/article/015/0004706883?sid=101',\n",
              " 'https://n.news.naver.com/mnews/article/079/0003650451?sid=101',\n",
              " 'https://n.news.naver.com/mnews/article/023/0003695467?sid=101',\n",
              " 'https://n.news.naver.com/mnews/article/011/0004061246?sid=101',\n",
              " 'https://n.news.naver.com/mnews/article/417/0000819467?sid=105',\n",
              " 'https://n.news.naver.com/mnews/article/003/0011228255?sid=101',\n",
              " 'https://n.news.naver.com/mnews/article/015/0004707198?sid=105',\n",
              " 'https://n.news.naver.com/mnews/article/001/0013224773?sid=101',\n",
              " 'https://n.news.naver.com/mnews/article/001/0013222336?sid=101',\n",
              " 'https://n.news.naver.com/mnews/article/001/0013221725?sid=101',\n",
              " 'https://n.news.naver.com/mnews/article/648/0000008323?sid=101',\n",
              " 'https://n.news.naver.com/mnews/article/003/0011225209?sid=101',\n",
              " 'https://n.news.naver.com/mnews/article/001/0013221438?sid=101',\n",
              " 'https://n.news.naver.com/mnews/article/018/0005232591?sid=101',\n",
              " 'https://n.news.naver.com/mnews/article/092/0002258703?sid=105',\n",
              " 'https://n.news.naver.com/mnews/article/016/0001999102?sid=105',\n",
              " 'https://n.news.naver.com/mnews/article/023/0003695331?sid=105',\n",
              " 'https://n.news.naver.com/mnews/article/374/0000288654?sid=101',\n",
              " 'https://n.news.naver.com/mnews/article/092/0002258579?sid=105',\n",
              " 'https://n.news.naver.com/mnews/article/018/0005232175?sid=101',\n",
              " 'https://n.news.naver.com/mnews/article/003/0011224609?sid=101',\n",
              " 'https://n.news.naver.com/mnews/article/417/0000819138?sid=101']"
            ]
          },
          "metadata": {},
          "execution_count": 7
        }
      ],
      "id": "gtfAcWHcvLFl"
    },
    {
      "cell_type": "code",
      "source": [
        "\n",
        "# ConnectionError방지\n",
        "headers = { \"User-Agent\": \"Mozilla/5.0 (Windows NT 10.0; Win64; x64) Chrome/98.0.4758.102\" }\n",
        "\n",
        "titles = []\n",
        "contents=[]\n",
        "for i in naver_urls:\n",
        "    original_html = requests.get(i,headers=headers)\n",
        "    html = BeautifulSoup(original_html.text, \"html.parser\")\n",
        "    # 검색결과확인시\n",
        "    # print(html)\n",
        "    \n",
        "    #뉴스 제목 가져오기\n",
        "    title = html.select(\"#ct > div.media_end_head.go_trans > div.media_end_head_title\")\n",
        "    # list합치기\n",
        "    title = ''.join(str(title))\n",
        "    # html태그제거\n",
        "    pattern1 = '<[^>]*>'\n",
        "    title = re.sub(pattern=pattern1,repl='',string=title)\n",
        "    titles.append(title)\n",
        "\n",
        "    #뉴스 본문 가져오기\n",
        "\n",
        "    content = html.select(\"#dic_area\")\n",
        "\n",
        "    # 기사 텍스트만 가져오기\n",
        "    # list합치기\n",
        "    # print(content)\n",
        "    content = ''.join(str(content))\n",
        "    \n",
        "    #html태그제거 및 텍스트 다듬기\n",
        "    content = re.sub(pattern=pattern1,repl='',string=content)\n",
        "    pattern2 = \"\"\"[\\n\\n\\n\\n\\n// flash 오류를 우회하기 위한 함수 추가\\nfunction _flash_removeCallback() {}\"\"\"\n",
        "    content = content.replace(pattern2,'')\n",
        "\n",
        "    contents.append(content)\n",
        "\n",
        "print(titles)\n",
        "print(contents)"
      ],
      "metadata": {
        "id": "SZvPGJP3rSX7",
        "colab": {
          "base_uri": "https://localhost:8080/"
        },
        "outputId": "b0913272-7d81-4857-90b8-6ff62356d17f"
      },
      "execution_count": null,
      "outputs": [
        {
          "output_type": "stream",
          "name": "stdout",
          "text": [
            "['[\\n이찬희 삼성 준법위원장 “이재용 사면 결단내려야”\\n]', '[\\n이재승 삼성전자 사장 \"국내 판매 냉장고 3대 중 2대 비스포크\"\\n]', '[\\n이찬희 삼성 준법위원장 “이재용 부회장 사면, 국민의 뜻”\\n]', \"[\\n대기업 고용인원 170만명 1년새 6만명↑…삼성전자 11만명 '최대'\\n]\", '[\\n삼성전자, 반도체연구소장 등 임원인사 단행\\n]', '[\\n삼성전자에 무슨 일이…반도체 임원 20여명 교체\\n]', \"[\\n삼성전자, 브라질서 에어컨 전력량 관리 '스마트싱스 에너지' 출시\\n]\", '[\\n삼성스팩 이틀 연속 상한가, 증권가도 당황했다… 무슨 일?\\n]', \"[\\n반도체 부사장 10명 교체…급박하게 돌아가는 '삼성시계' [뒷북비즈]\\n]\", \"[\\n삼성전자, 1분기 스마트워치 시장 2위… '갤럭시워치4'가 점유율 늘려\\n]\", '[\\n삼성전자, 임원까지 주식 매입 나섰지만…주가 한 달째 제자리\\n]', \"[\\n삼성, 폴더블폰 독주…'글로벌 점유율 74%' 압도적 1위\\n]\", \"[\\n삼성전자, 브라질서 전력량 관리 '스마트싱스 에너지' 출시\\n]\", \"[\\n삼성전자, '페이퍼 프리' 시스템 전세계 서비스센터로 확대 적용\\n]\", '[\\n삼성전자, 비스포크 냉장고 출시 3주년 기념 한정판 패널 판매\\n]', '[\\n삼성전자, 반도체 전열 다시 정비했다\\n]', \"[\\n삼성전자, 180개국 글로벌 서비스센터서 '전자영수증' 발급\\n]\", '[\\n20대 기업 현금성 자산 226조원…삼성전자 124조원\\n]', \"[\\n'6만전자' 묶인 삼성전자…M&amp;A로 분위기 반전할까\\n]\", '[\\n삼성 스마트싱스가 서버리스와 플링크 택한 이유\\n]', '[\\n“이게 겨우 10만원, 진짜야?” 삼성 ‘헐값’ 유혹\\n]', '[\\n삼성전자 전자영수증 전세계 서비스센터 확대\\n]', '[\\n삼성전자, 갑자기 반도체 임원 20여 명 물갈이…왜?\\n]', \"[\\n네이버클라우드-삼성전자, 국내 1호 '5G특화망' 상용화 협력\\n]\", '[\\n[단독]삼성전자, 리스크관리 컨트롤타워 신설한다\\n]', \"[\\n삼성 비스포크 냉장고, 美아티스트 '알렉스 프로바' 디자인 입다\\n]\", \"[\\n'광폭 경영 행보' 이재용 삼성전자 부회장 뒤엔 파운드리 위기감\\n]\"]\n",
            "['[\\n삼성 7개사 최고경영진 간담회 앞서“국민의 뜻에 따라야 한다고 생각”\\u3000\\n\\n\\n\\n질문에 답하는 이찬희 삼성 준법감시위원회 위원장 - 이찬희 삼성준법감시위원장이 3일 서울 삼성전자 서초사옥에서 열린 삼성 최고경영진과 준법위 위원들과의 간담회에 참석하며 취재진 질문에 답하고 있다.뉴스1이찬희 2기 삼성 준법감시위원회 위원장이 “이재용 삼성전자 부회장을 사면해야 한다”는 입장을 밝혔다.이 위원장은 3일 오후 3시 서울 삼성전자 서초사옥에서 열린 준법위 위원들과 삼성 7개사 최고경영진과의 간담회에 앞서\\xa0기자들과 만나\\xa0“국민의 뜻에 따라 결단을 내려줬으면 하는 생각”이라며 이같이 밝혔다.앞서 이 위원장은 지난달 한 언론과의 인터뷰에서도 “이 부회장을 조속히 사면해야 한다”고 말한 바 있다.이 위원장은 이날 “정치건 경제건 국민의 뜻에 따라야 한다고 생각한다”며 “국민들이 코로나19 이후 어려운 경제 상황 속에서 국가 경제가 발전하고 본인들의 생활이 나아지기를 바라는데 삼성의 최고경영진이 재판 때문에 회사를 제대로 경영할 수 없다는 건 결국 국민이 피해를 보는 것”이라고 주장했다.그는 다른 준법위 위원들도 이 부회장을 사면해야 한다는 의견에 동의하는지를 묻는 질문에는 “전체적으로 다른 의견은 아니라고 생각한다”고 답했다.이 위원장은 이날 삼성 최고경영진과의 간담회 내용에 대해선 “그간 논의됐던 인권이나 환경·사회·지배구조(ESG), 공정 경영을 비롯한 전체적인 부분에 대해 허심탄회하게 최고경영진과 논의하겠다”고 소개했다.이날 행사는 2기 준법위 출범 이후 준법위원들과 삼성 7개사 최고경영진과의 첫 상견례 자리다. 이날 행사에는 한종희 삼성전자 부회장, 최윤호 삼성SDI 사장, 고정석 삼성물산 사장, 전영묵 삼성생명 사장, 황성우 삼성SDS 사장, 홍원학 삼성화재 사장, 장덕현 삼성전기 사장 등이 참석했다.그는 2기 준법위의 주요 과제인 삼성 지배구조 개선과 관련해서는 “보스턴컨설팅그룹(BCG)의 보고서나 삼성 내부에서 지배구조와 관련해 어떤 논의가 어떻게 진행되는지 전반적으로 이야기를 나눠볼 것”이라고 했다.이 부회장과 준법위원들의 만남을 정례화할 지에 대해선 “조만간 이뤄져야 하지만 이 부회장이 재판을 계속 받아야 하고 코로나19도 완전히 해소된 상황이 아니라 좀 더 정리되면 조만간 만날 계획”이라며 “서로 만날 준비는 다 돼 있다”고 했다. 이 부회장은 지난 3월 14일 이 위원장과 처음 만나 준법위의 독립성을 보장하고 만남을 정례화하겠다고 약속한 바 있다.\\n\\t\\t]', '[\\n기사내용 요약비스포크 홈 2022 글로벌 행사 앞두고 비전 공개2019년 출시 후 비스포크 냉장고 판매량 200만대비스포크 프리미엄 라인 \\'인피니트\\' 제품군 강조\\n\\n\\n\\n[서울=뉴시스] 이재승 삼성전자 생활가전사업부장(사장). (사진=삼성전자 뉴스룸 제공). 2022.06.02. photo@newsis.com *재판매 및 DB 금지[서울=뉴시스]동효정 기자 = \"고객의 다양한 취향과 선호, 라이프스타일을 반영한 비스포크의 도입으로 삼성전자의 가전사업은 새롭게 정의됐고 한 단계 진화했다.\"이재승 삼성전자 생활가전사업부장(사장)이 오는 7일 열리는 \\'2022 비스포크 홈\\' 글로벌 행사를 앞두고 자사 홈페이지인 삼성 뉴스룸에 \\'비스포크 홈 2022, 홈 라이프 개념을 확장하다\\'는 제목의 기고문을 2일 올렸다. 이재승 사장은 \"2019년 \\'비스포크\\' 콘셉트를 도입하면서 기존 가전업계의 패러다임을 뛰어넘어 맞춤형 가전의 새로운 시대를 열었다\"면서 \"2021년 비스포크 홈 글로벌 행사에 이어 올해 다시 이 행사를 개최하면서 디자인 철학을 더욱 발전시키고, 다양한 제품을 통해 소비자에게 더 많은 가치를 선사하고자 한다\"고 했다. 삼성전자는 지난 2019년 가전사업에 비스포크 브랜드를 도입하고 생활가전은 물론 스마트폰 등 모바일 분야까지 제품군을 확대했다. 삼성전자에 따르면 비스포크 냉장고의 글로벌 판매량은 2019년 출시 이후 200만대에 달하며 국내에서 판매된 삼성 냉장고 가운데 3분의 2가 비스포크였다.삼성전자는 지난 1년간 조사·분석한 정보를 바탕으로 올해 비스포크 홈 2022 비전을 ▲공간의 확장 ▲경험의 확장 ▲시간의 확장으로 정했다. 이재승 사장은 \"확대되고 있는 \\'집\\'의 역할에 맞춰 가전의 가능성을 넓히는 \\'공간의 확장\\'이라는 가치를 통해 집안 전체를 아우르는 20개 이상의 제품 라인업을 제공한다\"며 \"한층 유연하고 편리한 홈 솔루션으로 거듭나 집안 어디서든 소비자의 일상과 함께하는 것이 삼성전자의 목표\"라고 설명했다.비스포크 홈에 새롭게 도입한 \\'인피니트 라인(Infinite Line)\\'도 재차 강조했다. 인피니트 라인은 삼성전자가 지난 2월 공개한 프리미엄 제품군 브랜드다. 이 사장은 \"삼성전자는 소비자의 변화하는 취향을 비롯해 지난 1년간 조사·분석한 정보를 바탕으로 더 많은 소비자가 비스포크 홈을 경험할 수 있도록 비스포크 제품의 범위를 확대하고 있다\"며 \"비스포크 홈에 새롭게 도입되는 인피니트 라인이 선보이는 유행을 타지 않는 가치가 그 대표적인 예\"라고 말했다. 그는 \"\\'스마트싱스 홈 라이프\\' 솔루션을 통해 쿠킹, 에너지, 클로딩 케어, 펫 케어, 에어 케어, 홈 케어 등 집안 생활에서 필요로 하는 6대 서비스를 소비자들이 하나의 플랫폼에서 제어할 수 있도록 경험의 확장을 시현하고 있으며 곧 국내를 넘어 글로벌 출시도 앞두고 있다\"고 설명했다.시간의 확장 비전에 대해서는 \"비스포크 홈은 제품 경험부터 친환경 활동까지, 지속가능성을 생각하고 있다\"며 \"높은 내구성의 제품을 개발하고, 생산에서 폐기까지 제품 생애주기에 걸쳐 환경을 위한 노력을 다하는 데 초점을 맞추고 있다\"고 말했다.이 사장은 \"가전은 집안일을 돕는 필수 요소를 넘어 일상생활을 더 즐길 수 있게 해주는 요소\"라며 \"국내에서 시작돼 해외로 펼쳐나가는 \\'비스포크 홈 2022\\'을 통해 소비자 개개인의 라이프스타일, 취향을 만족시키고, 지속 가능한 일상을 실현하는 데 한 걸음 더 다가갈 것\"이라고 강조했다．\\n]', '[\\n삼성 준법위·최고경영진 간담회 참석“재판으로 경영 어려움…결단 내려야”간담회선 “솔직하고 허심탄회한 소통할 것”\\n\\n\\n\\n이찬희 삼성 준법감시위원회 위원장. (사진=이다원 기자)[이데일리 이다원 기자] 이찬희 삼성 준법감시위원회(준법위) 위원장이 “국민의 뜻”이라며 이재용 삼성전자 부회장을 사면해야 한다는 뜻을 밝혔다.이 위원장은 3일 서울 삼성전자 서초사옥에서 열린 삼성 최고 경영진·준법위 간담회에 참석하기 앞서 기자들과 만나이같이 말했다.이 위원장은 “정치나 경제는 국민의 뜻에 따라야 한다고 생각한다”며 “국민들이 코로나19 이후 어려운 경제 상황 속에서 국가 경제가 발전하고 본인의 생활이 나아지기를 바란다”고 했다.이어 “국내 최고의 기업이자 글로벌 기업인 삼성 최고 경영진이 재판 때문에 제대로 경영할 수 없다는 것은 결국 국민이 피해를 보는 것”이라며 “그래서 국민의 뜻에 따라 결단을 내려줬으면 하는 생각”이라고 강조했다.준법위의 입장이냐는 질문에 이 위원장은 “준법위원들과 끊임없이 소통하는 부분”이라며 “전체적으로 다른 의견은 아니라고 생각한다”고 답했다.이 부회장과 전체 준법위의 정례 만남 시점에 대해서는 “조만간 이뤄져야 하는데 (이 부회장ㅇ) 재판도 계속 받아야 하고 아직 코로나19가 완전 해소된 게 아니다”며 “좀 더 정리되면 조만간 만날 계획이 있다”고 내다봤다.최고경영진 간담회는 삼성 준법위 위원과 삼성전자 등 7개 관계사 최고경영진이 준법경영 현황을 공유하고 실천 방안을 논의하는 자리로 지난해 처음 열렸다.이날 열릴 간담회에서 준법위는 인권과 ESG(환경·사회·지배구조), 공정 경영 등 전체적인 내용을 논의할 계획이다.이 위원장은 “1기 준법위 성과 위에서 2기 준법위가 나갈 방향과 건전한 긴장관계 속에서 상호 협조하며 삼성을 제대로 세울 것인지, 그리고 삼성이 앞으로 글로벌 기업으로 성장하기 위해 어떤 준법경영 의지를 가질 것인지에 대해 이야기할 계획”이라고 설명했다. 이어 “솔직하고 허심탄회하게 최고 경영진과 이야기 나눌 것”이라고 했다.\\n]', '[\\n쿠팡, 작년 고용인원 3만명 늘어…고용 최다 그룹은 \\'삼성\\' 26.6만명\\n\\n\\n\\n자산 5조원 이상 대기업 집단 고용 증감 현황 © 뉴스1(서울=뉴스1) 신건웅 기자 = 지난해 자산 5조원 이상 대기업 집단(그룹)의 고용인원이 170만명에 육박했다. 1년 전보다 6만명 넘게 늘어난 수치다. 쿠팡이 3만명 가까이 고용을 늘리며 힘을 보탰다. 최다 고용 그룹은 삼성으로 26만6800명에 달했다. 삼성전자 직원수가 단일 기업 중 유일하게 10만명을 넘어 11만명에 육박했다.   한국CXO연구소는 이 같은 내용의 \\'76개 그룹 대상 2020년~2021년 고용 변동 분석\\' 결과를 2일 발표했다. 조사 대상은 공정거래위원회(공정위)가 올해 지정한 자산 5조원이 넘는 76개 대기업 집단 중 고용 인원이 1명 이상 기재된 2328개 계열사다. 지난해 2300곳이 넘는 기업의 전체 직원 수는 169만8970명으로 1년 전(163만5230명)보다 6만3740명 늘었다. 지난해 12월 고용보험 가입자수 1455만 33명의 11.7% 수준이다. \\n\\n\\n\\n대기업 진단별 고용 증가 현황 © 뉴스11년 새 직원 수가 증가한 곳은 42곳이었고 25곳은 감소세를 보였다. 9곳은 올해 대기업 집단으로 신규 편입됐다. . 직원 일자리가 늘어난 42곳 중에서도 고용을 가장 많이 한 그룹은 \\'쿠팡\\'이다. 2020년 4만3402명에서 지난해 7만2763명으로 2만9361명이나 늘었다.현대자동차그룹은 8027명(16만6925명→17만4962명)이 늘어 고용 증가 2위를 차지했다. 중흥건설은 2020년 기준 1500명대였던 그룹 인원이 지난해 8401명으로 6865명이나 증가했다. 대우건설을 품으면서 그룹 전체 고용 규모가 크게 늘었다. 증가 규모는 이어 삼성(4728명), 신세계(4431명), LG(4158명), 카카오(3967명), SK(2596명), 현대중공업(2449명), 네이버(1795명) 순이다. 1000명 넘게 그룹 직원 수가 감소한 곳은 7곳으로 파악됐다. 두산이 2020년 기준 1만4987명에서 지난해 1만670명으로 1년 새 4317명 줄었다. 이어 효성(2481명), 한진(2034명), 이랜드(1878명), KT(1734명), 금호아시아나(1242명), 아모레퍼시픽(1082명) 등도 1년 사이 직원들이 1000명 넘게 감소했다.지난해 \\'고용 1만 명 클럽\\'은 28곳(1.2%)으로 1년 전보다 2곳 줄었다. 현대해상(1만214명→9557명)과 대우조선해양(1만518명→9741명)은 지난해 고용 1만명 클럽에서 탈락했다. 삼성전자는 10만9253명으로 단일 기업 중 유일하게 직원 수가 10만명을 넘어섰다. 이어 현대자동차(7만1880명), 쿠팡풀필먼트서비스(4만6306명), LG전자(3만8388명), 기아(3만5120명)가 고용 톱5에 포함됐다. SK하이닉스(2만9641명), LG디스플레이(2만8313명), 이마트(2만8000명), 쿠팡(2만5188명), 롯데쇼핑(2만3157명)도 상위권이다. 지난해 기준 그룹 전체 고용 규모별 순위는 삼성이 26만6854명으로 가장 많았다. 이어 현대차(17만4952명), LG(15만8791명), SK(11만7438명)도 고용 10만명이 넘었다. 이어 롯데(8만3179명), 쿠팡(7만2763명), 신세계(7만2446명), KT(5만8049명), CJ(5만2931명), 한화(4만2378명) 그룹이 고용 규모가 컸다.오일선 한국CXO연구소 소장은 \"고용이 지속적으로 증가하려면 전통적인 제조업보다는 IT를 기반으로 하는 물류 및 유통, 서비스 업종과 함께 신규 사업 등에서 직원 수를 확대해나가는 것이 절실하다\"고 말했다.\\n\\t\\t]', '[\\n\\n\\n\\n\\n삼성전자 평택캠퍼스 사진=뉴스1 [파이낸셜뉴스] 삼성전자가 2일 반도체 선행기술 연구개발(R&amp;D) 조직인 반도체연구소 등에 대한 보직 인사와 조직 개편을 단행했다.   2일 관련 업계에 따르면 삼성전자는 이날 신임 반도체연구소장으로 송재혁(55) 플래시개발실장(부사장)을 선임했다. 송 부사장은 그간 삼성전자에서 차세대 낸드플래시 개발을 주도해온 것으로 알려졌다.   아울러 삼성전자는 기술개발 역량을 전문화하기 위해 메모리 기술 개발을 담당하는 메모리TD실을 D램 TD실과 플래시 TD실로 분리했다.   D램 TD실장은 박제민(51) 부사장이, 플래시 TD실장은 장재훈(53) 부사장이 각각 맡는다.   신임 글로벌 제조·인프라총괄 인프라기술센터장에는 장성대(58) 글로벌 제조·인프라총괄 환경안전센터장 부사장이 선임됐다.   파운드리(반도체 위탁생산) 사업부에서도 임원 인사가 진행됐다.   신임 파운드리 제조기술센터장에는 남석우(56) DS부문 CSO 및 글로벌 제조·인프라총괄 부사장이, 파운드리기술혁신팀장에는 김홍식(53) 메모리제조기술센터 부사장이 각각 선임됐다.\\n\\t\\t]', '[\\n자체 개발한 AP 엑시노스 수율 관련 조직 쇄신 인사반도체연구소도 조직 개편\\n\\n\\n\\n사진=연합뉴스삼성전자가 2일 반도체연구소, 파운드리사업부 등 DS(반도체)부문 부사장급 임원을 10명 이상 교체했다. 스마트폰의 두뇌 역할을 하는 애플리케이션프로세서(AP) 결함과 관련한 문책성 인사라는 것이 업계의 분석이다. AP는 스마트폰에서 데이터 통신, 연산 등을 담당하는 핵심 반도체다. 데이터 처리 속도와 전력 소모량 등 스마트폰 성능을 좌우한다.삼성전자는 이날 신임 반도체연구소장엔 송재혁 플래시개발팀장(부사장)을, 파운드리 제조기술센터장엔 남석우 부사장을 선임하는 인사를 단행했다. 남 부사장은 기존에 맡고 있던 글로벌 제조·인프라 총괄을 겸직한다. 이번 인사 규모는 20명을 넘는 것으로 알려졌다. 이 중 부사장급 임원만 10여 명이다.반도체연구소 조직에도 변화를 줬다. 메모리TD(기술개발)실을 ‘D램 TD실’, ‘플래시 TD실’로 세분화하고 ‘차세대연구실’을 신설했다. 분야별 선행 기술 연구에 방점을 둔 조직 개편이라는 게 삼성 측 설명이다.이번 인사는 삼성전자가 자체 개발한 AP인 엑시노스의 수율과 관련한 판단에 따른 것으로 전해졌다. 당초 삼성전자 DS부문은 올해 초 갤럭시S22에 엑시노스를 대량 공급하는 방안을 추진했다. 하지만 수율이 제대로 나오지 않아 납기를 맞추는 데 실패했다. 급기야 유럽을 제외한 나머지 지역 갤럭시S22엔 미국 퀄컴의 스냅드래곤이 탑재됐다.이 같은 수율 문제는 삼성전자에 부담이었다는 게 업계 전언이다. 아무리 뛰어난 설계를 해도 이를 구현하는 미세공정 체계가 받쳐주지 않으면 소용없기 때문이다. 이재용 삼성전자 부회장은 2019년 “2030년 파운드리 분야 세계 1위를 달성하겠다”고 선언했다. 세계 파운드리 시장 부동의 1위는 대만 TSMC다. 시장조사업체 트렌드포스에 따르면 지난해 세계 파운드리 시장 1위는 TSMC(53%), 2위는 삼성전자(18%)다.경계현 삼성전자 DS부문장(사장)은 올 하반기 설계 역량과 미세공정 완성도를 끌어올리는 데 집중하는 계획을 세운 것으로 알려졌다. 일각에선 이 부회장이 지난달 30일 팻 겔싱어 인텔 최고경영자(CEO)를 만나 반도체 협력 방안을 논의한 게 ‘변곡점’이 될 수 있다는 분석도 나온다.\\n]', '[\\n핵심요약스마트싱스 에너지 서비스는 한국을 비롯해 미국·영국·인도에서 서비스를 시작했으며 브라질은 삼성 무풍에어컨이 인기를 끌면서 다섯 번째 도입 국가가 됐다.\\n\\n\\n\\n삼성전자가 브라질 상파울루에 위치한 브라질 법인 쇼룸에서 2022년형 에어컨 신제품 행사를 1일(현지 시간) 개최하고, \\'스마트싱스 에너지\\' 서비스를 출시했다. 삼성전자 제공.삼성전자는 지난 1일(현지시간) 브라질 상파울루에서 2022년형 에어컨 신제품 행사를 개최하고 \\'스마트싱스 에너지\\'(SmartThings Energy) 서비스를 출시했다고 3일 밝혔다.스마트싱스 에너지 서비스는 에어컨을 비롯한 가전제품의 전력 사용량을 모니터링하고 예상 전기요금도 확인할 수 있어 효과적인 전략량 관리는 물론 에너지 절감에 큰 도움이 된다.스마트싱스 에너지 서비스는 한국을 비롯해 미국·영국·인도에서 서비스를 시작했으며 브라질은 삼성 무풍에어컨이 인기를 끌면서 다섯 번째 도입 국가가 됐다.무풍에어컨은 2016년 삼성전자가 개발한 세계 최초의 직바람 없이 쾌적한 냉방이 가능한 제품이다. 브라질에서는 지난 2020년 9월 무풍에어컨이 도입된 이후 삼성전자 에어컨 매출이 연 평균 약 40%의 높은 성장세를 기록 중이다.\\n\\n\\n\\n삼성전자가 브라질 상파울루에 위치한 브라질 법인 쇼룸에서 2022년형 에어컨 신제품 행사를 1일(현지 시간) 개최하고, \\'스마트싱스 에너지\\' 서비스를 출시했다. 삼성전자 제공.브라질은 한국과 달리 100여개에 달하는 전력회사가 전력을 공급하고 있어 요금 체계가 복잡하고 전기 요금도 비싸 효율적인 전력량 관리에 대한 수요가 있었다.회사는 이 같은 상황을 감안해 현지 연구소와의 적극적인 협업을 통해 철저한 현지화 전략을 꾀했다고 설명했다.지역별 서로 다른 요율 체계를 반영하기 위한 별도 서버를 운영하고, 서비스 이용 시 국가와 지역 구분 외에도 현지 전력제공업체까지도 선택할 수 있도록 했다.삼성전자는 브라질을 시작으로 연내 멕시코·칠레·콜롬비아·페루·파나마 등 중남미 5개국에 추가로 서비스를 확대할 계획이다.삼성전자 생활가전사업부 박찬우 부사장은 \"스마트싱스 에너지 서비스가 브라질 소비자들의 에어컨 전기요금 우려를 덜어 주길 기대한다\"며 \"향후 중남미 공조 시장에서 다양한 제품과 서비스로 사업을 적극적으로 확대해 나갈 것\"이라고 말했다.※CBS노컷뉴스는 여러분의 제보로 함께 세상을 바꿉니다. 각종 비리와 부당대우, 사건사고와 미담 등 모든 얘깃거리를 알려주세요.이메일 : jebo@cbs.co.kr카카오톡 : @노컷뉴스\\n]', '[\\n[왕개미연구소]\\t\\t\\t\\t\\t\\t\\t“당황스럽네요. 삼성전자 인수·합병(M&amp;A)과 삼성스팩(SPAC)은 아무 상관이 없는데 왜 2연상이나 찍는 건지 모르겠어요.”(증권업계 관계자)지난달 31일 한종희 삼성전자 부회장이 대형 M&amp;A 작업을 진행 중이라고 밝힌 이후, 코스닥에 상장돼 있는 삼성스팩4호가 이틀 연속 상한가를 기록했다. 스팩은 기업인수목적회사로, 비상장기업 합병을 목적으로 증시에 상장된다. 우회상장 수단이라고 이해하면 쉽다. 삼성스팩4호는 지난해 5월 삼성증권이 상장시킨 스팩이다.\\n\\n\\n\\n자료=한국거래소\\t\\t\\t\\t\\t\\t\\t\\t\\t\\t3일 한국거래소에 따르면, 삼성스팩4호는 전날 상한가에 이어 이날도 상한가를 찍으면서 8160원에 마감했다. 발행주수는 400만주 밖에 되지 않는데, 이날 거래량은 1125만주에 육박해 말그대로 폭발했다. 증권업계 관계자는 “삼성전자가 대형 M&amp;A를 진행 중이라는 뉴스가 나왔는데, 삼성증권이 투자금을 받아서 상장시킨 스팩이 수혜를 볼 것이란 기대감에 주가가 급등한 것으로 보인다”고 말했다.삼성증권이 상장시킨 또다른 스팩인 삼성머스트스팩5호도 전날 25% 상승한 데 이어 이날도 13% 상승해 5710원에 마감했다. 이날 하루 거래량이 1600만주가 넘었는데, 하루 주가 고점(6360원)과 저점(4810원)의 차이가 24%에 달할 정도로 변동성이 심했다. 온동네 단타꾼들이 다 모여든 검투장이었다.\\n\\n\\n\\n삼성전자는 지난 2017년 미국 자동차 전장장비 업체인 하만을 인수한 후 대규모 M&amp;A를 사실상 멈춘 상태다. 사진은 하만이 메르세데스-벤츠에 공급한 전장부품./조선DB\\t\\t\\t\\t\\t\\t\\t\\t\\t\\t그런데 투자자들의 기대와는 달리, 삼성전자의 M&amp;A 추진과 삼성스팩은 아무런 상관이 없다는 게 증권 전문가들의 지적이다. ‘카더라’ 통신에 혹해서 샀다가는 손해를 볼 수 있으니 투자에 유의해야 한다는 설명이다.재계 관계자는 “예전에도 그랬지만, 삼성전자의 인수·합병(M&amp;A) 타깃은 글로벌 탑 기술기업, 핫한 테크기업일 가능성이 높다”면서 “국내 기업은 문어발 확장이라는 비판 여론이 나올 수 있어서 M&amp;A 후보군에 있지도 않을 텐데, 왜 국내 기업을 대상으로 하는 스팩이 급등하는지 모르겠다”고 말했다.스팩은 주가가 오르면 오를 수록 M&amp;A 수단으로서의 가치가 떨어진다는 점도 알아둘 만하다. 주가가 과도하게 올라 시가총액이 커지면 선택지가 좁아지기 때문이다. 그래서 스팩은 공모가 2000원, 약 100억원 규모로 작게 상장하는 것이 보통이다.\\n]', '[\\n이재용, 반도체 부사장 10여명 전격교체7일 네덜란드 출장···인텔과 ARM 인수까지 거론\\n\\n\\n\\n이재용 삼성전자 부회장이 지난달 31일 서울 장충동 신라호텔에서 열린 ‘2022 삼성 호암상 시상식’에 참석하고 있다. 연합뉴스[서울경제] 이재용 삼성전자(005930) 부회장이 반도체 관련 연구 임원들을 대거 교체하고 극자외선(EUV) 노광장비 수급을 위해 7일 네덜란드로 떠난다. 새 정부 들어 2030년 시스템메모리 세계 1위 목표 달성을 위한 경영에 적극적으로 속도를 내는 모양새다. 해외 언론은 이 부회장이 미국 인텔과 손잡고 세계적인 반도체 설계 업체(팹리스) ARM을 공동 인수할 가능성까지 제기했다.재계에 따르면 삼성전자는 2일 반도체 부문 부사장급 10여 명을 포함한 주요 임원 20여 명을 전격 교체했다. 반도체연구소장에 송재혁(55) 플래시개발실장(부사장), D램 TD실장에 박제민(51) 부사장, 플래시TD실장에 장재훈(53) 부사장, 파운드리(반도체 위탁 생산)사업부 제조기술센터장에 남석우(56) 글로벌 제조·인프라총괄 부사장, 글로벌 제조·인프라총괄 인프라기술센터장에 장성대(58) 글로벌 제조·인프라총괄 환경안전센터장 부사장을 각각 선임했다. 연말 정기인사를 단행한 지 6개월 만에 부사장급 10여 명을 한꺼번에 교체한 것은 이례적인 일이다.\\n\\n\\n\\n이번 인사는 메모리반도체는 물론 파운드리 등 미래 전략 분야에서 더욱 획기적인 성과를 거둬야 한다는 절박함 때문으로 풀이된다. 삼성전자는 지난달 조직 개편에서도 경영지원실 지원팀 산하에 대외 돌발 변수 등 대내외 리스크 컨트롤타워 역할을 하는 사업위기관리(BRM)그룹을 신설한 것으로 알려졌다. 삼성전자는 이달 말 글로벌전략회의를 열어 올해 사업 전략도 수립할 예정이다.이 부회장도 반도체 공급망 확보에 직접 나섰다. 법원은 이날 이 부회장의 네덜란드 출장을 사유로 2주간 재판 불출석을 허가했다. 이 부회장은 네덜란드에서 EUV 노광장비를 독점 생산하는 ASML 고위 관계자와 만날 예정으로 알려졌다. EUV 장비는 초미세 반도체 회로를 만드는 필수 설비로 파운드리 경쟁력 강화의 핵심이다. 이 부회장은 2020년 10월에도 ASML 본사에서 페터르 베닝크 최고경영자(CEO)에게 EUV 장비 공급을 직접 요청한 바 있다.한편 미국 정보기술(IT) 전문지 CRN 등은 시장 조사 기관 글로벌데이터의 분석을 인용해 이 부회장이 지난달 30일 서울에서 팻 겔싱어 인텔 CEO와 만나 ARM 공동 투자를 논의했을 수 있다고 봤다. 시장에서는 ARM 인수전에 SK하이닉스(000660)와 미국 퀄컴이 손잡을 가능성을 이미 높게 보고 있다.\\n\\n\\n\\n\\n]', '[\\n\\n\\n\\n\\n 삼성전자가 올해 1분기 전세계 스마트워치 시장에서 2위를 기록하며 자존심을 지켰다. /사진=뉴스1(삼성전자 제공) 삼성전자가 올해 1분기 전세계 스마트워치 시장에서  애플에 이어 2위 자리를 수성했다. \\'갤럭시워치4\\'의 인기가 이 같은 성과를 견인했다.글로벌 시장조사업체 카운터포인트리서치는 3일 삼성전자 스마트워치가 지난 1~3월 글로벌 시장에서 2위(점유율 10.1%)를 기록했다고 전했다. 지난해 같은 분기보다 2.3%포인트(p) 증가했다. 선두인 애플은 점유율 36.1%로 전년보다 0.2%p 늘었다.애플과 삼성전자 모두 출하량이 크게 증가했다. 애플은 전년보다 14% 올랐다. 애플워치 브랜드 인기와 함께 지난해 \\'애플워치7\\' 출시가 미뤄지면서 일부 출하량이 올해 1분기까지 이월됐기 때문이다.삼성전자 출하량은 전년보다 46% 뛰었다. 특히 업체는 갤럭시워치4가 아시아 태평양 지역에서 큰 인기를 끌었다고 설명했다. 기기에 타이젠 운영체제(OS)를 통합한 구글 웨어OS를 넣어 다양한 애플리케이션(앱)을 쓸 수 있게 된 덕분이다.다음으로는 ▲화웨이(7.2%) ▲샤오미(5.0%) ▲가민(4.3%) ▲어메이즈핏(3.4%) ▲핏빗(2.7%) 순이다. 그 가운데 샤오미는 출하량이 전년 대비 69% 늘어 첫 4위를 기록했다.상위 브랜드를 포함한 전세계 스마트워치 출하량은 우크라이나 침공에 따른 원자재·물류비 인상과 높은 인플레이션에도 1년새 13% 증가했다.임수정 카운터포인트리서치 연구원은 \"2020년 전세계 시장은 신종 코로나바이러스 감염증(코로나19) 영향으로 성장세가 미미했지만 지난해 반등한 이후 좋은 실적을 이어가고 있다\"며 \"특히 애플워치는 고성능과 iOS 기기 간 연결성이 뛰어나고 올해말까지 애플 시장점유율은 더 올라갈 가능성이 높다\"고 했다.올 하반기 스마트 워치 시장은 구글이 뛰어들면서 더욱 달아오를 전망이다. 앞서 구글은 지난달 연례 개발자 회의인 \\'I/O\\'에서 올해 가을 첫 스마트워치 \\'픽셀워치\\'를 출시한다고 밝혔다. 지난해 2조3000억원 들여 인수한 \\'핏빗\\'의 \\'심박수 적외선 센서\\'가 들어가 심장박동수와 수면 추적 기능을 갖췄다.삼성전자와 애플도 신제품을 선보인다. 삼성전자는 이르면 올 8월 갤럭시워치5를 출시할 예정이다. 전작과 달리 상위 기종인 \\'프로 모델\\'을 추가할 것으로 보인다. 애플은 9월 중순쯤 ▲애플워치8 ▲애플워치 SE(Special Edition) ▲애플워치 익스트림 에디션을 대거 공개한다. 최상위 모델 애플워치8에는 체온 측정 센서와 수면·약물관리 기능이 들어갈 것으로 관측된다. 혈압·혈당 측정 센서는 정확도 문제를 이유로 빠질 확률이 높다. \\n]', '[\\n기사내용 요약비등기 임원 22명, 한 달간 33억9704만원어치 매입회사 주식 매입, 대규모 투자에도 주가는 요지부동\\n\\n\\n\\n *재판매 및 DB 금지[서울=뉴시스] 이인준 기자 = 최근 한 달간 삼성전자 부사장급 이하 비등기 임원 20여 명이 회사 주식 30억여 원어치를 매입한 것으로 나타났다.주가 흐름 부진에 한종희 대표이사, 경계현 대표 등 경영진이 책임경영 차원에서 회사 주식을 사들이자, 임원들도 이에 동참한 것이다. 다만 주가 부양 효과는 그다지 신통치 않았다.3일 금융감독원 전자공시시스템에 따르면 매매일 기준 지난 한 달(5월1~31일) 간 삼성전자 주식을 장내매수한 회사 비등기 임원은 모두 22명이다. 미등기 임원 933명(2021년 말 기준)의 약 2.4%다. 직급별로는 부사장이 19명, 상무가 3명이다. 임원 등 보고의무자는 변동이 있는 날부터 5영업일 이내에 신고하면 되기 때문에 더 늘어날 수도 있다.매입 금액은 총 33억9704만원이다. 주식 종류별로는 우선주 840주, 보통주 4만8507주 등 총 5만862주다. 평균 매입 단가는 보통주 기준 6만6953원 수준이다.5월 한 달간 삼성전자를 가장 많이 산 임원은 오종훈 부사장(메모리 지원팀장)이다. 그는 지난달 6일 한 주당 6만8100원에 5140주를 매입했다. 총 3억5003만원어치다. 최정준 부사장(지원팀장)도 지난달 12일 총 32억8800만원을 들여 5000주를 2차례 나눠 매입했다. 김연성 부사장(한국총괄 지원팀장)도 지난달 23일 30억3750만원어치(4500주)의 주식을 매입했다. 홍두희 부사장(감사팀장)의 경우 4월27일에도 2억584만원어치의 주식을 샀는데, 지난달 10일 1900주를 6만6700원씩 1억2673만원에 추가로 매입해 보름 만에 3억원어치 이상 매수한 것으로 조사됐다.가장 낮은 금액에 매수한 임원은 서병훈 부사장(IR팀장)이다. 그는 지난달 2일 6만4900원에 보통주 2800주를 사들인 것으로 나타났다. 우선주의 경우 김시우 상무(시스템 LSI LSI개발실 담당임원)가 지난달 12일 매입한 금액인 5만8233원이다.한편 경영진과 미등기임원까지 회사 주식 매입에 동참했지만 삼성전자 주가는 제자리걸음을 걷고 있다.삼성전자 주가는 지난 4월29일 6만7400원에 장을 마쳤는 데, 이날 정오 현재 6만7000원 수준에서 거래 중이다. 삼성전자는 경영진 주식 매입 외에 미래 가치를 높이기 위해 향후 5년간 450조원을 투자하겠다고 발표했으나 주가는 요지부동인 상황이다．\\n]', '[\\n갤럭시Z플립3 점유율 51% 1위갤럭시Z폴드3 점유율 21% 2위\\n\\n\\n\\n서울 서초구 서초동 삼성딜라이트샵의 갤럭시Z폴드3, Z플립3 / 사진=김범준 기자삼성전자 갤럭시Z플립3가 올 1분기 글로벌 폴더블 스마트폰 출하량의 절반 이상을 차지하며 3분기 연속 1위를 질주했다.3일 글로벌 시장조사업체 \\'디스플레이 서플라이체인 컨설턴트\\'(DSCC)에 따르면 올 1분기 폴더블 스마트폰 출하량은 222만대로 전년 동기 대비 571% 증가했다. 다만 전 분기인 지난해 4분기(420만대)와 비교해서는 47% 감소한 출하량이다.삼성전자는 폴더블폰 시장점유율 74%로 1위를 차지했다. 2위 화웨이 점유율이 20%, 샤오미 오포 아너 비보 등 중화권 스마트폰 브랜드 점유율은 각각 2% 내외 수준에 그쳤다.특히 갤럭시Z플립3은 51% 점유율로 3분기 연속 1위를 달렸다. 갤럭시Z폴드3는 21%의 점유율로 3분기 연속 2위를 기록했다. 다만 3위 화웨이의 P50포켓이 20% 점유율로 강세를 보이면서 격차가 좁혀졌다.1분기 폴더블폰 시장은 갤럭시Z폴드3, P50과 같이 포켓폰을 반으로 접는 방식인 클램쉘(조개껍데기) 모델이 70% 점유율을 차지했다. 이는 2020년 3분기 이후 가장 높은 점유율이다.올해 폴더블폰 시장은 전년보다 2배 증가하며 성장세를 이어갈 전망이다. 폴더블폰 출하량은 전년 보다 107% 증가한 1600만대를 기록하고 폴더블 패널 출하량은 전년 보다 102% 증가한 2000만장 이상이 예상된다.로스 영 DSCC 최고경영자(CEO)는 \"올해 대부분의 디스플레이 디바이스 제품군은 출하량 측면에서 도전적인 해가 예상되지만 폴더블폰은 예외적으로 강력한 성장을 보일 것\"이라고 전망했다.오는 8월엔 삼성전자의 차세대 폴더블폰 갤럭시Z플립4와 Z폴드4 출시가 예정돼 있다.\\n]', '[\\n\\t\\t\\t(서울=연합뉴스) 김철선 기자 = 삼성전자는 지난 1일(현지시간) 브라질 상파울루에서 2022년형 에어컨 신제품 행사를 개최하고 \\'스마트싱스 에너지\\'(SmartThings Energy) 서비스를 출시했다고 3일 밝혔다.    스마트싱스 에너지는 에어컨을 비롯한 가전제품의 전력 사용량을 모니터링하고 예상 전기요금도 확인할 수 있는 서비스로, 전력량을 효과적으로 관리할 수 있어 에너지 절감에 도움이 된다.\\n\\n\\n\\n삼성전자 브라질 에어컨 행사[삼성전자 제공. DB 및 재판매 금지]스마트싱스 에너지 서비스는 한국을 비롯해 미국·영국·인도에서 서비스를 시작했으며 브라질은 삼성 무풍에어컨이 인기를 끌면서 다섯 번째 도입 국가가 됐다.    삼성전자는 브라질을 시작으로 연내 멕시코·칠레·콜롬비아·페루·파나마 등 중남미 5개국에 추가로 서비스를 확대할 계획이다.    박찬우 삼성전자 생활가전사업부 부사장은 \"스마트싱스 에너지 서비스가 브라질 소비자들의 에어컨 전기요금 우려를 덜어 주길 기대한다\"며 \"향후 중남미 공조 시장에서 다양한 제품과 서비스로 사업을 적극적으로 확대해 나갈 것\"이라고 말했다.    kcs@yna.co.kr\\n]', '[\\n180개국 수리점 1만1천여곳에서 전자문서 발급…연간 1억장 종이 절감 효과 \\n\\n\\n\\n삼성전자, 서비스센터 \\'페이퍼 프리\\' 시스템 전세계로 확대삼성전자가 서비스센터에서 전자문서를 발급하는 페이퍼 프리 시스템을 글로벌 확대했다. 삼성전자 인도 서비스센터에서 고객이 서비스 내역을 이전에 종이문서로 받던 대신(왼쪽 사진) 현재 스마트폰에서 전자문서로 편리하게 확인하는 모습(오른쪽 사진).[삼성전자 제공. 재판매 및 DB 금지](서울=연합뉴스) 김기훈 기자 = 삼성전자가 종이 인쇄물을 최소화하는 \\'페이퍼 프리\\'(Paper-free) 활동을 전 세계 서비스센터로 확대한다.    삼성전자는 이달 호주와 필리핀 등의 서비스센터에 전자영수증을 도입하는 등 180개국 1만1천여곳의 서비스센터에 전자문서 발급 시스템을 적용했다고 2일 밝혔다.    종이 문서 관련 규제에 따라 전자문서 발급이 어려운 일부 국가를 제외한 대부분 국가의 삼성전자 서비스센터가 해당된다.    국내 서비스센터에서는 2020년 3월부터 전자영수증을 발급하고 있으며, 해외의 경우 국가마다 서비스센터의 운영 형태와 업체가 다양해 표준화 적용이 쉽지 않았으나 올해부터 본격적으로 전자문서 시스템을 확대해왔다고 삼성전자는 설명했다.    서비스센터 이용 고객은 접수증, 영수증, 수리명세서 등 서비스 내역을 종이 인쇄물 대신 홈페이지, 이메일, 메시지 등을 통해 전자문서로 편리하게 확인할 수 있다.    삼성전자가 전 세계 서비스센터에서 서비스 내역 문서를 모두 전자문서로 대체할 경우 연간 약 1억장 이상의 종이를 절감할 수 있을 것으로 예상된다.    이를 통해 종이 생산에 필요한 600만리터(L) 이상의 물을 아끼고, 30년생 소나무 6만1천여 그루가 1년 동안 흡수하는 양에 해당하는 약 526t(톤)의 탄소 배출을 감축하는 효과가 기대된다.    삼성전자는 페이퍼 프리 활동을 향후 해외 서비스센터 내 업무 서류까지로 확대 적용해 나갈 계획이다.    삼성전자 글로벌 CS센터 김형남 부사장은 \"제품 전 과정에서 환경 영향을 최소화할 수 있도록 힘쓰고 있다\"며 \"고객 서비스 영역에서도 고객 만족과 친환경 가치를 모두 높이기 위한 노력을 지속해서 하겠다\"고 말했다.    kihun@yna.co.kr\\n]', \"[\\n\\n\\n\\n\\n알렉스 프로바 디자인 비스포크 냉장고 패널[삼성전자 제공. DB 및 재판매 금지](서울=연합뉴스) 김철선 기자 = 삼성전자는 미국의 유명 크리에이티브 디렉터인 '알렉스 프로바'(Alex Proba)와 함께 디자인한 비스포크 냉장고 패널을 출시한다고 2일 밝혔다.    비스포크 냉장고 출시 3주년을 기념해 한정판으로 판매하는 알렉스 프로바 패널은 4도어 프리스탠딩 냉장고용으로, 하루 뒤인 3일 출시된다.    알렉스 프로바 에디션은 자연에서 영감을 받은 추상적인 패턴과 과감한 색상을 활용해 경쾌하고 행복한 느낌을 자아내는 것이 특징이다.    삼성전자는 앞서 2019년 인기 캐릭터 '슈퍼픽션' 에디션을 출시한 것을 비롯해 티보에렘(Thibaud Herem), 앤디 리멘터(Andy Rementer) 등 해외 아티스트들과 협업한 비스포크 냉장고 패널을 지속해서 선보이고 있다.    kcs@yna.co.kr\\n]\", \"[\\n이재용 부회장, 네덜란드 출장길ASML 방문해 EUV 장비확보 전망연중 반도체 인사·조직 이례적 개편최근 반도체 중심의 450조원 대규모 투자를 발표한 삼성전자가 반도체 사업의 전열을 다시 가다듬는다. 시스템반도체 분야에서 선제적으로 장비를 확보해 기술력 향상에 고삐를 죄는 한편, 이례적인 인사·조직개편을 통해 긴장감을 불어넣겠다는 의지다.\\n\\n\\n\\n이재용 부회장, 장비 확보 직접 나선다재계에 따르면 이재용 삼성전자 부회장은\\xa0오는 7일부터 18일까지 네덜란드 출장길에 오른다. 이 부회장이 해외 출장에 나서는 것은 작년 12월 중동 출장 이후 6개월 만이다.이번 출장에서 이 부회장은 네덜란드 반도체 장비 기업 ASML을 가장 먼저 방문할 전망이다. 이 부회장은 지난 2020년 10월에도 네덜란드를 찾아 ASML 경영진과 협력 방안을 논의한 바 있다.\\xa0특히 이번 출장은 EUV(극자외선) 노광장비를 선제적으로 확보하기 위한 행보로 풀이된다. EUV 노광장비는 반도체 초미세공정에 핵심 장비다. 글로벌 반도체 공급난이 장기화되면서 장비 수급이 어려워진 상황이니만큼, 이 부회장이 직접 ASML을 찾아 협력을 요청하려는 의도인 것이다.ASML은 EUV 노광장비를 사실상 독점 생산하고 있다. 대당 2000억원 이상의 고가 장비임에도 연간 생산량이 40~50대 수준에 불과하다. 반도체 기업 간 장비 쟁탈전이 치열할 수밖에 없는 이유다.삼성전자는 최근 대규모 투자 발표와 함께 시스템반도체를 비롯한 파운드리(반도체 위탁 생산) 분야에 강력한 투자 의지를 드러낸 바 있다. 메모리의 선두를 유지하면서, 시스템반도체와 파운드리에서 점유율 역전을 통해 반도체 3대 분야를 모두 주도하는 기업으로 성장하겠다는 것이었다.하지만 파운드리 1위 업체인 대만의 TSMC의 장벽이 높다. 현재 TSMC는 EUV 장비를 100대 넘게 확보하고 있지만 삼성전자가 보유한 장비는 15대 수준이다. 미국 텍사스주 테일러시에 세워질 제2파운드리에서 미세공정 생산라인을 만들기 위해서는 올해 안에 장비 계약을 해야 한다. EUV 장비는 만드는 데만 2년 정도 소요된다.6월 이례적 인사·조직개편또 2일\\xa0삼성전자는 반도체연구소장과 파운드리 제조기술센터장을 교체하는 등 인사와 조직 개편을 단행했다. 통상 삼성전자는 매년 연말 정기 인사와 조직개편을 진행하는데, 이번 인사는 이례적이라는 평가다. 특히 삼성의 '반도체 위기론'이 고조되는 시점인 만큼\\xa0인사와 조직개편을 통해 쇄신을 꾀하려는 것으로 풀이된다.\\xa0최근 삼성전자는 신임 반도체연구소장으로 송재혁 부사장을 선임했다. 송 부사장은 공정 및 소자개발 분야에서 세계 최고 수준의 전문가인 것으로 알려졌다. 그는 재작년 부사장으로\\xa0승진, 그간 삼성전자에서 차세대 낸드플래시 개발을 주도해왔다. 또 신임 글로벌 제조·인프라 총괄 인프라 기술센터장에는 장성대 글로벌 제조·인프라총괄 환경안전센터장 부사장이 선임됐다.\\xa0파운드리 사업부에서도 인사가 났다. 신임 파운드리 제조기술센터장은 남석우 DS부문 CSO 및 글로벌 제조·인프라총괄 부사장이 맡게 됐다. 파운드리기술혁신팀장에는 김홍식 메모리제조기술센터 부사장이 선임됐다.이와 함께 삼성전자는 메모리 기술 개발을 담당하는 메모리TD(Technology Development)실을 D램 TD실과 플래시 TD실로 분리했다. 반도체 기술개발 역량을 전문화하겠다는 목표다. D램 TD실장은 박제민 부사장, 플래시 TD실장은 장재훈 부사장이 각각 맡는다. 삼성전자는 조직 재정비 이후 이달 말 글로벌 전략 회의를 통해 올해 사업 전략을 수립할 예정이다.\\xa0\\n]\", '[\\n기사내용 요약국내 2020년 3월 전자영수증 발급…전 세계 수리점에 도입서비스 내역 문서 모두 대체시 연간 1억 장 종이 절감 효과\\n\\n\\n\\n[서울=뉴시스] 삼성전자 인도 서비스센터 전자문서 발급 전(왼쪽)과  스마트폰에서 전자문서로 확인하는 모습. (사진=삼성전자 제공). 2022.06.02. photo@newsis.com *재판매 및 DB 금지[서울=뉴시스]동효정 기자 = 삼성전자가 종이 인쇄물을 최소화하는 \\'페이퍼 프리(Paper-free)\\' 활동을 전 세계 서비스센터로 확대한다. 2일 삼성전자는 호주, 필리핀 등 180개국 1만1000여 개의 서비스센터에 전자문서 발급 시스템을 적용했다고 2일 밝혔다.종이문서 제공 관련 규제에 따라 전자문서 발급이 어려운 일부 국가를 제외하고, 삼성전자 제품을 수리하는 전 세계 모든 서비스센터에 도입했다. 삼성전자는 탄소 저감, 자원 순환, 생태 복원 등 다양한 활동을 통해 환경을 보호하고 인권과 다양성 존중, 미래세대 교육, 기술 혁신을 통한 포용적인 사회를 만들기 위해 지속가능경영을 강화하고 있다. 국내 서비스센터에서는 2020년 3월부터 전자영수증을 발급하고 있다. 해외는 국가마다 서비스센터 운영 형태와 업체가 다양해 표준화 적용이 쉽지 않았으나 올해부터 본격적으로 전자문서 시스템을 적용했다. 서비스센터 이용 고객들은 접수증, 영수증, 수리명세서 등 서비스 내역을 종이 인쇄물로 받는 대신 홈페이지, 이메일, 메시지 등을 통해 전자문서로 편리하게 확인하고, 일상 속 환경 보호에 동참할 수 있다.삼성전자는 전 세계 서비스센터에서 서비스 내역 문서를 모두 전자문서로 대체할 경우 연간 약 1억장 이상의 종이를 절감할 수 있을 것으로 추산하고 있다. 종이 생산 시 필요한 물 600만 리터 이상을 아끼고, 30년생 소나무 6만1000여 그루가 1년 동안 흡수하는 양에 해당하는 약 526톤의 탄소 배출을 감축하는 효과를 기대하고 있다. 삼성전자는 \\'페이퍼 프리\\' 활동을 향후 해외 서비스센터 내 업무 서류까지 확대할 계획이다.삼성전자 글로벌 CS센터 김형남 부사장은 \"제품 전 과정에서 환경 영향을 최소화할 수 있도록 힘쓰고 있으며, 고객 서비스 영역에서도 고객 만족과 친환경 가치를 모두 높이기 위한 노력을 지속하겠다\"고 말했다.\\n]', '[\\n2019년 말보다 33.4%↑…\"재무위험 관리 차원, 투자 여력 생겨\"\\n\\n\\n\\n삼성전자 서초 사옥[연합뉴스 자료사진·재판매 및 DB 금지](서울=연합뉴스) 조재영 기자 = 최근 총 1천조원이 넘는 투자계획을 발표한 주요 기업들이 코로나19 팬데믹(대유행) 기간 현금성 자산을 크게 늘린 것으로 나타났다.    2일 연합뉴스가 CEO스코어에 의뢰해 올해 1분기 기준 사업보고서를 분석한 결과 매출 상위 20대 기업(금융사 및 공기업 제외)의 현금 및 현금성 자산(단기금융상품 포함)은 올해 3월 말 기준 226조원으로 2019년 말보다 33.4%(56조2천억원) 증가했다.    코로나19 이후 경영 환경의 불확실성이 높아지면서 국내 기업들이 재무위험 관리 차원에서 현금 보유를 지속해서 늘린 것으로 분석된다.     이 기간 20대 기업 가운데 GS칼텍스(-1.0%), 삼성물산(-4.3%), CJ제일제당(-28.6%), 이마트(-13.5%) 4개 기업을 제외하고 나머지는 모두 늘었다.     기업별로 보면 재계 1위인 삼성전자가 124조원으로 현금성 자산이 가장 많았다. 삼성전자의 1분기 말 현금성 자산은 2019년 말 103조1천억원보다 20조9천억원(20.3%) 늘었다.     매출 2위인 현대차의 현금성 자산은 33.2% 늘어난 21조3천억원이었다. 기아(매출 5위)는 7조3천억원에서 배 이상 증가한 16조1천억원, 현대모비스(10위)는 42.0% 늘어난 4조7천억원으로 이들 3사의 현금성 자산은 42조원1천억원으로 집계됐다.     다른 기업의 현금성 자산은 포스코홀딩스(3위) 15조8천억원(52.5%↑), LG화학(9위) 9조원(379.3%↑), LG전자(4위) 5조6천억원(17.6%↑), 한화(7위) 4조원(13.9%↑), SK하이닉스(8위) 5조4천억원(107.0%↑), LG디스플레이(18위) 3조4천억원(0.9%↑) 등이었다.     최근 삼성과 SK, 현대자동차, LG, 롯데 등 5대 그룹과 포스코, 한화, GS, 현대중공업, CJ, 코오롱 등 13개 그룹은 총 1천84조6천억원에 달하는 대규모 투자계획을 발표했다.     삼성은 5년간 반도체·바이오·신성장 IT 분야를 중심으로 450조원을 투자하겠다고 밝혔고, 현대차그룹 산하 3사는 2025년까지 국내에 63조원을 투자하겠다는 계획을 내놨다.     특히 삼성은 124조원에 달하는 현금성 자산을 바탕으로 현재 대규모 인수·합병(M&amp;A)을 위한 작업도 진행 중이다.         서지용 상명대 경영학부 교수는 \"대기업들이 현금 자산 많아서 투자할 여력이 있는 상황\"이라며 \"정부의 산업 육성 정책과 세액공제 확대 가능성, 조 바이든 미국 대통령의 방한 등을 계기로 동시다발적으로 대규모 투자 계획을 내놓은 것 같다\"고 말했다. [표] 매출 20대 기업 현금성 자산 현황(CEO스코어 제공)\\n\\n\\n\\n    fusionjc@yna.co.kr\\n]', '[\\n외국인·기관 동반 매도에 하락세 지속연준, 양적긴축 개시에 매크로 악화M&amp;A 시사에 기대감도 솔솔[이데일리 김응태 기자] 삼성전자(005930) 주가가 다시 하락세로 돌아서고 있다. 미국 연방준비제도(Fed)가 대차대조표를 축소하는 양적긴축(QT)을 시작하며 경기 둔화 우려가 점화되자 외국인들의 투자심리가 차갑게 식었다.\\n\\n\\n\\n2일 마켓포인트에 따르면 삼성전자는 전장 대비 1.04% 내린 6만6700원으로 거래를 마감했다. 이틀 연속 하락세다. 전거래일 0.44% 떨어진 것에 비해 낙폭이 더 커졌다. 이날에는 개인을 제외하고 일제히 매도에 힘을 실었다. 외국인은 370억원 순매도했다. 기관은 2140억원 팔아치웠다. 반면 개인만 2410억원 순매수했다. 외국인은 매크로(거시경제) 악화에 매도에 나선 것으로 해석된다. 연준은 양적긴축의 일환으로 이달부터 국채와 주택저당증권(MBS)를 475억달러씩 축소하고, 오는 9월에는 950억달러로 축소 규모를 늘린다. 여기에 원달러 환율이 1250 중반대로 재차 상승하면서 환손실을 우려한 외국인들이 매도에 무게를 실은 것으로 분석된다. 간밤 미국 주요 반도체 기업의 시세를 의미하는 필라델피아 반도체 지수가 약세를 보인 것도 악재로 작용했다. 지난 1일(현지시간) 미국 필라델피아 반도체 지수는 전거래일 대비 1.6% 하락한 3049.03으로 마감했다. 증권가에선 삼성전자가 당분간 주가 상승 모멘텀을 찾기 쉽지 않을 것으로 전망하고 있다. 중국 봉쇄 조치가 완화됐지만 우크라이나 전쟁이 지속되고, 인플레이션 완화와 경기 연착륙에 대한 확실한 지표가 나오지 않았기 때문이다. 경기 둔화 시 반도체 재고가 늘어날 수 있다는 게 주가 하락을 견인할 수 있다는 판단이다. 노근창 현대차증권 연구원은 “최근 주가 하락은 시장 예상을 상회하는 반도체 출하량 증가가 건전한 재고 소진이 아닌 악성 재고 축적이 될 것이라는 비관이 고조되고 있기 때문”이라고 설명했다.삼성전자 스마트폰 생산량 하향 조정도 우려되는 요인 중 하나다. 박형우 신한금융투자 연구원은 “삼성전자의 올해 연간 스마트 생산량 전망치를 기존 대비 10% 낮춘 2억7000만대로 하향한다”며 “글로벌 소비 수요 약세와 게임 최적화 서비스(GoS) 이슈가 영향을 끼쳤다고 해석한다”고 말했다.다만 인수합병(M&amp;A) 등의 이슈가 삼성전자의 주가 상승 모멘텀이 될 수 있다는 전망이 나오는 가운데, 최근 삼성전자 DX부문장인 한종희 부회장이 M&amp;A와 관련한 발언으로 주목받고 있다. 한 부회장은 지난달 31일 서울시 중구 신라호텔에서 열린 삼성호암상 시상식에서 만찬 후 기자들과 만나 M&amp;A 추진과 관련해 “검토를 진행하고 있다”며 “조간만 좋은 소식이 있을 것”이라고 언급한 바 있다.\\n]', '[\\n삼성전자 스마트싱스 서버개발그룹 인터뷰“삼성전자 스마트싱스는 구글, 아마존, 애플 등과 견주는 세계적인 IoT 플랫폼이며, 올해를 기점으로 더욱 큰 성장을 기대하는 플랫폼이다. 실시간으로 스마트싱스 플랫폼에 들어오는 트래픽이 급증할 것으로 예상되는 가운데, 부서장 입장에서 개발 자원이 새로운 기능 개발과 창의적 업무에 투입되지 못하고, 장애 대응과 운영 업무에 지속적으로 들어가는 상황을 해결해야 했다.\"삼성전자 스마트싱스 서버개발그룹의 이제원 그룹장은 최근 본지와 인터뷰에서 스마트싱스의 실시간 데이터 분석 플랫폼을 아마존웹서비스(AWS)의 서버리스형 데이터 분석서비스인 ‘아마존 키네시스 데이터 애널리틱스’로 이전한 이유를 이같이 설명했다.스마트싱스는 삼성전자의 IoT 플랫폼이다. 스마트홈 게이트웨이, 애플리케이션, IoT 디바이스 등을 개발하는 스타트업으로 시작해 2014년 삼성전자에 인수됐다. 현재 스마트싱스는 TV, 에어컨, 냉장고, 세탁기, 에어드레서 등 삼성전자의 가전제품과 갤럭시 스마트폰, 태블릿, 스마트태그, 웨어러블 등을 망라해 연결하고 있다.\\n\\n\\n\\n삼성 스마트싱스 서버개발그룹 전상기 개발자(왼쪽부터), 정동환 개발자, 이제원 그룹장, 이장결 개발자, 고성준  개발자스마트싱스 데이터 분석 플랫폼은 기기의 시작, 멈춤 등의 동작을 담은 사용기록, 사용자 알림 내역, 사용량 통계, 분석 및 추천 등의 역할을 하고 있다. 2만여종, 9천600만개 이상의 기기에서 생성된 실시간 데이터가 스마트싱스 데이터 분석 플랫폼으로 들어온다. 삼성전자에 따르면, 초당 400메가바이트, 시간당 1.4테라바이트, 하루 33TB의 빅데이터를 처리하고 있다.지난달 열린 AWS서밋코리아2022에서 삼성전자 스마트싱스 서버개발그룹은 ‘고통으로부터 해방, 분석 플랫폼 현대화’란 주제로 관련 사례를 발표했었다. 이 내용에 의하면, 기존 스마트싱스 데이터 분석 플랫폼은 아마존 EC2 인스턴스에 하둡 클러스터를 구축하고 실시간 인입 데이터 처리에 아파치 스파크를 활용했다. 파일시스템은 HDFS, 데이터베이스는 HBASE, 자원관리는 YARN, 분산코디네이터는 주키퍼 등으로 이뤄졌고, 운영은 테라폼과 앤서블로 일정부분 자동화했다. 오픈소스 기반 플랫폼이었던 탓에 관리 부담이 클 수밖에 없는 구조였다.하드웨어, 소프트웨어 유지 관리와 연산 자원 및 스토리지 용량 할당, 분산처리, 장애 대응 등 인프라 고려 사항도 많았다. 하둡 클러스터의 불안정성이 운영 부담을 크게 높이는데다, 실시간 스트리밍 데이터를 소규모 배치로 처리하도는 스파크의 기능적 제약은 갈수록 늘어나는 스마트싱스 트래픽 처리에 한계를 드러냈다. 서버개발그룹의 개발팀에겐 고통의 시간이었다. 무엇보다 장애대응 ‘온콜’에 많은 시간을 할애 해야 했다고 한다. 운영중인 50개 스파크 앱의 온콜 수는 월간 평균으로 앱 지연 대응 131회, 비정상 종료 앱 수동 복구 28회, 하둡 클러스터 수동 복구처리 13회 등이었다. 매번 새로운 이슈가 발생해 기능 개발 업무 지연이 빈번했다고 한다.이장결 개발자는 두가지 문제가 있었다고 설명했다.이장결: 기존 EC2 기반 하둡은 단일 클러스터에 스파크나 HBASE 등 여러 요소를 설치하고 있었다. 문제 하나는 HBASE와 스파크가 동일 노드에 있어서, HBASE 특정노드가 CPU를 점유하면 스파크 앱에도 영향을 주는 것이었다. 데이터를 처리하지 못하거나 지연되거는 등의 추가 장애 발생도 있었다. 두번째로 스파크 앱이 오토스케일링 되지 않는다는 것이었다. 스마트싱스는 이벤트 양이 일정하지 않은데 특정 시점에 버스트 트래픽이 오기도 하고, 새로 배포하거나 기존 장애로 스파크 앱을 중단했다가 다시 시작하면 그간 쌓인 이벤트를 처리하는데 처리 속도가 따라가지 못하는 경우도 발생했다. 결국 리소스 부족으로 볼 수 있는데, 오토스케일링 힘든 구조이다보니 조치를 위한 매뉴얼 작업이 필요하게 된다. 매일 돌아가면서 온콜 담당자를 지정해 이슈대응 체계를 운영했다. 최악의 경우 담당자가 하루종일 온콜만 하기도 했다. 큰 장애가 몇번 있었는데 일주일 밤샘 작업을 하기도 했다.이런 상황이 스마트싱스 데이터 분석 플랫폼의 현대화를 고민하게 만들었다. 특히 삼성전자를 비롯해 구글, 애플, 아마존 등 스마트홈 주요 사업자 모두 참여하는 표준 IoT 프로토콜 &amp;apos매터&amp;apos 기반 제품이 올해부터 본격적으로 시장에 출시될 예정이라 실시간 데이터 처리 부담의 급증이 확실히 예고돼 있었다.이제원: 부서장 입장에서 개발 리소스가 어디에 투입되느냐는 매우 중요하다. 새로운 기능을 개발하고 창의적인 일을 하는데 투자해야 할 리소스가 온콜 대응과 수작업에 지속적으로 들어가는게 안타까웠다. 새로운 클라우드 솔루션을 결정할 때 미치는 요소는 비용도 중요하고, 리소스도 중요하다. 온콜 대응 상황을 보니 비용측면에서 약간의 차이 혹은 오히려 더 들더라도 리소스를 줄일 수 있으면 선택해도 되겠다고 느낄 정도로 힘든 대응을 해왔다.현 스마트홈 시장은 제조사별로 파편화돼 있다. 기기 정보를 주고 받는 데이터 처리 형식이 다 다르다. 스마트싱스는 삼성전자 제품만 쓸 수 있다. 구글 네스트, 아마존 알렉사, 애플 홈킷 등도 각 회사의 제품만 사용할 수 있다. 작년 본격적으로 논의된 &amp;apos매터(Matter)&amp;apos는 이런 파편화를 해결하고 플랫폼과 디바이스 간 호환성을 표준화하기 위해 나온 결과물이다. 올해 스마트홈 제조사들이 매터 기반 제품을 출시할 예정이다. 이렇게 되면 스마트싱스에 구글 네스트나 아마존 알렉사 제품을 연결할 수 있게 된다.이제원: 스마트싱스 플랫폼은 국내서 1등이고, 적지 않은 사용자 기반과 트래픽을 가진 거대한 시스템이. 올해 허브에 소물을 붙이는 표준 프로토콜인 매터가 본격적으로 도입되면, 특정 밴더에 맞추는 대신 매터 프로토콜만 맞춰 개발하고 호환되는 허브에 그냥 붙이는 형태가 된다. 각 플랫폼 에코 확장 측면에서 자기가 잘하는 서비스 개발에 집중하면 되는 세상이 올 것. 스마트홈이란 관점에서 보면, 엄청난 기회가 될 수 있게 된다.이런 상황에서 새로 구축된 스마트싱스 데이터 분석 플랫폼은 ‘아파치 스파크’ 대신 ‘아파치 플링크’를 사용한다. 플링크는 AWS의 서버리스 솔루션인 ‘아마존 KDA’에 올라가므로 플랫폼의 하부 인프라 설계와 운영 부담을 해소할 수 있다.스마트씽스 데이터 분석 플랫폼의 데이터 처리 파이프라인에 대해 고성준 개발자는 실시간 처리에 초점을 맞췄다고 했다.고성준: 홈 IOT 기기에서 발생하는 데이터를 어떻게 스마트싱스서 안정적이고 빠르게 가공할지 초점을 맞춰 구성했다. 실시간으로 시스템 데이터를 처리하는 부분이다. 보통 분석 플랫폼은 하루치를 모아서 배치로 가공해서 인사이트 뽑는 형태로 구성하는데, 스마트싱스는 초당으로 가공해 사용자에게 데이터를 가공해 빠르게 가시화하는 것이다. 서밋에서 발표했듯 플링크온KDA를 활용해 여러 앱을 전환하고 있다. 앱 간의 데이터 전송 시 안정화를 위해 카프카 메시징 솔루션을 사용한다. 전체적으로 보면 카프카와 플링크 등의 앱을 조합해 가공한다. 몇단계를 거쳐 가공된 데이터는 HBASE와 아마존 S3 등에 저장한다. 스마트싱스 엡에서 볼 수 있는게 기기 동작 기록이다. 앱에서 알림을 보내서 사용자에게 알림내역을 보게 하는데 목적에 맞게 데이터를 분리하거나 시간대별로 합쳐 보여주거나 하는 애플리케이션이 중간 중간에 들어가서 여섯 일곱단계 거치면 결과물이 나오는 형식이다.분석 플랫폼 현대화 방안을 결정할 때 아파치 스파크를 유지할 수도 있었다. 아마존 EMR 기반 스파크 구성을 선택했다면, 기존 스파크 애플리케이션 50여개를 플링크로 재개발하지 않아도 됐을 것이다. 그럼에도 스마트싱스 서버개발그룹은 아마존 KDA와 플링크를 결정했다. 이에 정동환 개발자는 스트리밍 데이터 처리 면에서 플링크의 성능과 비용이 스파크보다 우월했다고 설명했다.정동환: 초기에 데이터 픞랫폼을 비교 할 때 대용량 이벤트를 처리하는 여러 후보를 두고 검토했다. 사전조사에서 기존의 스파크와 플링크를 봤는데, 플링크는 스파크 대비 API와 문서는 적었다. 하지만, 스트리밍에서 스파크는 배치성이고, 플링크는 스트리밍에 초점을 둔다. 아파치 플링크가 스트리밍에서 성능이 더 좋고 비용도 적다고 결론내렸다. 기존 스마트싱스의 경우 데이터 플랫폼에서 쓰는 처리가 배치라 해봐야 최대 1시간 인터벌이 많았고, 대부분 스트리밍에 집중돼 있다. 추가적으로, 이벤트가 낮에 많고, 저녁에 적은 식의 양상이어서 스케일인아웃이 잘 되는 프레임워크가 필요했다. 스파크는 자체 다이나믹 얼로케이션은 불안정하다. 플링크는 패러렐리즘을 이용해서 쉽게 스케일인아웃 된다.\\n\\n\\n\\n이제원 그룹장은 스마트싱스 자체가 실시간 이벤트 처리에 특화됐다는 점에서 검토했다고 강조했다. 사용자에게 기기 동작에 대한 즉각적인 정보를 알려줘야 하기 때문이다.이제원: IoT는 기기에서 올라오는 기기 이벤트 처리가 가장 중요하다. 스마트싱스가 지속적으로 소화하는 이벤트 양이 있을 때 동일 이벤트를 기존 스파크 비용 대비 새 솔루션으로 갈아타려 할 때 여러 요소 중에 비용도 중요한 요소였다. 그 측면에서 갭과 이득을 살펴봤다.스마트싱스의 기존 데이터 분석 플랫폼이 하둡 클러스터였는데, 호튼웍스의 HDP 기반이었던 점도 현대화 작업에 영향을 줬다.정동환: 스마트싱스 초기인 4~5년 전엔 지금보다 선택의 폭이 좁았을 것이다. 당시엔 적절했던 게 시간 지나면서 더 진화해야 했는데, 진화를 하긴 했지만, 지속적 사용에 무리가 있었다. 아키텍처를 바꾸고, 현대화를 결정해야 하는 니즈가 강했고, 그에 맞춰서 하둡클러스터를 내재화하고 더 나아가 기존 스파크 기반 이벤트 프로세싱을 플링크로 가는 방향으로 전환했던 것이다. 지금도 스파크가 나쁘지 않지만, 우리 상황에 맞지 않을 뿐이다. 성능과 비용 측면에서 볼 때 플링크가 지금의 스마트싱스에 더 적합하다고 판단한 것이다.서버개발그룹은 50여개의 스파크 기반 애플리케이션을 플링크로 전환해야 했다. 모든 걸 전환하기에 앞서 테스트가 필요했다. 6개 애플리케이션을 선정해 플링크로 개발했고 먼저 아마존 KDA에 올렸다. 고성준 개발자는 성능 테스트에 많은 공을 들였다고 설명했다.고성준: 스파크에 비해 플링크로 가면서 기존 스파크서 구현한 코드를 플링크로 구현하는 작업도 필요했고, CI/CD, 모니터링, 성능테스트 등이 필요했다. 그중에서 성능 테스트가 가장 신경쓰였다.아마존 KDA로 처음 결정했을 당시 사전조사로 어느정도 성능을 낼거라 보기만 했지 예측은 불가능했다. 클라이언트로 구현해서 프로덕션과 유사하게 돌렸을 때 비용이나 성능에 의문이 있었다. 플링크는 처음이어서 애플리케이션 구현과 설정에 따라 성능이 다르게 나오고, 튜닝이 중요한 요소였다. 실제 프로덕션 갈 때 장애 안 생기는게 목적이었고, 로드 테스트 하며 유동적 트래픽에 대해 AWS서 제공하는 오토스케일링을 쓰다가 빠르지 않아서, 개선하려고 커스텀 오토스케일링을 만들어 트래픽에 유동적으로 대응하게 적용해서 성능을 올렸다. 지금도 추가로 마이그레이션 진행하는데 거기서도 로드테스트는 계속해서 진행하고 있다. 장애 시 복구 자동화도 되고, 사용자 증가로 이벤트가 많아졌을 때 증설과 튜닝 등에 필요한 시간과 노력이 줄었다.먼저 현대화된 6가지 애플리케이션은 어떤 식으로 정했을까. 이장결 개발자는 최대한 다양한 기능을 검증하는데 초점을 둬 선택했다고 설명했다.이장결: 각 애플리케이션이 어떤 것인가보다 최대한 다양한 기능을 검증하는게 목적이었다. 다양한 커넥터를 사용하는 것에서 성능에 주안점을 두고 선정했다. 결론적으로 최대한 다양한 커넥터와 복잡한 로직을 가져서 성능에 민감한 애플리케이션을 우선순위로 두고 선정했다. 데이터 소스의 카프카와 아마존 키네시스, 싱크는 카프카와 HBASE, S3, 다이나모DB 등으로 전달해야 하므로 다양한 커넥터를 쓰고 있다. 아파치 플링크의 커넥터가 기존 스파크로 하던 모든 기능 요구를 만족할지 알 수 없어서 가능한 사용하는 모든 커넥터를 여섯개 앱에 들어가게 했다. 이 과정을 통해서 S3 커넥터에서 크로스리전 설정 같은게 안된다는 걸 사전에 미리 파악할 수 있었다. 커넥터 별로 성능 고려가 필요한데, 이벤트 처리 방식 자체가 달라서 스파크로 간단하게 동작하던 싱크 작업이 플링크에서 병목 발생할 거라 예상하기도 해 다양한 커넥터를 선정해서 성능을 확인하는 목적으로 선정했다.이제원: 새로 만드느게 아니라 기존 구조를 개선하는 것이어서 비용, 성능, 운영용이성이란 세 기준에 문제가 없다는 걸 확인해야 갈 수 있었다. 세가지 어떻게 확인할거냐를 전체 애플리케이션 중에 확인해야 하기에 가장 다양한 유즈케이스를 포함하는 대표를 골라 POC를 진행했다.서버리스 환경을 운영한 후 비용은 어떻게 변했을까. 전상기 개발자는 직접 비교는 어렵다는 전제에서 설명했다.전상기: 기존 EC2 기반 스파크로 동작하는거와 서버리스 환경에서 동작하는 것의 비용을 직접 비교하긴 어렵다. 대략적으로 보면, EC2 사용량 비용과 KDA 비용에서 조금 감소했다. 과거 세이빙 플랜을 적극 활용해서 할인받았던 금액이랑 비교하면 비용이 증가하는 부분도 있다. 키네시스는  리저브 인스턴스(RI) 같은 정책이 없어서 사용량에 따라 비용 증가 여지가 있다. 그럼에도 온콜이 많이 없어지고 추가 프로세스를 매뉴얼하게 운영하는게 줄었기 때문에 훨씬 유의미한 결과라 생각한다. KDA도 오토스케일링 최적화를 하고 있어서 지속적 모니터링으로 추가적인 비용 감소도 할 수 있을 것이라 본다.\\n\\n\\n\\n삼성전자 스마트싱스 서버개발그룹 정동환 개발자(왼쪽부터), 이제원 그룹장, 고성준 개발자, 전상기 개발자, 이장결 개발자많은 기업이 하둡 클러스터로 일찌감치 데이터 분석 플랫폼을 구축했고, 이제 대부분 현대화를 고민하고 있다. 타 기업의 데이터 플랫폼 담당자에게 스마트싱스 개발자는 어떤 조언을 하고 싶을까. 고성준 개발자는 몇가지 고려 사항을 제시했다.고성준: 서버리스는 직접 관리하는 자원이 없어 EC2 로드 모니터링에서 자유로워지기는 한다. 그러나 서버리스는 서버 있을 때에 비해 상세한 컨피규레이션 튜닝이나, 성능 향상을 위한 오토스케일링 전략 구사나 적용이 불가능하다. 서버리스에서 지원하는 그대로를 따라가야 하는 측면이 있다. 그 때문에 고민했던게 플링크온 KPU는 유닛당 CPU 코어 하나에 메모리가 4GB로  정해져 있다는 것이다. 더 큰 파워가 필요하면 KPU를 못쓴다. 그럴 땐 애플리케이션 하나에 구성된 소프트웨어 요소를 나눠서 여러개로 쪼개 구성하거나, 병렬처리를 잘 해서 그 안에서 앱이 동작하게 하는게 필요하다. 또 하나로, 모든 서버에서 동작하는 앱은 모니터링을 잘 해야 하는데 기본적으로 제공되는 AWS 클라우드워치의 모니터링 매트릭만 쓸 수 있다. 플링크 자체에서 지원되는 디버깅 매트릭이 많은데 활용할 수 없다. 그런 제약이 있어 추가로 뽑거나 하면 결국 새로 추가한 메트릭 때문에 비용이 추가발생 할 수 있다는 것을 감안해야 한다. 마지막으로, 로그도 기본적으로 클라우드와치로 쌓게 돼 있다는 것이다. 우린 AWS에서 제공하는 적제시스템 말고 추가 시스템을 쓰고 있어서 다른 앱과 연동해 해야 하는 부분 때문에 로그를 이중으로 쌓아야 할 수도 있다. 앱 개발하다보면 파일을 구성하게 되는데 최대 512MB까지만 된다. 애플리케이션을 원래 40여종을 하나의 잡에 모아놓고 쉽고 빠르게 배포하게 개발했는데 그 제한을 피하기 위해 여러 카테고리로 나눠 앱을 구성했다.앞으로 계획은 어떤지 물었다. 기존에 운영하던 하둡 클러스터는 KDA 마이그레이션 완료 후 모두 폐기되는 것인지 궁금했다.고성준: 기존 하둡 기반 솔루션에서 스파크 요소는 다 삭제할 예정이고, HBASE는 그대로 사용한다. 하둡 클러스터를 완전히 없애진 않고 쓸 예정이다. 하둡클러스터 자체 운영으로 여러가지 경험을 많이 했다. 하둡 자체가 어떻게 동작하는지, 스파크나 HBASE 기반 요소의 동작이 어떻게 되는지 배울 수 있었다. 이런 지식을 기반으로 플링크 쓸 때도 내부 동작이 어떻게 하는지 잘 알고, 데이터 생성이 어떤지 잘 알고, 다음 오퍼레이션이 어떤지 잘 알게 됐다. 노하우를 잘 쌓았기 때문에 앞으로도 잘 쓸 수 있지 않을까 생각한다. 더 적은 비용으로 쓰게 될거라 예측하고 자신감 있어 KDA 시스템을 선택했다.스마트싱스 서버개발그룹은 마이크로서비스 아키텍처를 활용하고 있다. 프로그래밍 언어와 프레임워크 종속은 없다고 이제원 그룹장은 강조했다. JVM 기반 언어를 가장 많이 쓰며, 언어로 코틀린을 활발히 활용하고 있다고 한다.\\n]', \"[\\n\\n\\n\\n\\n삼성전자의 중저가 스마트폰 ‘갤럭시A52s 5G’. [‘Vimal Chintapatla’ 유튜브 캡처][헤럴드경제 김현일 기자] “10만원대로 떨어진 삼성폰, 지금이라도 살까?”삼성전자의 중저가폰 신작 출시를 앞두고 기존 구형 갤럭시A 시리즈 스마트폰들의 공시지원금이 줄줄이 오르면서 실구매가가 10만원대로 떨어졌다. 갤럭시A시리즈는 프리미엄 모델과 함께 삼성의 주력 제품군으로 꼽힌다.3일 통신업계에 따르면 SK텔레콤은 지난해 10월 국내 출시된 ‘갤럭시A52s 5G’의 최대 공시지원금을 기존 17만원에서 40만원으로 인상했다. 갤럭시A52s의 출고가가 59만9500원인 점을 고려할 때 이번 공시지원금과 추가장려금(공시지원금의 15%)을 합하면 10만원대 초반 가격으로 구매할 수 있는 셈이다.갤럭시A52s는 최근까지 전 세계에서 가장 많이 팔린 안드로이드 5G 스마트폰으로 인기를 모았다. 시장조사업체 카운터포인트리서치에 따르면 올 2월 전 세계 안드로이드 5G 스마트폰 중에서 갤럭시A52s는 판매 점유율 2.9%를 차지하며 1월에 이어 두 달 연속 1위를 기록했다. 6개월 연속으로 안드로이드 5G 스마트폰 톱10에 들기도 했다. 특히 서유럽 시장에서 판매율이 높았다.\\n\\n\\n\\n삼성전자의 중저가 스마트폰 ‘갤럭시A52s 5G’. [GSM아레나 홈페이지]갤럭시A52s보다 1년 앞서 출시된 ‘갤럭시A51’의 경우 시장조사업체 옴디아(Omdia) 조사 결과 2020년 출시된 삼성전자 스마트폰 중 가장 많이 팔린 제품으로 기록되는 등 최근 갤럭시A 시리즈가 삼성전자의 글로벌 시장점유율을 지탱하고 있다는 분석이다.이와 함께 지난해 전 세계에서 가장 많이 팔린 스마트폰으로 이름을 올린 LTE 저가폰 ‘갤럭시A12’ 역시 공시지원금이 상향됐다. SK텔레콤과 LG유플러스는 기존 10만원대였던 갤럭시A12에 대한 공시지원금을 각각 최대 21만원, 25만7000원 수준으로 올렸다.\\n\\n\\n\\n삼성전자의 중저가 스마트폰 ‘갤럭시A52s 5G’. [GSM아레나 홈페이지]출고가가 27만5000원인 갤럭시A12는 사실상 실구매가가 0원 수준이 됐다. 인도와 베트남 등 동남아시아 국가를 중심으로 큰 인기를 끌었던 갤럭시A12는 단일 모델 기준으로 갤럭시 모델 중 처음으로 출하량 5000만대를 돌파(카운터포인트리서치 기준)한 모델이기도 하다.이처럼 삼성전자의 중저가 스마트폰 공시지원금이 잇달아 인상된 것은 신규 중저가 단말기의 국내 출시가 임박했기 때문으로 풀이된다. 업계에 따르면 삼성전자는 조만간 올해 보급형 주력 모델인 ‘갤럭시A33 5G’를 선보일 계획이다. 갤럭시A33 5G는 지난 3월 '갤럭시A 이벤트 2022'를 통해 공개된 바 있다.\\n]\", '[\\n\\t\\t\\t\\t\\t\\t\\t\\t\\t\\t삼성전자가 국내 서비스센터에서 종이 영수증·명세서 대신 전자문서를 발급해주는 ‘페이퍼 프리’ 활동을 전 세계로 확대한다. 삼성전자는 2일 “전 세계 180국 1만1000여 개 서비스센터에 전자문서 발급 시스템을 적용했다”고 했다.\\n\\n\\n\\n인도의 한 삼성전자 서비스센터에서 종이 영수증과 명세서(왼쪽 사진)를 전자문서로 전환한 사례. (/삼성전자)\\t\\t\\t\\t\\t\\t\\t\\t\\t\\t삼성전자는 환경보호를 위해 2020년 3월부터 국내 서비스센터에서 전자영수증을 발급하고 있다. 서비스센터를 방문한 고객들은 접수증, 영수증, 수리 명세서 같은 서비스 내역을 종이 인쇄물이 아닌 이메일, 문자메시지 같은 전자문서로 받아볼 수 있는 것이다.삼성전자는 “국가마다 서비스센터 운영 형태와 업체가 다양해 표준화 작업에 시간이 걸렸다”며 “전 세계 서비스센터 문서를 전자 문서로 모두 대체할 경우 연간 약 1억장의 종이를 절감할 수 있을 것으로 예상한다”고 말했다. 이 경우 종이 생산에 드는 물 600만L를 아끼고 탄소 526t을 감축하는 효과도 기대할 수 있다. 삼성전자는 향후 페이퍼 프리 활동을 해외 서비스센터 내 업무 서류까지 확장한다는 계획이다.\\n]', '[\\n연말 인사철도 아닌데 삼성전자가 반도체 부문의 대규모 인사를 단행했습니다. 반도체 위기론 때문이라는 분석이 나옵니다. 산업계 이슈 김정연 기자와 짚어보겠습니다. 삼성전자 인사 규모, 얼마나 되나요?\\xa0총 20여 명의 임원이 교체됐습니다.\\xa0삼성전자는 매년 연말에 정기인사와 조직개편을 하는데요.\\xa0인사철이 아닌데 핵심 사업인 반도체 부문 임원을 한꺼번에 교체하는 건 이례적입니다.\\xa0차세대 기술을 연구하는 반도체연구소의 신임 소장으로는 그동안 삼성전자에서 차세대 낸드플래시 개발을 주도한 송재혁 부사장이 선임됐고요.\\xa0메모리는 D램과 플래시 두 실장 자리에 각각 부사장급이 새로 임명됐습니다.\\xa0반도체연구실 내에는 미래 사업 조직인 차세대연구실이 별도로 신설됐고 반도체 공급망 위기에 대응하는 위기관리 조직도 만들어졌습니다.\\xa0파운드리 제조기술센터장이 교체되는 등 삼성전자가 최근 속도를 내고 있는 파운드리 사업 부서도 인사가 났습니다.\\xa0왜 갑자기 이렇게 인사를 냈을까요?\\xa0최근 삼성전자 반도체에서 기술적 한계 우려가 나오다 보니 미래 준비 기반을 다시 다지기 위해 이 같은 인사를 단행한 것으로 분석합니다.\\xa0또 실적에 비해 주가 등 시장 평가가 좋지 못하다 보니 조직 내 분위기를 쇄신하기 위한 시도였다는 시각도 나오고요.\\xa0여기에 삼성전자가 최근 450조 원의 투자 방안을 발표했는데, 대규모 투자 이행에 앞서 조직에 긴장감을 불어넣기 위한 조치로도 해석됩니다.\\xa0삼성전자는 이달 말 글로벌 전략 회의를 열고, 올해 사업 전략을 수립할 예정입니다.\\xa0지난달 자동차 판매량이 나왔는데 감소했다고요?\\xa0차량용 반도체 공급난이 이어지면서 1년 전보다 전반적으로 감소했습니다.\\xa0\\n\\n\\n\\n국내 완성차 5개사의 내수와 수출 판매량은 2.9% 줄어든 61만 3천여대로 집계됐습니다.\\xa0국내에서는 3.5%, 해외에선 2.8% 판매가 줄었습니다.\\xa0현대차의 경우 국내 판매는 늘었지만 해외 판매는 줄어 전체적으로 판매량이 0.5% 감소했고요.\\xa0기아는 국내외 모두 4~5%가량 판매가 줄었습니다.\\xa0르노코리아도 1년 전보다 17%, 한국GM과 쌍용자동차도 각각 6% 감소했습니다.\\xa0하이트진로는 생산이 중단되는 사태가 벌어졌다고요?\\xa0네. 하이트진로 이천공장이 어제(2일) 오전 10시부터 생산라인 가동을 멈춘 상태입니다.\\xa0민주노총 화물연대 소속 화물차주의 파업으로 이천공장의 생산 물량이 정상 출고되지 못했기 때문입니다.\\xa0이런 가운데 화물연대는 오는 7일 총파업에 나설 예정입니다.\\xa0김정연 기자, 잘 들었습니다.\\n]', '[\\n네이버 제2사옥 1784에 서비스네이버클라우드와 삼성전자는 경기 성남시 분당구의 네이버 제2사옥 &amp;apos1784&amp;apos에서 국내 최초의 &amp;apos5G특화망(이음5G)&amp;apos 서비스를 위해 협력한다고 2일 밝혔다.네이버클라우드는 지난해 11월 5G 특화망 신청 이후 올해 3월 삼성전자와 &amp;apos5G 특화망 및 클라우드 솔루션 사업 협력을 위한 양해각서&amp;apos를 체결했다. 최근 삼성전자의 이음5G 전용 장비를 &amp;apos1784&amp;apos에 적용한 데 이어 무선국 개설 인허가 절차를 완료해 국내 최초로 5G 특화망이 도입된 테크컨버전스 빌딩을 구축했다.이번 5G 특화망 도입을 통해 &amp;apos1784&amp;apos는 인공지능(AI), 로봇, 자율주행 등 첨단기술이 융합된 혁신 서비스들을 끊임없이 실행하는 ‘테스트베드’ 역할을 하게 된다. 특히 양사는 이곳에서 세계 최초로 5G 특화망과 클라우드를 기반으로 하는 자율주행 로봇 서비스를 개시한다.이음5G에 연결된 클라우드는 로봇의 두뇌 역할을 해 수십에서 수백 대에 달하는 로봇과 정보를 동시에 주고 받을 뿐 아니라 자율주행 경로를 초저지연·실시간으로 제어한다. 이를 기반으로 로봇은 &amp;apos1784&amp;apos 내 임직원들에게 택배, 커피 배달과 같은 편의 서비스를 제공한다.\\n\\n\\n\\n네이버클라우드와 삼성전자가 네이버 제2사옥 &amp;apos1784&amp;apos에서 국내 최초의 이음5G 서비스를 위해 협력한다.&amp;apos1784&amp;apos에 설치된 삼성전자의 이음5G 전용 기지국 라디오와 컴팩트 코어 등 통신장비는 로봇과 클라우드 사이의 통신을 연결하는 신경망으로서 핵심 역할을 맡게 된다. 삼성전자는 대용량 데이터 업로드가 요구되는 기업에 특화해 이음5G 전용 장비의 업로드 주파수 비중을 일반 통신망(약 20%) 대비 약 두 배 수준으로 확대 할당함으로써 한 번에 많은 수의 로봇들의 데이터 업로드를 처리할 수 있게 했다.네이버클라우드와 삼성전자는 이음5G와 클라우드를 기반으로 하는 비즈니스 모델을 지속적으로 개발하고 활용사례를 적극 발굴함으로써 국내외 5G 특화망 사업 활성화 및 생태계 확장에 기여할 수 있도록 상호 협력해 나갈 예정이다.내년 세종시에 구축 예정인 &amp;apos각 세종&amp;apos 신규 데이터센터에서도 협력을 이어간다. 이와 함께 제조, 물류, 항만, 의료 등 여러 산업 분야의 기업들과 이음5G 도입을 위한 논의를 진행 중으로, 솔루션 파트너사도 적극 발굴해 5G 특화망 생태계를 조성하는 등 긴밀한 협력을 지속해 나간다는 계획이다.삼성전자 네트워크사업부 B2B∙B2G 그룹 장용 상무는 \"네이버와의 이번 협력은 국내 이음5G 1호라는 점을 넘어서 5G, 로봇, 클라우드 등 양사의 미래 기술에 대한 비전과 기술력이 결합되어 다양한 시너지를 창출한 첫 사례\"라며 \"삼성전자는 앞으로도 국내외 5G 특화망 생태계를 구축하여 교통, 병원, 학교, 공장, SOC 시설 등 다양한 분야에서 5G 특화망 비즈니스 사례를 만들어가겠다\"고 말했다.네이버클라우드 전략&amp;기획 총괄 한상영 상무는 \"&amp;apos1784&amp;apos는 네이버 첨단기술이 융합된 건물이자 미래 기술의 테스트베드로서, 5G 기반의 클라우드를 핵심적으로 사용한다\"며, \"삼성전자와 함께 이음5G를 확산하고, 클라우드를 기반으로 더 많은 기업이 디지털 혁신을 이룰 수 있도록 지속 협력해 나갈 것\"이라고 말했다.\\n]', '[\\n지난달 BRM 조직 신설..부문별 리스크 컨트롤대·내외 악재 잇따라 터져..전사관리시스템 필요별도 BRM 조직장 임명…CEO 주요의사결정 지원\\n\\n\\n\\n[이데일리 이다원 김상윤 기자] 삼성전자가 최근 종합 리스크 관리 전담 조직을 신설하고 리스크 관리 강화에 나선 것으로 확인됐다. 러시아·우크라이나 전쟁 등 대외 돌발이슈가 잇따라 터지면서 공급망 문제가 불거지고 원자재 가격 폭등 등 사업 환경이 극도로 악화하자 대·내외 리스크를 전반적으로 관리하는 상시 위기관리 컨트롤타워가 필요하다는 판단에서다.2일 재계에 따르면 삼성전자는 지난달 경영지원실 지원팀 산하에 사업위기관리(BRM: Business Risk Management) 조직을 신설하고 부문별로 있는 리스크 관리 조직을 컨트롤하는 방안을 짜고 있다. 공급망 위기 등 리스크가 발생하면 유관부서를 모집해 태스크포스(TF)팀을 구성해 대책을 마련하고 최고경영진(CEO)이 주요 의사결정을 내릴 수 있도록 지원하는 조직이다. 조직장은 부사장 이상이 선임될 전망이다.그간 삼성전자는 △사업부(사업운영상 리스크 관리) △경영지원실(재무, 인사 미디어, 대외협력 리스크 관리) △법무실(법무 리스크 관리) △기능별 전문조직(환경안전보건, 협력회사, 브랜드, 준법 리스크 관리) △지역총괄(지역별 리스크 관리) 등에서 부문별로 리스크 관리를 했다.하지만 코로나19와 러시아·우크라이나 전쟁에 따른 공급망 위기 심화, 갤럭시 GOS(게임 최적화 서비스) 사태와 같은 돌발이슈 등이 터지면서 전사 차원의 종합적인 리스크 관리 역할을 할 수 있는 컨트롤타워 필요성이 대두됐다. 위기 징후를 사전에 포착하고, 위기가 터지더라도 위험의 영향 및 파급효과를 측정하고 미리 준비된 시나리오에 의거해 전사적으로 대응에 나서야 한다는 위기감이 커진 셈이다.업계 관계자는 “삼성전자가 사업부별로 리스크 관리 조직이 있긴 하지만, 종합적인 차원에서 리스크를 사전에 감지하고, 위기발생 시 지체없이 대응할 수 있는 시스템을 마련해야 한다는 내부 진단에 따라 조직이 신설된 것으로 안다”고 밝혔다. 다른 관계자는 “기존에는 미래전략실에서 리스크 관리도 총괄해서 담당했지만, 이후 해체되면서 리스크 관리 대응 능력이 약화된 측면이 있다”면서 “GOS 사태 대응이 미흡했다는 자성의 목소리도 반영된 것으로 안다”고 했다.글로벌 기업들은 이미 오래전부터 전사차원에서 리스크 관리 프로그램을 운영 중이다. 마이크로소프트(MS)는 1990년대 중반 재무부서 위험관리 기능을 발전시켜 전사적 위험관리를 수행하는 리스크관리그룹(RMG: Risk Management Group)을 만들었다. RMG는 재무위험관리(FRM)와 사업위기관리(BRM)라는 큰 틀에서 두 축으로 운영한다. 각 사업부문 경영자와 관리자, 재무, 마케팅, 법무 등의 직원 간 긴밀한 협력 공조체제가 구축돼 마이크로소프트가 RMG를 중심으로 하나의 위험관리 조직으로 바뀐 것이다.세계 1위 파운드리(반도체수탁생산) 업체인 TSMC도 리스크 관리 조직을 별도로 두고 엔터프라이즈 리스크 관리(ERM) 절차를 운영하고 있다. 수요·판매가격 등 산업 변화부터 생산능력 확장, 금리·조세·외환·인플레이션 등 금융 정책 문제, 지진·화재·기후변화 등 환경 문제까지 다양한 범위의 리스크를 관리하는 것이 특징이다.LG전자 역시 지난해 6월부터 시행한 중대재해처벌법 기준에 맞춰 지난해 9월 C레벨 임원 라인업에 최고위기관리책임자(CRO)를 추가했다. 다만 이 자리는 최고재무책임자인 배두용 부사장이 겸직한다. 평시에는 사업·기능별 위기관리 대응 활동을 점검하다 위기발생 시에는 신속하게 비상대책위를 구성해 종합 상황실의 역할을 한다. 상당수 기업들도 CRO 자리를 만들긴 했지만 주로 안전관리에 국한된 일을 한다.정용민 스트래티지샐러드 대표는 “삼성전자와 같은 큰 조직이 부문별로 리스크 대응을 하는 것은 한계가 있기 때문에 전사 차원에서 대응에 나선 것은 의미가 크다”면서 “특히나 문제가 생겼을 때 임시로 리스크 관리를 하는 방식이 아니라 정규 조직을 갖춰 상시적으로 리스크 관리에 나서는 게 중요하다”고 강조했다.\\n]', \"[\\n\\n\\n\\n\\n[서울=뉴시스]삼성전자 모델이 서울 논현동에 위치한 삼성전자 디지털프라자 강남본점에서 알렉스 프로바 채널이 적용된 비스포크 냉장고 제품을 선보이고 있다. (사진 = 삼성전자) 2022.6.2. photo@newsis.com *재판매 및 DB 금지[서울=뉴시스] 이현주 기자 = 삼성전자는 미국 유명 크리에이티브 디렉터 알렉스 프로바(Alex Proba)와 함께 디자인한 비스포크 냉장고 패널을 선보인다고 2일 밝혔다.  비스포크 냉장고 출시 3주년을 기념해 한정판으로 판매하는 알렉스 프로바 패널은 4도어 프리스탠딩 냉장고용으로, 삼성닷컴에서 3일 오전 10시부터 구매할 수 있다. 4개 패널 한 세트의 가격은 120만원이다.알렉스 프로바 에디션은 자연에서 영감을 받은 추상적인 패턴과 과감한 색상을 활용해 경쾌하고 행복한 느낌을 자아내는 것이 특징이다. 삼성전자는 지난 2019년 인기 캐릭터 '슈퍼픽션' 에디션을 도입해 호평을 받았으며, 이후에도 티보에렘(Thibaud Herem), 앤디 리멘터(Andy Rementer) 등 해외 유수 아티스트들과의 협업한 패널을 지속적으로 선보여 왔다.\\n]\", '[\\n\\n\\n\\n\\n이재용 삼성전자 부회장이 최근 폭넓은 경영 활동을 수행하고 있다. 사진은 지난달 20일 경기 평택 삼성전자 반도체 공장에서 윤석열 대통령과 조 바이든 미국 대통령을 향해 인사말을 하는 이 부회장. /사진=뉴스1(대통령실기자단) 이재용 삼성전자 부회장이 최근 대규모 투자계획을 밝히고 공식석상에 얼굴을 자주 내비치는 등 경영 활동의 폭을 넓히고 있다. 업계에서는 이 부회장의 활발한 경영 활동 배경으로 파운드리(반도체 위탁생산) 사업 위기감을 꼽는다.3일 업계에 따르면 이 부회장은 지난달 31일 삼성호암상 시상식에 참석해 수상자들을 격려했다. 삼성호암상은 고 이건희 전 삼성그룹 회장이 고 이병철 선대회장의 인재제일 및 사회공헌 정신을 기려 제정한 상이다. 과학·공학·의학·예술·사회봉사 등의 분야에서 업적을 세운 국내외 한국계 인사들에게 이 상이 수여된다.이 부회장이 삼성호암상 시상식에 참석한 것은 2016년 이후 6년 만이다. 사법리스크로 인한 경영 제약, 우크라이나 사태, 글로벌 산업 재편 가속화 등 복합적인 위기 상황 속에서도 인재의 중요성을 강조하기 위해 시상식에 참석한 것으로 관측된다.이 부회장은 지난달 10일 윤석열 대통령 취임식에 참석한 후 대내외 활동을 이어오고 있다. 같은 달 20일 윤 대통령, 조 바이든 미국 대통령과 함께 경기 평택 삼성전자 반도체 공장을 방문했고 이튿날에는 한미 비즈니스 라운드테이블에 참석했다. 25일에는 대한민국 중소기업인대회에 모습을 드러냈고 30일에는 팻 겔싱어 인텔 최고경영자(CEO)와 회동을 갖고 반도체 협력 방안을 논의했다.업계에서는 이 부회장이 파운드리 사업 위기감을 느껴 대내외 활동을 넓히고 있는 것으로 내다본다. 겔싱어 CEO와의 회동도 파운드리 협력을 추진하기 위한 목적이었다는 것이 후문이다. 삼성전자 관계자는 \"해당 회동에서 파운드리, 차세대 메모리, 팹리스 시스템반도체, PC 및 모바일 등 다양한 분야에 대해 논의했다\"고 밝혔다.이 부회장의 파운드리 위기감은 투자 계획에서도 엿볼 수 있다. 삼성전자는 향후 5년 동안 450조원을 투자할 계획이라고 밝혔는데 이 중 300조원 가량을 반도체 사업에 투자할 것으로 예상된다. 특히 기존 메모리반도체 위주의 사업 구조를 개편하기 위해 파운드리가 포함된 시스템반도체 부문에 투자를 집중할 것으로 보인다. 삼성전자는 파운드리 3나노미터(㎚) 공정 상용화에 집중해 업계 1위 TSMC와의 격차를 줄이고자 한다. 현재는 4㎚ 공정이 사용되고 있다.파운드리 사업에서 삼성전자의 최대 라이벌은 TSMC다. TSMC는 삼성전자보다 기술력이 뛰어나다는 평가를 받는다. 특히 파운드리 수율(전체 생산품 중 양품 비율)이 삼성전자보다 높은 것으로 알려졌다. 이 이유로 삼성전자 대형 고객사들이 TSMC로 이탈하는 것 아니냐는 우려가 제기된 바 있다. 지난달에는 TSMC가 1.4㎚ 공정 개발에 나서겠다고 발표하면서 삼성전자의 위기감이 강해지기도 했다.시장 내 입지 역시 삼성전자보다는 TSMC가 확고하다. 시장조사기관 트렌드포스에 따르면 TSMC는 지난해 파운드리 시장에서 점유율 53%를 차지했다. 2위인 삼성전자의 지난해 파운드리 점유율은 18%에 불과했다. 올해는 TSMC의 점유율이 3%포인트 상승하고 삼성전자는 2%포인트 하락할 것으로 예상돼 격차는 더욱 벌어질 전망이다.\\n]']\n"
          ]
        }
      ],
      "id": "SZvPGJP3rSX7"
    },
    {
      "cell_type": "code",
      "source": [
        "titles[0].replace(\"[\",'').replace(\"]\",'').replace(\"\\n\",'')"
      ],
      "metadata": {
        "id": "CBRA4ikdwyMJ",
        "colab": {
          "base_uri": "https://localhost:8080/",
          "height": 36
        },
        "outputId": "5509cdbb-7262-421c-8805-24e8d5218190"
      },
      "execution_count": null,
      "outputs": [
        {
          "output_type": "execute_result",
          "data": {
            "text/plain": [
              "'이찬희 삼성 준법위원장 “이재용 사면 결단내려야”'"
            ],
            "application/vnd.google.colaboratory.intrinsic+json": {
              "type": "string"
            }
          },
          "metadata": {},
          "execution_count": 9
        }
      ],
      "id": "CBRA4ikdwyMJ"
    },
    {
      "cell_type": "code",
      "source": [
        "titles = list(map(lambda x: x.replace(\"[\",'').replace(\"]\",'').replace(\"\\n\",''), titles))"
      ],
      "metadata": {
        "id": "upq3BDKryhyd"
      },
      "execution_count": null,
      "outputs": [],
      "id": "upq3BDKryhyd"
    },
    {
      "cell_type": "code",
      "source": [
        "contents = list(map(lambda x: x.replace(\"[\",'').replace(\"]\",'').replace(\"\\n\",'').replace(\"\\t\",''), contents))"
      ],
      "metadata": {
        "id": "gkEA6UljynkB"
      },
      "execution_count": null,
      "outputs": [],
      "id": "gkEA6UljynkB"
    },
    {
      "cell_type": "code",
      "source": [
        "news_df = pd.DataFrame({'title':titles,'link':naver_urls,'content':contents})"
      ],
      "metadata": {
        "id": "YREpLXqGrSc7"
      },
      "execution_count": null,
      "outputs": [],
      "id": "YREpLXqGrSc7"
    },
    {
      "cell_type": "code",
      "source": [
        "news_df"
      ],
      "metadata": {
        "id": "w4gwdxktrShr",
        "colab": {
          "base_uri": "https://localhost:8080/",
          "height": 896
        },
        "outputId": "fe241aa7-feba-4b6b-86fc-b8d47e766fa5"
      },
      "execution_count": null,
      "outputs": [
        {
          "output_type": "execute_result",
          "data": {
            "text/plain": [
              "                                      title  \\\n",
              "0               이찬희 삼성 준법위원장 “이재용 사면 결단내려야”   \n",
              "1      이재승 삼성전자 사장 \"국내 판매 냉장고 3대 중 2대 비스포크\"   \n",
              "2          이찬희 삼성 준법위원장 “이재용 부회장 사면, 국민의 뜻”   \n",
              "3    대기업 고용인원 170만명 1년새 6만명↑…삼성전자 11만명 '최대'   \n",
              "4                   삼성전자, 반도체연구소장 등 임원인사 단행   \n",
              "5                삼성전자에 무슨 일이…반도체 임원 20여명 교체   \n",
              "6      삼성전자, 브라질서 에어컨 전력량 관리 '스마트싱스 에너지' 출시   \n",
              "7          삼성스팩 이틀 연속 상한가, 증권가도 당황했다… 무슨 일?   \n",
              "8      반도체 부사장 10명 교체…급박하게 돌아가는 '삼성시계' 뒷북비즈   \n",
              "9   삼성전자, 1분기 스마트워치 시장 2위… '갤럭시워치4'가 점유율 늘려   \n",
              "10        삼성전자, 임원까지 주식 매입 나섰지만…주가 한 달째 제자리   \n",
              "11         삼성, 폴더블폰 독주…'글로벌 점유율 74%' 압도적 1위   \n",
              "12         삼성전자, 브라질서 전력량 관리 '스마트싱스 에너지' 출시   \n",
              "13      삼성전자, '페이퍼 프리' 시스템 전세계 서비스센터로 확대 적용   \n",
              "14       삼성전자, 비스포크 냉장고 출시 3주년 기념 한정판 패널 판매   \n",
              "15                     삼성전자, 반도체 전열 다시 정비했다   \n",
              "16        삼성전자, 180개국 글로벌 서비스센터서 '전자영수증' 발급   \n",
              "17           20대 기업 현금성 자산 226조원…삼성전자 124조원   \n",
              "18         '6만전자' 묶인 삼성전자…M&amp;A로 분위기 반전할까   \n",
              "19                삼성 스마트싱스가 서버리스와 플링크 택한 이유   \n",
              "20            “이게 겨우 10만원, 진짜야?” 삼성 ‘헐값’ 유혹   \n",
              "21                  삼성전자 전자영수증 전세계 서비스센터 확대   \n",
              "22            삼성전자, 갑자기 반도체 임원 20여 명 물갈이…왜?   \n",
              "23       네이버클라우드-삼성전자, 국내 1호 '5G특화망' 상용화 협력   \n",
              "24                 단독삼성전자, 리스크관리 컨트롤타워 신설한다   \n",
              "25      삼성 비스포크 냉장고, 美아티스트 '알렉스 프로바' 디자인 입다   \n",
              "26      '광폭 경영 행보' 이재용 삼성전자 부회장 뒤엔 파운드리 위기감   \n",
              "\n",
              "                                                 link  \\\n",
              "0   https://n.news.naver.com/mnews/article/081/000...   \n",
              "1   https://n.news.naver.com/mnews/article/003/001...   \n",
              "2   https://n.news.naver.com/mnews/article/018/000...   \n",
              "3   https://n.news.naver.com/mnews/article/421/000...   \n",
              "4   https://n.news.naver.com/mnews/article/014/000...   \n",
              "5   https://n.news.naver.com/mnews/article/015/000...   \n",
              "6   https://n.news.naver.com/mnews/article/079/000...   \n",
              "7   https://n.news.naver.com/mnews/article/023/000...   \n",
              "8   https://n.news.naver.com/mnews/article/011/000...   \n",
              "9   https://n.news.naver.com/mnews/article/417/000...   \n",
              "10  https://n.news.naver.com/mnews/article/003/001...   \n",
              "11  https://n.news.naver.com/mnews/article/015/000...   \n",
              "12  https://n.news.naver.com/mnews/article/001/001...   \n",
              "13  https://n.news.naver.com/mnews/article/001/001...   \n",
              "14  https://n.news.naver.com/mnews/article/001/001...   \n",
              "15  https://n.news.naver.com/mnews/article/648/000...   \n",
              "16  https://n.news.naver.com/mnews/article/003/001...   \n",
              "17  https://n.news.naver.com/mnews/article/001/001...   \n",
              "18  https://n.news.naver.com/mnews/article/018/000...   \n",
              "19  https://n.news.naver.com/mnews/article/092/000...   \n",
              "20  https://n.news.naver.com/mnews/article/016/000...   \n",
              "21  https://n.news.naver.com/mnews/article/023/000...   \n",
              "22  https://n.news.naver.com/mnews/article/374/000...   \n",
              "23  https://n.news.naver.com/mnews/article/092/000...   \n",
              "24  https://n.news.naver.com/mnews/article/018/000...   \n",
              "25  https://n.news.naver.com/mnews/article/003/001...   \n",
              "26  https://n.news.naver.com/mnews/article/417/000...   \n",
              "\n",
              "                                              content  \n",
              "0   삼성 7개사 최고경영진 간담회 앞서“국민의 뜻에 따라야 한다고 생각”　질문에 답하는...  \n",
              "1   기사내용 요약비스포크 홈 2022 글로벌 행사 앞두고 비전 공개2019년 출시 후 ...  \n",
              "2   삼성 준법위·최고경영진 간담회 참석“재판으로 경영 어려움…결단 내려야”간담회선 “솔...  \n",
              "3   쿠팡, 작년 고용인원 3만명 늘어…고용 최다 그룹은 '삼성' 26.6만명자산 5조원...  \n",
              "4   삼성전자 평택캠퍼스 사진=뉴스1 파이낸셜뉴스 삼성전자가 2일 반도체 선행기술 연구개...  \n",
              "5   자체 개발한 AP 엑시노스 수율 관련 조직 쇄신 인사반도체연구소도 조직 개편사진=연...  \n",
              "6   핵심요약스마트싱스 에너지 서비스는 한국을 비롯해 미국·영국·인도에서 서비스를 시작했...  \n",
              "7   왕개미연구소“당황스럽네요. 삼성전자 인수·합병(M&amp;A)과 삼성스팩(SPAC)...  \n",
              "8   이재용, 반도체 부사장 10여명 전격교체7일 네덜란드 출장···인텔과 ARM 인수까...  \n",
              "9    삼성전자가 올해 1분기 전세계 스마트워치 시장에서 2위를 기록하며 자존심을 지켰다...  \n",
              "10  기사내용 요약비등기 임원 22명, 한 달간 33억9704만원어치 매입회사 주식 매입...  \n",
              "11  갤럭시Z플립3 점유율 51% 1위갤럭시Z폴드3 점유율 21% 2위서울 서초구 서초동...  \n",
              "12  (서울=연합뉴스) 김철선 기자 = 삼성전자는 지난 1일(현지시간) 브라질 상파울루에...  \n",
              "13  180개국 수리점 1만1천여곳에서 전자문서 발급…연간 1억장 종이 절감 효과 삼성전...  \n",
              "14  알렉스 프로바 디자인 비스포크 냉장고 패널삼성전자 제공. DB 및 재판매 금지(서울...  \n",
              "15  이재용 부회장, 네덜란드 출장길ASML 방문해 EUV 장비확보 전망연중 반도체 인사...  \n",
              "16  기사내용 요약국내 2020년 3월 전자영수증 발급…전 세계 수리점에 도입서비스 내역...  \n",
              "17  2019년 말보다 33.4%↑…\"재무위험 관리 차원, 투자 여력 생겨\"삼성전자 서초...  \n",
              "18  외국인·기관 동반 매도에 하락세 지속연준, 양적긴축 개시에 매크로 악화M&amp;A...  \n",
              "19  삼성전자 스마트싱스 서버개발그룹 인터뷰“삼성전자 스마트싱스는 구글, 아마존, 애플 ...  \n",
              "20  삼성전자의 중저가 스마트폰 ‘갤럭시A52s 5G’. ‘Vimal Chintapatl...  \n",
              "21  삼성전자가 국내 서비스센터에서 종이 영수증·명세서 대신 전자문서를 발급해주는 ‘페이...  \n",
              "22  연말 인사철도 아닌데 삼성전자가 반도체 부문의 대규모 인사를 단행했습니다. 반도체 ...  \n",
              "23  네이버 제2사옥 1784에 서비스네이버클라우드와 삼성전자는 경기 성남시 분당구의 네...  \n",
              "24  지난달 BRM 조직 신설..부문별 리스크 컨트롤대·내외 악재 잇따라 터져..전사관리...  \n",
              "25  서울=뉴시스삼성전자 모델이 서울 논현동에 위치한 삼성전자 디지털프라자 강남본점에서 ...  \n",
              "26  이재용 삼성전자 부회장이 최근 폭넓은 경영 활동을 수행하고 있다. 사진은 지난달 2...  "
            ],
            "text/html": [
              "\n",
              "  <div id=\"df-e8b334f0-9766-440f-b0cc-b7978b9a64e3\">\n",
              "    <div class=\"colab-df-container\">\n",
              "      <div>\n",
              "<style scoped>\n",
              "    .dataframe tbody tr th:only-of-type {\n",
              "        vertical-align: middle;\n",
              "    }\n",
              "\n",
              "    .dataframe tbody tr th {\n",
              "        vertical-align: top;\n",
              "    }\n",
              "\n",
              "    .dataframe thead th {\n",
              "        text-align: right;\n",
              "    }\n",
              "</style>\n",
              "<table border=\"1\" class=\"dataframe\">\n",
              "  <thead>\n",
              "    <tr style=\"text-align: right;\">\n",
              "      <th></th>\n",
              "      <th>title</th>\n",
              "      <th>link</th>\n",
              "      <th>content</th>\n",
              "    </tr>\n",
              "  </thead>\n",
              "  <tbody>\n",
              "    <tr>\n",
              "      <th>0</th>\n",
              "      <td>이찬희 삼성 준법위원장 “이재용 사면 결단내려야”</td>\n",
              "      <td>https://n.news.naver.com/mnews/article/081/000...</td>\n",
              "      <td>삼성 7개사 최고경영진 간담회 앞서“국민의 뜻에 따라야 한다고 생각”　질문에 답하는...</td>\n",
              "    </tr>\n",
              "    <tr>\n",
              "      <th>1</th>\n",
              "      <td>이재승 삼성전자 사장 \"국내 판매 냉장고 3대 중 2대 비스포크\"</td>\n",
              "      <td>https://n.news.naver.com/mnews/article/003/001...</td>\n",
              "      <td>기사내용 요약비스포크 홈 2022 글로벌 행사 앞두고 비전 공개2019년 출시 후 ...</td>\n",
              "    </tr>\n",
              "    <tr>\n",
              "      <th>2</th>\n",
              "      <td>이찬희 삼성 준법위원장 “이재용 부회장 사면, 국민의 뜻”</td>\n",
              "      <td>https://n.news.naver.com/mnews/article/018/000...</td>\n",
              "      <td>삼성 준법위·최고경영진 간담회 참석“재판으로 경영 어려움…결단 내려야”간담회선 “솔...</td>\n",
              "    </tr>\n",
              "    <tr>\n",
              "      <th>3</th>\n",
              "      <td>대기업 고용인원 170만명 1년새 6만명↑…삼성전자 11만명 '최대'</td>\n",
              "      <td>https://n.news.naver.com/mnews/article/421/000...</td>\n",
              "      <td>쿠팡, 작년 고용인원 3만명 늘어…고용 최다 그룹은 '삼성' 26.6만명자산 5조원...</td>\n",
              "    </tr>\n",
              "    <tr>\n",
              "      <th>4</th>\n",
              "      <td>삼성전자, 반도체연구소장 등 임원인사 단행</td>\n",
              "      <td>https://n.news.naver.com/mnews/article/014/000...</td>\n",
              "      <td>삼성전자 평택캠퍼스 사진=뉴스1 파이낸셜뉴스 삼성전자가 2일 반도체 선행기술 연구개...</td>\n",
              "    </tr>\n",
              "    <tr>\n",
              "      <th>5</th>\n",
              "      <td>삼성전자에 무슨 일이…반도체 임원 20여명 교체</td>\n",
              "      <td>https://n.news.naver.com/mnews/article/015/000...</td>\n",
              "      <td>자체 개발한 AP 엑시노스 수율 관련 조직 쇄신 인사반도체연구소도 조직 개편사진=연...</td>\n",
              "    </tr>\n",
              "    <tr>\n",
              "      <th>6</th>\n",
              "      <td>삼성전자, 브라질서 에어컨 전력량 관리 '스마트싱스 에너지' 출시</td>\n",
              "      <td>https://n.news.naver.com/mnews/article/079/000...</td>\n",
              "      <td>핵심요약스마트싱스 에너지 서비스는 한국을 비롯해 미국·영국·인도에서 서비스를 시작했...</td>\n",
              "    </tr>\n",
              "    <tr>\n",
              "      <th>7</th>\n",
              "      <td>삼성스팩 이틀 연속 상한가, 증권가도 당황했다… 무슨 일?</td>\n",
              "      <td>https://n.news.naver.com/mnews/article/023/000...</td>\n",
              "      <td>왕개미연구소“당황스럽네요. 삼성전자 인수·합병(M&amp;amp;A)과 삼성스팩(SPAC)...</td>\n",
              "    </tr>\n",
              "    <tr>\n",
              "      <th>8</th>\n",
              "      <td>반도체 부사장 10명 교체…급박하게 돌아가는 '삼성시계' 뒷북비즈</td>\n",
              "      <td>https://n.news.naver.com/mnews/article/011/000...</td>\n",
              "      <td>이재용, 반도체 부사장 10여명 전격교체7일 네덜란드 출장···인텔과 ARM 인수까...</td>\n",
              "    </tr>\n",
              "    <tr>\n",
              "      <th>9</th>\n",
              "      <td>삼성전자, 1분기 스마트워치 시장 2위… '갤럭시워치4'가 점유율 늘려</td>\n",
              "      <td>https://n.news.naver.com/mnews/article/417/000...</td>\n",
              "      <td>삼성전자가 올해 1분기 전세계 스마트워치 시장에서 2위를 기록하며 자존심을 지켰다...</td>\n",
              "    </tr>\n",
              "    <tr>\n",
              "      <th>10</th>\n",
              "      <td>삼성전자, 임원까지 주식 매입 나섰지만…주가 한 달째 제자리</td>\n",
              "      <td>https://n.news.naver.com/mnews/article/003/001...</td>\n",
              "      <td>기사내용 요약비등기 임원 22명, 한 달간 33억9704만원어치 매입회사 주식 매입...</td>\n",
              "    </tr>\n",
              "    <tr>\n",
              "      <th>11</th>\n",
              "      <td>삼성, 폴더블폰 독주…'글로벌 점유율 74%' 압도적 1위</td>\n",
              "      <td>https://n.news.naver.com/mnews/article/015/000...</td>\n",
              "      <td>갤럭시Z플립3 점유율 51% 1위갤럭시Z폴드3 점유율 21% 2위서울 서초구 서초동...</td>\n",
              "    </tr>\n",
              "    <tr>\n",
              "      <th>12</th>\n",
              "      <td>삼성전자, 브라질서 전력량 관리 '스마트싱스 에너지' 출시</td>\n",
              "      <td>https://n.news.naver.com/mnews/article/001/001...</td>\n",
              "      <td>(서울=연합뉴스) 김철선 기자 = 삼성전자는 지난 1일(현지시간) 브라질 상파울루에...</td>\n",
              "    </tr>\n",
              "    <tr>\n",
              "      <th>13</th>\n",
              "      <td>삼성전자, '페이퍼 프리' 시스템 전세계 서비스센터로 확대 적용</td>\n",
              "      <td>https://n.news.naver.com/mnews/article/001/001...</td>\n",
              "      <td>180개국 수리점 1만1천여곳에서 전자문서 발급…연간 1억장 종이 절감 효과 삼성전...</td>\n",
              "    </tr>\n",
              "    <tr>\n",
              "      <th>14</th>\n",
              "      <td>삼성전자, 비스포크 냉장고 출시 3주년 기념 한정판 패널 판매</td>\n",
              "      <td>https://n.news.naver.com/mnews/article/001/001...</td>\n",
              "      <td>알렉스 프로바 디자인 비스포크 냉장고 패널삼성전자 제공. DB 및 재판매 금지(서울...</td>\n",
              "    </tr>\n",
              "    <tr>\n",
              "      <th>15</th>\n",
              "      <td>삼성전자, 반도체 전열 다시 정비했다</td>\n",
              "      <td>https://n.news.naver.com/mnews/article/648/000...</td>\n",
              "      <td>이재용 부회장, 네덜란드 출장길ASML 방문해 EUV 장비확보 전망연중 반도체 인사...</td>\n",
              "    </tr>\n",
              "    <tr>\n",
              "      <th>16</th>\n",
              "      <td>삼성전자, 180개국 글로벌 서비스센터서 '전자영수증' 발급</td>\n",
              "      <td>https://n.news.naver.com/mnews/article/003/001...</td>\n",
              "      <td>기사내용 요약국내 2020년 3월 전자영수증 발급…전 세계 수리점에 도입서비스 내역...</td>\n",
              "    </tr>\n",
              "    <tr>\n",
              "      <th>17</th>\n",
              "      <td>20대 기업 현금성 자산 226조원…삼성전자 124조원</td>\n",
              "      <td>https://n.news.naver.com/mnews/article/001/001...</td>\n",
              "      <td>2019년 말보다 33.4%↑…\"재무위험 관리 차원, 투자 여력 생겨\"삼성전자 서초...</td>\n",
              "    </tr>\n",
              "    <tr>\n",
              "      <th>18</th>\n",
              "      <td>'6만전자' 묶인 삼성전자…M&amp;amp;A로 분위기 반전할까</td>\n",
              "      <td>https://n.news.naver.com/mnews/article/018/000...</td>\n",
              "      <td>외국인·기관 동반 매도에 하락세 지속연준, 양적긴축 개시에 매크로 악화M&amp;amp;A...</td>\n",
              "    </tr>\n",
              "    <tr>\n",
              "      <th>19</th>\n",
              "      <td>삼성 스마트싱스가 서버리스와 플링크 택한 이유</td>\n",
              "      <td>https://n.news.naver.com/mnews/article/092/000...</td>\n",
              "      <td>삼성전자 스마트싱스 서버개발그룹 인터뷰“삼성전자 스마트싱스는 구글, 아마존, 애플 ...</td>\n",
              "    </tr>\n",
              "    <tr>\n",
              "      <th>20</th>\n",
              "      <td>“이게 겨우 10만원, 진짜야?” 삼성 ‘헐값’ 유혹</td>\n",
              "      <td>https://n.news.naver.com/mnews/article/016/000...</td>\n",
              "      <td>삼성전자의 중저가 스마트폰 ‘갤럭시A52s 5G’. ‘Vimal Chintapatl...</td>\n",
              "    </tr>\n",
              "    <tr>\n",
              "      <th>21</th>\n",
              "      <td>삼성전자 전자영수증 전세계 서비스센터 확대</td>\n",
              "      <td>https://n.news.naver.com/mnews/article/023/000...</td>\n",
              "      <td>삼성전자가 국내 서비스센터에서 종이 영수증·명세서 대신 전자문서를 발급해주는 ‘페이...</td>\n",
              "    </tr>\n",
              "    <tr>\n",
              "      <th>22</th>\n",
              "      <td>삼성전자, 갑자기 반도체 임원 20여 명 물갈이…왜?</td>\n",
              "      <td>https://n.news.naver.com/mnews/article/374/000...</td>\n",
              "      <td>연말 인사철도 아닌데 삼성전자가 반도체 부문의 대규모 인사를 단행했습니다. 반도체 ...</td>\n",
              "    </tr>\n",
              "    <tr>\n",
              "      <th>23</th>\n",
              "      <td>네이버클라우드-삼성전자, 국내 1호 '5G특화망' 상용화 협력</td>\n",
              "      <td>https://n.news.naver.com/mnews/article/092/000...</td>\n",
              "      <td>네이버 제2사옥 1784에 서비스네이버클라우드와 삼성전자는 경기 성남시 분당구의 네...</td>\n",
              "    </tr>\n",
              "    <tr>\n",
              "      <th>24</th>\n",
              "      <td>단독삼성전자, 리스크관리 컨트롤타워 신설한다</td>\n",
              "      <td>https://n.news.naver.com/mnews/article/018/000...</td>\n",
              "      <td>지난달 BRM 조직 신설..부문별 리스크 컨트롤대·내외 악재 잇따라 터져..전사관리...</td>\n",
              "    </tr>\n",
              "    <tr>\n",
              "      <th>25</th>\n",
              "      <td>삼성 비스포크 냉장고, 美아티스트 '알렉스 프로바' 디자인 입다</td>\n",
              "      <td>https://n.news.naver.com/mnews/article/003/001...</td>\n",
              "      <td>서울=뉴시스삼성전자 모델이 서울 논현동에 위치한 삼성전자 디지털프라자 강남본점에서 ...</td>\n",
              "    </tr>\n",
              "    <tr>\n",
              "      <th>26</th>\n",
              "      <td>'광폭 경영 행보' 이재용 삼성전자 부회장 뒤엔 파운드리 위기감</td>\n",
              "      <td>https://n.news.naver.com/mnews/article/417/000...</td>\n",
              "      <td>이재용 삼성전자 부회장이 최근 폭넓은 경영 활동을 수행하고 있다. 사진은 지난달 2...</td>\n",
              "    </tr>\n",
              "  </tbody>\n",
              "</table>\n",
              "</div>\n",
              "      <button class=\"colab-df-convert\" onclick=\"convertToInteractive('df-e8b334f0-9766-440f-b0cc-b7978b9a64e3')\"\n",
              "              title=\"Convert this dataframe to an interactive table.\"\n",
              "              style=\"display:none;\">\n",
              "        \n",
              "  <svg xmlns=\"http://www.w3.org/2000/svg\" height=\"24px\"viewBox=\"0 0 24 24\"\n",
              "       width=\"24px\">\n",
              "    <path d=\"M0 0h24v24H0V0z\" fill=\"none\"/>\n",
              "    <path d=\"M18.56 5.44l.94 2.06.94-2.06 2.06-.94-2.06-.94-.94-2.06-.94 2.06-2.06.94zm-11 1L8.5 8.5l.94-2.06 2.06-.94-2.06-.94L8.5 2.5l-.94 2.06-2.06.94zm10 10l.94 2.06.94-2.06 2.06-.94-2.06-.94-.94-2.06-.94 2.06-2.06.94z\"/><path d=\"M17.41 7.96l-1.37-1.37c-.4-.4-.92-.59-1.43-.59-.52 0-1.04.2-1.43.59L10.3 9.45l-7.72 7.72c-.78.78-.78 2.05 0 2.83L4 21.41c.39.39.9.59 1.41.59.51 0 1.02-.2 1.41-.59l7.78-7.78 2.81-2.81c.8-.78.8-2.07 0-2.86zM5.41 20L4 18.59l7.72-7.72 1.47 1.35L5.41 20z\"/>\n",
              "  </svg>\n",
              "      </button>\n",
              "      \n",
              "  <style>\n",
              "    .colab-df-container {\n",
              "      display:flex;\n",
              "      flex-wrap:wrap;\n",
              "      gap: 12px;\n",
              "    }\n",
              "\n",
              "    .colab-df-convert {\n",
              "      background-color: #E8F0FE;\n",
              "      border: none;\n",
              "      border-radius: 50%;\n",
              "      cursor: pointer;\n",
              "      display: none;\n",
              "      fill: #1967D2;\n",
              "      height: 32px;\n",
              "      padding: 0 0 0 0;\n",
              "      width: 32px;\n",
              "    }\n",
              "\n",
              "    .colab-df-convert:hover {\n",
              "      background-color: #E2EBFA;\n",
              "      box-shadow: 0px 1px 2px rgba(60, 64, 67, 0.3), 0px 1px 3px 1px rgba(60, 64, 67, 0.15);\n",
              "      fill: #174EA6;\n",
              "    }\n",
              "\n",
              "    [theme=dark] .colab-df-convert {\n",
              "      background-color: #3B4455;\n",
              "      fill: #D2E3FC;\n",
              "    }\n",
              "\n",
              "    [theme=dark] .colab-df-convert:hover {\n",
              "      background-color: #434B5C;\n",
              "      box-shadow: 0px 1px 3px 1px rgba(0, 0, 0, 0.15);\n",
              "      filter: drop-shadow(0px 1px 2px rgba(0, 0, 0, 0.3));\n",
              "      fill: #FFFFFF;\n",
              "    }\n",
              "  </style>\n",
              "\n",
              "      <script>\n",
              "        const buttonEl =\n",
              "          document.querySelector('#df-e8b334f0-9766-440f-b0cc-b7978b9a64e3 button.colab-df-convert');\n",
              "        buttonEl.style.display =\n",
              "          google.colab.kernel.accessAllowed ? 'block' : 'none';\n",
              "\n",
              "        async function convertToInteractive(key) {\n",
              "          const element = document.querySelector('#df-e8b334f0-9766-440f-b0cc-b7978b9a64e3');\n",
              "          const dataTable =\n",
              "            await google.colab.kernel.invokeFunction('convertToInteractive',\n",
              "                                                     [key], {});\n",
              "          if (!dataTable) return;\n",
              "\n",
              "          const docLinkHtml = 'Like what you see? Visit the ' +\n",
              "            '<a target=\"_blank\" href=https://colab.research.google.com/notebooks/data_table.ipynb>data table notebook</a>'\n",
              "            + ' to learn more about interactive tables.';\n",
              "          element.innerHTML = '';\n",
              "          dataTable['output_type'] = 'display_data';\n",
              "          await google.colab.output.renderOutput(dataTable, element);\n",
              "          const docLink = document.createElement('div');\n",
              "          docLink.innerHTML = docLinkHtml;\n",
              "          element.appendChild(docLink);\n",
              "        }\n",
              "      </script>\n",
              "    </div>\n",
              "  </div>\n",
              "  "
            ]
          },
          "metadata": {},
          "execution_count": 13
        }
      ],
      "id": "w4gwdxktrShr"
    },
    {
      "cell_type": "code",
      "execution_count": null,
      "metadata": {
        "id": "234445f6"
      },
      "outputs": [],
      "source": [
        ""
      ],
      "id": "234445f6"
    },
    {
      "cell_type": "markdown",
      "source": [
        "# 잡플래닛 기업 평점 수집하기(프로젝트)"
      ],
      "metadata": {
        "id": "EkznH0slMNIS"
      },
      "id": "EkznH0slMNIS"
    },
    {
      "cell_type": "markdown",
      "metadata": {
        "id": "6aee7553"
      },
      "source": [
        "### 단일 리뷰 크롤링"
      ],
      "id": "6aee7553"
    },
    {
      "cell_type": "code",
      "execution_count": null,
      "metadata": {
        "id": "bfhnto0Z1C6q"
      },
      "outputs": [],
      "source": [
        "from google.colab import drive\n",
        "drive.mount('/content/drive')"
      ],
      "id": "bfhnto0Z1C6q"
    },
    {
      "cell_type": "code",
      "execution_count": null,
      "metadata": {
        "id": "T2zG6d8C1HXX"
      },
      "outputs": [],
      "source": [
        "import os \n",
        "os.chdir(\"/content/drive/MyDrive/금융특화 계층별 AI역량강화 교안/실습1_5. 웹 크롤링과 금융 데이터\")"
      ],
      "id": "T2zG6d8C1HXX"
    },
    {
      "cell_type": "code",
      "execution_count": null,
      "metadata": {
        "colab": {
          "background_save": true
        },
        "id": "4lvLpEA20vzC",
        "outputId": "e4e1cb5f-076b-4f26-f66c-9715628ce7e8"
      },
      "outputs": [
        {
          "name": "stdout",
          "output_type": "stream",
          "text": [
            "Looking in indexes: https://pypi.org/simple, https://us-python.pkg.dev/colab-wheels/public/simple/\n",
            "Collecting selenium\n",
            "  Downloading selenium-4.2.0-py3-none-any.whl (983 kB)\n",
            "\u001b[K     |████████████████████████████████| 983 kB 24.5 MB/s \n",
            "\u001b[?25hCollecting urllib3[secure,socks]~=1.26\n",
            "  Downloading urllib3-1.26.9-py2.py3-none-any.whl (138 kB)\n",
            "\u001b[K     |████████████████████████████████| 138 kB 55.3 MB/s \n",
            "\u001b[?25hCollecting trio~=0.17\n",
            "  Downloading trio-0.20.0-py3-none-any.whl (359 kB)\n",
            "\u001b[K     |████████████████████████████████| 359 kB 53.0 MB/s \n",
            "\u001b[?25hCollecting trio-websocket~=0.9\n",
            "  Downloading trio_websocket-0.9.2-py3-none-any.whl (16 kB)\n",
            "Collecting sniffio\n",
            "  Downloading sniffio-1.2.0-py3-none-any.whl (10 kB)\n",
            "Requirement already satisfied: idna in /usr/local/lib/python3.7/dist-packages (from trio~=0.17->selenium) (2.10)\n",
            "Requirement already satisfied: sortedcontainers in /usr/local/lib/python3.7/dist-packages (from trio~=0.17->selenium) (2.4.0)\n",
            "Requirement already satisfied: attrs>=19.2.0 in /usr/local/lib/python3.7/dist-packages (from trio~=0.17->selenium) (21.4.0)\n",
            "Collecting outcome\n",
            "  Downloading outcome-1.1.0-py2.py3-none-any.whl (9.7 kB)\n",
            "Collecting async-generator>=1.9\n",
            "  Downloading async_generator-1.10-py3-none-any.whl (18 kB)\n",
            "Collecting wsproto>=0.14\n",
            "  Downloading wsproto-1.1.0-py3-none-any.whl (24 kB)\n",
            "Requirement already satisfied: PySocks!=1.5.7,<2.0,>=1.5.6 in /usr/local/lib/python3.7/dist-packages (from urllib3[secure,socks]~=1.26->selenium) (1.7.1)\n",
            "Requirement already satisfied: certifi in /usr/local/lib/python3.7/dist-packages (from urllib3[secure,socks]~=1.26->selenium) (2022.5.18.1)\n",
            "Collecting cryptography>=1.3.4\n",
            "  Downloading cryptography-37.0.2-cp36-abi3-manylinux_2_24_x86_64.whl (4.0 MB)\n",
            "\u001b[K     |████████████████████████████████| 4.0 MB 46.8 MB/s \n",
            "\u001b[?25hCollecting pyOpenSSL>=0.14\n",
            "  Downloading pyOpenSSL-22.0.0-py2.py3-none-any.whl (55 kB)\n",
            "\u001b[K     |████████████████████████████████| 55 kB 4.5 MB/s \n",
            "\u001b[?25hRequirement already satisfied: cffi>=1.12 in /usr/local/lib/python3.7/dist-packages (from cryptography>=1.3.4->urllib3[secure,socks]~=1.26->selenium) (1.15.0)\n",
            "Requirement already satisfied: pycparser in /usr/local/lib/python3.7/dist-packages (from cffi>=1.12->cryptography>=1.3.4->urllib3[secure,socks]~=1.26->selenium) (2.21)\n",
            "Collecting h11<1,>=0.9.0\n",
            "  Downloading h11-0.13.0-py3-none-any.whl (58 kB)\n",
            "\u001b[K     |████████████████████████████████| 58 kB 5.9 MB/s \n",
            "\u001b[?25hRequirement already satisfied: typing-extensions in /usr/local/lib/python3.7/dist-packages (from h11<1,>=0.9.0->wsproto>=0.14->trio-websocket~=0.9->selenium) (4.2.0)\n",
            "Installing collected packages: sniffio, outcome, h11, cryptography, async-generator, wsproto, urllib3, trio, pyOpenSSL, trio-websocket, selenium\n",
            "  Attempting uninstall: urllib3\n",
            "    Found existing installation: urllib3 1.24.3\n",
            "    Uninstalling urllib3-1.24.3:\n",
            "      Successfully uninstalled urllib3-1.24.3\n",
            "\u001b[31mERROR: pip's dependency resolver does not currently take into account all the packages that are installed. This behaviour is the source of the following dependency conflicts.\n",
            "requests 2.23.0 requires urllib3!=1.25.0,!=1.25.1,<1.26,>=1.21.1, but you have urllib3 1.26.9 which is incompatible.\n",
            "datascience 0.10.6 requires folium==0.2.1, but you have folium 0.8.3 which is incompatible.\u001b[0m\n",
            "Successfully installed async-generator-1.10 cryptography-37.0.2 h11-0.13.0 outcome-1.1.0 pyOpenSSL-22.0.0 selenium-4.2.0 sniffio-1.2.0 trio-0.20.0 trio-websocket-0.9.2 urllib3-1.26.9 wsproto-1.1.0\n",
            "Get:1 https://cloud.r-project.org/bin/linux/ubuntu bionic-cran40/ InRelease [3,626 B]\n",
            "Hit:2 https://developer.download.nvidia.com/compute/cuda/repos/ubuntu1804/x86_64  InRelease\n",
            "Get:3 http://ppa.launchpad.net/c2d4u.team/c2d4u4.0+/ubuntu bionic InRelease [15.9 kB]\n",
            "Hit:4 http://archive.ubuntu.com/ubuntu bionic InRelease\n",
            "Ign:5 https://developer.download.nvidia.com/compute/machine-learning/repos/ubuntu1804/x86_64  InRelease\n",
            "Hit:6 https://developer.download.nvidia.com/compute/machine-learning/repos/ubuntu1804/x86_64  Release\n",
            "Get:7 http://security.ubuntu.com/ubuntu bionic-security InRelease [88.7 kB]\n",
            "Get:8 http://archive.ubuntu.com/ubuntu bionic-updates InRelease [88.7 kB]\n",
            "Hit:9 http://ppa.launchpad.net/cran/libgit2/ubuntu bionic InRelease\n",
            "Get:10 http://archive.ubuntu.com/ubuntu bionic-backports InRelease [74.6 kB]\n",
            "Get:11 http://ppa.launchpad.net/deadsnakes/ppa/ubuntu bionic InRelease [15.9 kB]\n",
            "Hit:12 http://ppa.launchpad.net/graphics-drivers/ppa/ubuntu bionic InRelease\n",
            "Get:14 http://ppa.launchpad.net/c2d4u.team/c2d4u4.0+/ubuntu bionic/main Sources [1,992 kB]\n",
            "Get:15 http://security.ubuntu.com/ubuntu bionic-security/main amd64 Packages [2,799 kB]\n",
            "Get:16 http://archive.ubuntu.com/ubuntu bionic-updates/universe amd64 Packages [2,286 kB]\n",
            "Get:17 http://ppa.launchpad.net/c2d4u.team/c2d4u4.0+/ubuntu bionic/main amd64 Packages [1,021 kB]\n",
            "Get:18 http://security.ubuntu.com/ubuntu bionic-security/universe amd64 Packages [1,512 kB]\n",
            "Get:19 http://archive.ubuntu.com/ubuntu bionic-updates/main amd64 Packages [3,231 kB]\n",
            "Get:20 http://ppa.launchpad.net/deadsnakes/ppa/ubuntu bionic/main amd64 Packages [45.3 kB]\n",
            "Fetched 13.2 MB in 3s (4,042 kB/s)\n",
            "Reading package lists... Done\n",
            "Reading package lists... Done\n",
            "Building dependency tree       \n",
            "Reading state information... Done\n",
            "The following package was automatically installed and is no longer required:\n",
            "  libnvidia-common-460\n",
            "Use 'apt autoremove' to remove it.\n",
            "The following additional packages will be installed:\n",
            "  chromium-browser chromium-browser-l10n chromium-codecs-ffmpeg-extra\n",
            "Suggested packages:\n",
            "  webaccounts-chromium-extension unity-chromium-extension\n",
            "The following NEW packages will be installed:\n",
            "  chromium-browser chromium-browser-l10n chromium-chromedriver\n",
            "  chromium-codecs-ffmpeg-extra\n",
            "0 upgraded, 4 newly installed, 0 to remove and 45 not upgraded.\n",
            "Need to get 89.8 MB of archives.\n",
            "After this operation, 302 MB of additional disk space will be used.\n",
            "Get:1 http://archive.ubuntu.com/ubuntu bionic-updates/universe amd64 chromium-codecs-ffmpeg-extra amd64 101.0.4951.64-0ubuntu0.18.04.1 [1,142 kB]\n",
            "Get:2 http://archive.ubuntu.com/ubuntu bionic-updates/universe amd64 chromium-browser amd64 101.0.4951.64-0ubuntu0.18.04.1 [78.5 MB]\n",
            "Get:3 http://archive.ubuntu.com/ubuntu bionic-updates/universe amd64 chromium-browser-l10n all 101.0.4951.64-0ubuntu0.18.04.1 [4,980 kB]\n",
            "Get:4 http://archive.ubuntu.com/ubuntu bionic-updates/universe amd64 chromium-chromedriver amd64 101.0.4951.64-0ubuntu0.18.04.1 [5,153 kB]\n",
            "Fetched 89.8 MB in 3s (28.3 MB/s)\n",
            "Selecting previously unselected package chromium-codecs-ffmpeg-extra.\n",
            "(Reading database ... 155632 files and directories currently installed.)\n",
            "Preparing to unpack .../chromium-codecs-ffmpeg-extra_101.0.4951.64-0ubuntu0.18.04.1_amd64.deb ...\n",
            "Unpacking chromium-codecs-ffmpeg-extra (101.0.4951.64-0ubuntu0.18.04.1) ...\n",
            "Selecting previously unselected package chromium-browser.\n",
            "Preparing to unpack .../chromium-browser_101.0.4951.64-0ubuntu0.18.04.1_amd64.deb ...\n",
            "Unpacking chromium-browser (101.0.4951.64-0ubuntu0.18.04.1) ...\n",
            "Selecting previously unselected package chromium-browser-l10n.\n",
            "Preparing to unpack .../chromium-browser-l10n_101.0.4951.64-0ubuntu0.18.04.1_all.deb ...\n",
            "Unpacking chromium-browser-l10n (101.0.4951.64-0ubuntu0.18.04.1) ...\n"
          ]
        }
      ],
      "source": [
        "!pip install selenium\n",
        "!apt-get update\n",
        "!apt install chromium-chromedriver"
      ],
      "id": "4lvLpEA20vzC"
    },
    {
      "cell_type": "code",
      "execution_count": null,
      "metadata": {
        "id": "9ffd42b6",
        "scrolled": true
      },
      "outputs": [],
      "source": [
        "from selenium import webdriver\n",
        "from selenium.webdriver.common.by import By\n",
        "from tqdm import tqdm\n",
        "\n",
        "chrome_options = webdriver.ChromeOptions()\n",
        "chrome_options.add_argument('--headless')\n",
        "chrome_options.add_argument('--no-sandbox')\n",
        "chrome_options.add_argument('--disable-dev-shm-usage')\n",
        "driver = webdriver.Chrome('chromedriver', chrome_options=chrome_options)"
      ],
      "id": "9ffd42b6"
    },
    {
      "cell_type": "code",
      "execution_count": null,
      "metadata": {
        "id": "fa7d3dc4"
      },
      "outputs": [],
      "source": [
        "corp = \"SK하이닉스\"\n",
        "url = \"https://www.jobplanet.co.kr/companies/20561/reviews/%EC%97%90%EC%8A%A4%EC%BC%80%EC%9D%B4%ED%95%98%EC%9D%B4%EB%8B%89%EC%8A%A4\""
      ],
      "id": "fa7d3dc4"
    },
    {
      "cell_type": "code",
      "execution_count": null,
      "metadata": {
        "id": "452a4909"
      },
      "outputs": [],
      "source": [
        "# url 들어가기\n",
        "driver.get(url)\n",
        "driver.implicitly_wait(10) # 페이지가 전부 로딩될때까지 최대 10초 기다리기"
      ],
      "id": "452a4909"
    },
    {
      "cell_type": "code",
      "execution_count": null,
      "metadata": {
        "id": "aff3776c"
      },
      "outputs": [],
      "source": [
        "# 팝업 창이 뜨면 끄기 \n",
        "try:\n",
        "    driver.find_element(By.CLASS_NAME, \"btn_close_x_ty1\").click() \n",
        "except:\n",
        "    pass"
      ],
      "id": "aff3776c"
    },
    {
      "cell_type": "code",
      "execution_count": null,
      "metadata": {
        "id": "4ea58a5a"
      },
      "outputs": [],
      "source": [
        "review_list = driver.find_elements(By.CLASS_NAME, \"content_wrap\")"
      ],
      "id": "4ea58a5a"
    },
    {
      "cell_type": "code",
      "execution_count": null,
      "metadata": {
        "id": "8b76971f"
      },
      "outputs": [],
      "source": [
        "review = review_list[0]"
      ],
      "id": "8b76971f"
    },
    {
      "cell_type": "code",
      "execution_count": null,
      "metadata": {
        "id": "46d8a898"
      },
      "outputs": [],
      "source": [
        "date = review.find_elements(By.CLASS_NAME, \"txt1\")[-1].get_attribute('innerHTML')\n",
        "print(date)"
      ],
      "id": "46d8a898"
    },
    {
      "cell_type": "code",
      "execution_count": null,
      "metadata": {
        "id": "d220affe"
      },
      "outputs": [],
      "source": [
        "score_list = review.find_element(By.CLASS_NAME, \"ctbody_lft\") "
      ],
      "id": "d220affe"
    },
    {
      "cell_type": "code",
      "execution_count": null,
      "metadata": {
        "id": "a9fd7e41"
      },
      "outputs": [],
      "source": [
        "star_score = score_list.find_element(By.CLASS_NAME, \"star_score\").get_attribute('style')\n",
        "print(star_score)"
      ],
      "id": "a9fd7e41"
    },
    {
      "cell_type": "code",
      "execution_count": null,
      "metadata": {
        "id": "46777149"
      },
      "outputs": [],
      "source": [
        "# 항목별 평점\n",
        "bl_score_list = score_list.find_elements(By.CLASS_NAME, \"bl_score\")\n",
        "welfare_salary = bl_score_list[0].get_attribute(\"style\")\n",
        "work_life_balance = bl_score_list[1].get_attribute(\"style\")\n",
        "culture = bl_score_list[2].get_attribute(\"style\")\n",
        "promotion_opp = bl_score_list[3].get_attribute(\"style\")\n",
        "management = bl_score_list[4].get_attribute(\"style\")\n",
        "print(welfare_salary, work_life_balance, culture, promotion_opp, management)"
      ],
      "id": "46777149"
    },
    {
      "cell_type": "code",
      "execution_count": null,
      "metadata": {
        "id": "ba71b039"
      },
      "outputs": [],
      "source": [
        "def convert_width_to_score(width):\n",
        "    width_percent = int(width.split(' ')[1][:-2])\n",
        "    score = int(width_percent / 20)\n",
        "    return score"
      ],
      "id": "ba71b039"
    },
    {
      "cell_type": "code",
      "execution_count": null,
      "metadata": {
        "id": "49f633be"
      },
      "outputs": [],
      "source": [
        "print(convert_width_to_score(star_score))"
      ],
      "id": "49f633be"
    },
    {
      "cell_type": "code",
      "execution_count": null,
      "metadata": {
        "id": "e232734c"
      },
      "outputs": [],
      "source": [
        "def extract_score_from_review(review):\n",
        "    # 출력 초기화\n",
        "    output = []\n",
        "    # 리뷰에서 평점과 관련된 부분만 가져오기\n",
        "    score_list = review.find_element(By.CLASS_NAME, \"ctbody_lft\")\n",
        "    # 총 평점 가져와서 추가\n",
        "    star_score = score_list.find_element(By.CLASS_NAME, \"star_score\").get_attribute('style')\n",
        "    output.append(convert_width_to_score(star_score))\n",
        "    # 항목별 평점 가져와서 추가\n",
        "    other_score_elements = score_list.find_elements(By.CLASS_NAME, \"bl_score\")\n",
        "    for element in other_score_elements:\n",
        "        output.append(convert_width_to_score(element.get_attribute(\"style\")))\n",
        "    return output"
      ],
      "id": "e232734c"
    },
    {
      "cell_type": "code",
      "execution_count": null,
      "metadata": {
        "id": "f97cd5d8"
      },
      "outputs": [],
      "source": [
        "print(extract_score_from_review(review))"
      ],
      "id": "f97cd5d8"
    },
    {
      "cell_type": "markdown",
      "metadata": {
        "id": "58116e1c"
      },
      "source": [
        "### 전체 리뷰 크롤링"
      ],
      "id": "58116e1c"
    },
    {
      "cell_type": "markdown",
      "metadata": {
        "id": "2e887f8c"
      },
      "source": [
        "#### 전체 페이지 수 획득"
      ],
      "id": "2e887f8c"
    },
    {
      "cell_type": "code",
      "execution_count": null,
      "metadata": {
        "id": "bce44083"
      },
      "outputs": [],
      "source": [
        "btn_pglast = driver.find_element(By.CLASS_NAME, \"btn_pglast\")\n",
        "num_pages = int(btn_pglast.get_attribute(\"href\").split('=')[1])"
      ],
      "id": "bce44083"
    },
    {
      "cell_type": "markdown",
      "metadata": {
        "id": "6ca989da"
      },
      "source": [
        "#### 다음 페이지로 이동"
      ],
      "id": "6ca989da"
    },
    {
      "cell_type": "code",
      "execution_count": null,
      "metadata": {
        "id": "d71f3b91"
      },
      "outputs": [],
      "source": [
        "import time\n",
        "def get_url(driver, url):\n",
        "    while True:\n",
        "        try:\n",
        "            driver.get(url)\n",
        "            driver.implicitly_wait(10) # 페이지가 전부 로딩될때까지 최대 10초 기다리기\n",
        "            break\n",
        "        except:\n",
        "            driver.close()\n",
        "            chrome_options = webdriver.ChromeOptions()\n",
        "            chrome_options.add_argument('--headless')\n",
        "            chrome_options.add_argument('--no-sandbox')\n",
        "            chrome_options.add_argument('--disable-dev-shm-usage')\n",
        "            driver = webdriver.Chrome('chromedriver', chrome_options=chrome_options)\n",
        "            time.sleep(60)"
      ],
      "id": "d71f3b91"
    },
    {
      "cell_type": "markdown",
      "metadata": {
        "id": "bcc1820d"
      },
      "source": [
        "#### 리뷰 수집\n",
        "- 시간이 좀 걸립니다."
      ],
      "id": "bcc1820d"
    },
    {
      "cell_type": "code",
      "execution_count": null,
      "metadata": {
        "id": "AeZrJW4MFN14"
      },
      "outputs": [],
      "source": [
        "import numpy as np\n",
        "np.min([1,3])"
      ],
      "id": "AeZrJW4MFN14"
    },
    {
      "cell_type": "code",
      "execution_count": null,
      "metadata": {
        "id": "685f14a2",
        "scrolled": true
      },
      "outputs": [],
      "source": [
        "import pandas as pd\n",
        "input_data = pd.read_excel(\"데이터/종목별_잡플래닛url.xlsx\")\n",
        "data = [] \n",
        "\n",
        "for corp, url in input_data[['종목명', 'URL']].iloc[:10].values:\n",
        "    # 초기 url 들어가기\n",
        "    get_url(driver, url)\n",
        "    # 전체 페이지 수 계산\n",
        "    btn_pglast = driver.find_element(By.CLASS_NAME, \"btn_pglast\")\n",
        "    num_pages = int(btn_pglast.get_attribute(\"href\").split('=')[1])\n",
        "    # 페이지 순회 시작\n",
        "    # for page in range(num_pages - 1):\n",
        "    for page in range(np.min(30, num_pages - 1)):\n",
        "        print(\"{}:{}/{}\".format(corp, page+1, num_pages))\n",
        "        current_url = url + \"?page={}\".format(page+1)\n",
        "        get_url(driver, current_url)\n",
        "\n",
        "        # 팝업 창이 뜨면 끄기 \n",
        "        try:\n",
        "            driver.find_element(By.CLASS_NAME, \"btn_close_x_ty1\").click()\n",
        "            time.sleep(0.5)\n",
        "        except:\n",
        "            pass\n",
        "        \n",
        "        # 현재 페이지에서 데이터 가져오기\n",
        "        while True:\n",
        "            time.sleep(0.5)\n",
        "            try:\n",
        "                temp = []\n",
        "                review_list = driver.find_elements(By.CLASS_NAME, \"content_wrap\")\n",
        "                for review in review_list:\n",
        "                    date = review.find_elements(By.CLASS_NAME, \"txt1\")[-1].get_attribute('innerHTML')\n",
        "                    score = extract_score_from_review(review)\n",
        "                    record = [corp, date] + score # score는 리스트임\n",
        "                    temp.append(record)\n",
        "                data += temp\n",
        "                break\n",
        "            except:\n",
        "                driver.close()\n",
        "                chrome_options = webdriver.ChromeOptions()\n",
        "                chrome_options.add_argument('--headless')\n",
        "                chrome_options.add_argument('--no-sandbox')\n",
        "                chrome_options.add_argument('--disable-dev-shm-usage')\n",
        "                driver = webdriver.Chrome('chromedriver', chrome_options=chrome_options)\n",
        "                get_url(driver, current_url)\n",
        "                time.sleep(60)\n",
        "\n",
        "data = pd.DataFrame(data, columns = [\"기업\", \"날짜\", \"전체평점\", \"승진기회및가능성\", \"복지및급여\", \"업무와삶의균형\", \"사내문화\", \"경영진\"])"
      ],
      "id": "685f14a2"
    },
    {
      "cell_type": "code",
      "execution_count": null,
      "metadata": {
        "id": "c5a885b1"
      },
      "outputs": [],
      "source": [
        "display(data.head())"
      ],
      "id": "c5a885b1"
    },
    {
      "cell_type": "code",
      "execution_count": null,
      "metadata": {
        "id": "0ecd922e"
      },
      "outputs": [],
      "source": [
        "# 데이터 정제\n",
        "data = data.groupby(['기업', '날짜'], as_index = False)[[\"전체평점\", \"승진기회및가능성\", \"복지및급여\", \"업무와삶의균형\", \"사내문화\", \"경영진\"]].mean()\n",
        "data.sort_values(by = ['기업', '날짜'], inplace = True)\n",
        "display(data.head(10))"
      ],
      "id": "0ecd922e"
    },
    {
      "cell_type": "code",
      "execution_count": null,
      "metadata": {
        "id": "c714dd8c"
      },
      "outputs": [],
      "source": [
        "# data.to_csv(\"데이터/기업월별평점.csv\", index = False, encoding = \"euc-kr\")"
      ],
      "id": "c714dd8c"
    },
    {
      "cell_type": "code",
      "execution_count": null,
      "metadata": {
        "id": "d35cf4db"
      },
      "outputs": [],
      "source": [
        "data"
      ],
      "id": "d35cf4db"
    },
    {
      "cell_type": "code",
      "execution_count": null,
      "metadata": {
        "id": "271fca14"
      },
      "outputs": [],
      "source": [
        ""
      ],
      "id": "271fca14"
    }
  ],
  "metadata": {
    "kernelspec": {
      "display_name": "Python 3",
      "language": "python",
      "name": "python3"
    },
    "language_info": {
      "codemirror_mode": {
        "name": "ipython",
        "version": 3
      },
      "file_extension": ".py",
      "mimetype": "text/x-python",
      "name": "python",
      "nbconvert_exporter": "python",
      "pygments_lexer": "ipython3",
      "version": "3.8.5"
    },
    "colab": {
      "name": "Lecture: Crawler.ipynb",
      "provenance": [],
      "collapsed_sections": [
        "dl7vQq8KLyTN",
        "2JECBEteMJcR",
        "EkznH0slMNIS"
      ],
      "include_colab_link": true
    }
  },
  "nbformat": 4,
  "nbformat_minor": 5
}