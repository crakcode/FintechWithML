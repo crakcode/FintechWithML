{
  "nbformat": 4,
  "nbformat_minor": 0,
  "metadata": {
    "colab": {
      "name": "Crawilng_BS.ipynb",
      "provenance": [],
      "collapsed_sections": [],
      "toc_visible": true,
      "authorship_tag": "ABX9TyOLnhLxnzrD8/6zpGw9CkVb",
      "include_colab_link": true
    },
    "kernelspec": {
      "name": "python3",
      "display_name": "Python 3"
    },
    "language_info": {
      "name": "python"
    }
  },
  "cells": [
    {
      "cell_type": "markdown",
      "metadata": {
        "id": "view-in-github",
        "colab_type": "text"
      },
      "source": [
        "<a href=\"https://colab.research.google.com/github/crakcode/ML_Fintech/blob/main/Crawilng_BS.ipynb\" target=\"_parent\"><img src=\"https://colab.research.google.com/assets/colab-badge.svg\" alt=\"Open In Colab\"/></a>"
      ]
    },
    {
      "cell_type": "markdown",
      "source": [
        "# Beautiful Soup 사용한 크롤링"
      ],
      "metadata": {
        "id": "wmKcfWWRfuwQ"
      }
    },
    {
      "cell_type": "markdown",
      "source": [
        "## 네이버 기사 크롤링"
      ],
      "metadata": {
        "id": "GPuMvuQifxxx"
      }
    },
    {
      "cell_type": "code",
      "execution_count": null,
      "metadata": {
        "id": "f03823e0"
      },
      "outputs": [],
      "source": [
        "import requests\n",
        "from bs4 import BeautifulSoup as bs\n",
        "header={'User-agent': 'Mozila/2.0'}\n",
        "\n",
        "response = requests.get(\"https://search.naver.com/search.naver?where=news&sm=tab_jum&query=삼성전자\",\n",
        "                       headers=header)  # 한글 url이 인코딩되어 있음\n",
        "html = response.text\n"
      ]
    },
    {
      "cell_type": "code",
      "execution_count": 23,
      "metadata": {
        "colab": {
          "base_uri": "https://localhost:8080/"
        },
        "id": "43109cb2",
        "outputId": "684a297d-bd85-4cbd-f56d-320cc119c210"
      },
      "outputs": [
        {
          "output_type": "stream",
          "name": "stdout",
          "text": [
            "삼성전자, '임금피크제 폐지' 요구에 \"합리적이고 정당하게 운영중\"\n",
            "삼성전자 스마트 TV로 엑스박스 클라우드 게임 즐긴다\n",
            "[단독] 해외 출장 삼성 사장단… \"이번에 큰 일 했다\"\n",
            "삼성전자 \"과도한 압수수색\"…법원에 '이의제기'했다\n",
            "삼성전자, 결국 한달 반만에 신저가 경신\n",
            "삼성전자, 6만3800원까지 하락…또 신저가 깨져\n",
            "‘6만전자’도 위태위태…삼성전자, 6주 만에 신저가\n",
            "3주 만에 무너진 2600선…삼성전자 '신저가'\n",
            "'코스피 2600 이탈' 마감.. 삼성전자 2.16% 급락\n",
            "'무보수 경영' 이재용 삼성 부회장, 광복절 사면 가능성↑\n",
            "[<a class=\"news_tit\" href=\"https://www.yna.co.kr/view/AKR20220610072400003?input=1195m\" onclick=\"return goOtherCR(this, 'a=nws*a.tit&amp;r=1&amp;i=880000D8_000000000000000013238053&amp;g=001.0013238053&amp;u='+urlencode(this.href));\" target=\"_blank\" title=\"삼성전자, '임금피크제 폐지' 요구에 &quot;합리적이고 정당하게 운영중&quot;\"><mark>삼성전자</mark>, '임금피크제 폐지' 요구에 \"합리적이고 정당하게 운영중\"</a>, <a class=\"news_tit\" href=\"http://moneys.mt.co.kr/news/mwView.php?no=2022061008040713044\" onclick=\"return goOtherCR(this, 'a=nws*h.tit&amp;r=6&amp;i=8812805E_000000000000000000821117&amp;g=417.0000821117&amp;u='+urlencode(this.href));\" target=\"_blank\" title=\"삼성전자 스마트 TV로 엑스박스 클라우드 게임 즐긴다\"><mark>삼성전자</mark> 스마트 TV로 엑스박스 클라우드 게임 즐긴다</a>, <a class=\"news_tit\" href=\"https://www.sedaily.com/NewsView/2677D4GMSL\" onclick=\"return goOtherCR(this, 'a=nws*e.tit&amp;r=11&amp;i=88000108_000000000000000004063822&amp;g=011.0004063822&amp;u='+urlencode(this.href));\" target=\"_blank\" title='[단독] 해외 출장 삼성 사장단… \"이번에 큰 일 했다\"'>[단독] 해외 출장 <mark>삼성</mark> 사장단… \"이번에 큰 일 했다\"</a>, <a class=\"news_tit\" href=\"https://news.jtbc.joins.com/article/article.aspx?news_id=NB12062129\" onclick=\"return goOtherCR(this, 'a=nws*h.tit&amp;r=12&amp;i=08138260_000000000000000000301786&amp;g=437.0000301786&amp;u='+urlencode(this.href));\" target=\"_blank\" title=\"삼성전자 &quot;과도한 압수수색&quot;…법원에 '이의제기'했다\"><mark>삼성전자</mark> \"과도한 압수수색\"…법원에 '이의제기'했다</a>, <a class=\"news_tit\" href=\"https://www.hankyung.com/finance/article/2022061014337\" onclick=\"return goOtherCR(this, 'a=nws*a.tit&amp;r=14&amp;i=88000107_000000000000000004709862&amp;g=015.0004709862&amp;u='+urlencode(this.href));\" target=\"_blank\" title=\"삼성전자, 결국 한달 반만에 신저가 경신\"><mark>삼성전자</mark>, 결국 한달 반만에 신저가 경신</a>, <a class=\"news_tit\" href=\"http://www.newsis.com/view/?id=NISX20220610_0001902758&amp;cID=10401&amp;pID=10400\" onclick=\"return goOtherCR(this, 'a=nws*j.tit&amp;r=16&amp;i=88000127_000000000000000011239457&amp;g=003.0011239457&amp;u='+urlencode(this.href));\" target=\"_blank\" title=\"삼성전자, 6만3800원까지 하락…또 신저가 깨져\"><mark>삼성전자</mark>, 6만3800원까지 하락…또 신저가 깨져</a>, <a class=\"news_tit\" href=\"https://news.kmib.co.kr/article/view.asp?arcid=0017166762&amp;code=61141211&amp;cp=nv\" onclick=\"return goOtherCR(this, 'a=nws*a.tit&amp;r=17&amp;i=8800006F_000000000000000001532262&amp;g=005.0001532262&amp;u='+urlencode(this.href));\" target=\"_blank\" title=\"‘6만전자’도 위태위태…삼성전자, 6주 만에 신저가\">‘6만<mark>전자</mark>’도 위태위태…<mark>삼성전자</mark>, 6주 만에 신저가</a>, <a class=\"news_tit\" href=\"http://www.wowtv.co.kr/NewsCenter/News/Read?articleId=A202206100250&amp;t=NN\" onclick=\"return goOtherCR(this, 'a=nws*j.tit&amp;r=20&amp;i=88000149_000000000000000001036614&amp;g=215.0001036614&amp;u='+urlencode(this.href));\" target=\"_blank\" title=\"3주 만에 무너진 2600선…삼성전자 '신저가'\">3주 만에 무너진 2600선…<mark>삼성전자</mark> '신저가'</a>, <a class=\"news_tit\" href=\"https://view.asiae.co.kr/article/2022061015530874392\" onclick=\"return goOtherCR(this, 'a=nws*j.tit&amp;r=21&amp;i=88000385_000000000000000005101597&amp;g=277.0005101597&amp;u='+urlencode(this.href));\" target=\"_blank\" title=\"'코스피 2600 이탈' 마감.. 삼성전자 2.16% 급락\">'코스피 2600 이탈' 마감.. <mark>삼성전자</mark> 2.16% 급락</a>, <a class=\"news_tit\" href=\"http://www.newsis.com/view/?id=NISX20220610_0001902957&amp;cID=13001&amp;pID=13000\" onclick=\"return goOtherCR(this, 'a=nws*j.tit&amp;r=22&amp;i=88000127_000000000000000011239770&amp;g=003.0011239770&amp;u='+urlencode(this.href));\" target=\"_blank\" title=\"'무보수 경영' 이재용 삼성 부회장, 광복절 사면 가능성↑\">'무보수 경영' 이재용 <mark>삼성</mark> 부회장, 광복절 사면 가능성↑</a>]\n"
          ]
        }
      ],
      "source": [
        "\n",
        "# select를 사용하면 .을 하나만 입력하면 된다. 경로를 따라간다고 생각하면된다. \n",
        "soup=bs(html, 'html.parser')\n",
        "links = soup.select(\".news_tit\")  #결과가 리스트\n",
        "for i in links:\n",
        "  print(i.attrs['title'])\n",
        "# print(links)\n",
        "\n",
        "# 위의 것과 동치이다. \n",
        "links=soup.find_all(\"a\",attrs={\"class\":\"news_tit\"})\n",
        "# print(links)"
      ]
    },
    {
      "cell_type": "code",
      "source": [
        "import pandas as pd\n",
        "tit_list=[] \n",
        "url_list=[]\n",
        "for link in links:\n",
        "    title= link.text # 태그 안의 텍스트\n",
        "    url = link.attrs['href'] # href의 속성값\n",
        "    print(title, url)\n",
        "    tit_list.append(title)\n",
        "    url_list.append(url)\n",
        "df=pd.DataFrame({\"title\": tit_list, \"url\":url_list})\n",
        "df.head()\n",
        "\n",
        "\n"
      ],
      "metadata": {
        "id": "wkpA_MwKDeF_"
      },
      "execution_count": null,
      "outputs": []
    },
    {
      "cell_type": "markdown",
      "source": [
        "## 키워드 검색하여 크롤링"
      ],
      "metadata": {
        "id": "ROEcSi0pgdWh"
      }
    },
    {
      "cell_type": "code",
      "execution_count": null,
      "metadata": {
        "id": "d21b8994"
      },
      "outputs": [],
      "source": [
        "keyword =input(\"검색어를 입력하세요>>>\")\n",
        "\n",
        "response = requests.get(\"https://search.naver.com/search.naver?where=news&sm=tab_jum&query=\" + keyword,\n",
        "                       headers=header)  # 한글 url이 인코딩되어 있음\n",
        "html = response.text\n",
        "soup=bs(html, 'html.parser')\n",
        "\n",
        "links = soup.select(\".news_tit\")  #결과가 리스트\n",
        "tit_list=[] \n",
        "url_list=[]\n",
        "for link in links:\n",
        "    title= link.text # 태그 안의 텍스트\n",
        "    url = link.attrs['href'] # href의 속성값\n",
        "    #print(title, url)\n",
        "    tit_list.append(title)\n",
        "    url_list.append(url)\n",
        "df=pd.DataFrame({\"title\": tit_list, \"url\":url_list})\n",
        "df.head()\n"
      ]
    },
    {
      "cell_type": "markdown",
      "source": [
        "## 페이지별로 크롤링 "
      ],
      "metadata": {
        "id": "w2Z7vowjghUJ"
      }
    },
    {
      "cell_type": "code",
      "source": [
        "keyword=input(\"검색어를 입력하세요\")\n",
        "end=int(input())\n",
        "tit_list=[] \n",
        "url_list=[]\n",
        "for i in range(end):\n",
        "  response = requests.get(\"https://search.naver.com/search.naver?where=news&sm=tab_jum&query={}&start={}\".format(keyword,i),\n",
        "                       headers=header)  # 한글 url이 인코딩되어 있음\n",
        "  html = response.text\n",
        "  soup=bs(html, 'html.parser')\n",
        "\n",
        "  links = soup.select(\".news_tit\")  #결과가 리스트\n",
        "  for link in links:\n",
        "      title= link.text # 태그 안의 텍스트\n",
        "      url = link.attrs['href'] # href의 속성값\n",
        "      tit_list.append(title)\n",
        "      url_list.append(url)\n",
        "df=pd.DataFrame({\"title\": tit_list, \"url\":url_list})\n",
        "print(df)\n"
      ],
      "metadata": {
        "id": "iW9NzHcTbwGU"
      },
      "execution_count": null,
      "outputs": []
    },
    {
      "cell_type": "markdown",
      "source": [
        "## 여러 페이지 결과 조회"
      ],
      "metadata": {
        "id": "52d5623c"
      }
    },
    {
      "cell_type": "code",
      "execution_count": null,
      "metadata": {
        "id": "673eb8a2"
      },
      "outputs": [],
      "source": [
        "keyword =input(\"검색어를 입력하세요\")\n",
        "pageNum=1\n",
        "\n",
        "tit_list=[] \n",
        "url_list=[]\n",
        "for i in range(1,30, 10):\n",
        "    print(f\"{pageNum}페이지입니다.==============\")\n",
        "    response = requests.get(f\"https://search.naver.com/search.naver?where=news&sm=tab_jum&query={keyword}&start={i}\",\n",
        "                           headers=header)  # 한글 url이 인코딩되어 있음\n",
        "    html = response.text\n",
        "    soup=bs(html, 'html.parser')\n",
        "    links = soup.select(\".news_tit\")  #결과가 리스트\n",
        "    for link in links:\n",
        "        title= link.text # 태그 안의 텍스트\n",
        "        url = link.attrs['href'] # href의 속성값\n",
        "        print(title, url)\n",
        "        tit_list.append(title)\n",
        "        url_list.append(url)\n",
        "    pageNum= pageNum+1\n",
        "df=pd.DataFrame({\"title\": tit_list, \"url\":url_list})\n",
        "df"
      ]
    },
    {
      "cell_type": "code",
      "execution_count": null,
      "metadata": {
        "id": "15d52a00"
      },
      "outputs": [],
      "source": [
        "\n",
        "keyword =input(\"검색어를 입력하세요\")\n",
        "lastpage =input(\"마지막 페이지를 입력하세요\")\n",
        "\n",
        "pageNum=1\n",
        "\n",
        "tit_list=[] \n",
        "url_list=[]\n",
        "for i in range(1,int(lastpage)*10, 10):\n",
        "    print(f\"{pageNum}페이지입니다.==============\")\n",
        "    response = requests.get(f\"https://search.naver.com/search.naver?where=news&sm=tab_jum&query={keyword}&start={i}\",\n",
        "                           headers=header)  # 한글 url이 인코딩되어 있음\n",
        "    html = response.text\n",
        "    soup=bs(html, 'html.parser')\n",
        "    links = soup.select(\".news_tit\")  #결과가 리스트\n",
        "    for link in links:\n",
        "        title= link.text # 태그 안의 텍스트\n",
        "        url = link.attrs['href'] # href의 속성값\n",
        "        print(title, url)\n",
        "        tit_list.append(title)\n",
        "        url_list.append(url)\n",
        "    pageNum= pageNum+1\n",
        "df=pd.DataFrame({\"title\": tit_list, \"url\":url_list})\n",
        "df"
      ]
    },
    {
      "cell_type": "code",
      "execution_count": null,
      "metadata": {
        "id": "d03f2cbd"
      },
      "outputs": [],
      "source": [
        ""
      ]
    }
  ]
}